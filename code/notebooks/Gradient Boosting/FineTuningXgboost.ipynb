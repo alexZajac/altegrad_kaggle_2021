{
  "nbformat": 4,
  "nbformat_minor": 0,
  "metadata": {
    "colab": {
      "name": "xgboost_a_la_francaise.ipynb",
      "provenance": [],
      "collapsed_sections": [],
      "toc_visible": true
    },
    "kernelspec": {
      "name": "python3",
      "display_name": "Python 3"
    },
    "widgets": {
      "application/vnd.jupyter.widget-state+json": {
        "b9bd8c0efcee4777a6139d3203a4649d": {
          "model_module": "@jupyter-widgets/controls",
          "model_name": "HBoxModel",
          "state": {
            "_view_name": "HBoxView",
            "_dom_classes": [],
            "_model_name": "HBoxModel",
            "_view_module": "@jupyter-widgets/controls",
            "_model_module_version": "1.5.0",
            "_view_count": null,
            "_view_module_version": "1.5.0",
            "box_style": "",
            "layout": "IPY_MODEL_7585066a0788405b9f4c176b2d97989d",
            "_model_module": "@jupyter-widgets/controls",
            "children": [
              "IPY_MODEL_88ba955547f04bffaec0f6471260ecf7",
              "IPY_MODEL_b7cc0a46a6c348ffbbffc631989822fa"
            ]
          }
        },
        "7585066a0788405b9f4c176b2d97989d": {
          "model_module": "@jupyter-widgets/base",
          "model_name": "LayoutModel",
          "state": {
            "_view_name": "LayoutView",
            "grid_template_rows": null,
            "right": null,
            "justify_content": null,
            "_view_module": "@jupyter-widgets/base",
            "overflow": null,
            "_model_module_version": "1.2.0",
            "_view_count": null,
            "flex_flow": null,
            "width": null,
            "min_width": null,
            "border": null,
            "align_items": null,
            "bottom": null,
            "_model_module": "@jupyter-widgets/base",
            "top": null,
            "grid_column": null,
            "overflow_y": null,
            "overflow_x": null,
            "grid_auto_flow": null,
            "grid_area": null,
            "grid_template_columns": null,
            "flex": null,
            "_model_name": "LayoutModel",
            "justify_items": null,
            "grid_row": null,
            "max_height": null,
            "align_content": null,
            "visibility": null,
            "align_self": null,
            "height": null,
            "min_height": null,
            "padding": null,
            "grid_auto_rows": null,
            "grid_gap": null,
            "max_width": null,
            "order": null,
            "_view_module_version": "1.2.0",
            "grid_template_areas": null,
            "object_position": null,
            "object_fit": null,
            "grid_auto_columns": null,
            "margin": null,
            "display": null,
            "left": null
          }
        },
        "88ba955547f04bffaec0f6471260ecf7": {
          "model_module": "@jupyter-widgets/controls",
          "model_name": "FloatProgressModel",
          "state": {
            "_view_name": "ProgressView",
            "style": "IPY_MODEL_37248ae2b8be4a9e962bff42320dd262",
            "_dom_classes": [],
            "description": "100%",
            "_model_name": "FloatProgressModel",
            "bar_style": "success",
            "max": 231239,
            "_view_module": "@jupyter-widgets/controls",
            "_model_module_version": "1.5.0",
            "value": 231239,
            "_view_count": null,
            "_view_module_version": "1.5.0",
            "orientation": "horizontal",
            "min": 0,
            "description_tooltip": null,
            "_model_module": "@jupyter-widgets/controls",
            "layout": "IPY_MODEL_471ccdf20bba4591ae5b9905510f51fc"
          }
        },
        "b7cc0a46a6c348ffbbffc631989822fa": {
          "model_module": "@jupyter-widgets/controls",
          "model_name": "HTMLModel",
          "state": {
            "_view_name": "HTMLView",
            "style": "IPY_MODEL_6b20e94025d7495a9f0db3dd0c35350e",
            "_dom_classes": [],
            "description": "",
            "_model_name": "HTMLModel",
            "placeholder": "​",
            "_view_module": "@jupyter-widgets/controls",
            "_model_module_version": "1.5.0",
            "value": " 231239/231239 [01:05&lt;00:00, 3547.65it/s]",
            "_view_count": null,
            "_view_module_version": "1.5.0",
            "description_tooltip": null,
            "_model_module": "@jupyter-widgets/controls",
            "layout": "IPY_MODEL_0c43e7d900c54810a65473feb0b28b43"
          }
        },
        "37248ae2b8be4a9e962bff42320dd262": {
          "model_module": "@jupyter-widgets/controls",
          "model_name": "ProgressStyleModel",
          "state": {
            "_view_name": "StyleView",
            "_model_name": "ProgressStyleModel",
            "description_width": "initial",
            "_view_module": "@jupyter-widgets/base",
            "_model_module_version": "1.5.0",
            "_view_count": null,
            "_view_module_version": "1.2.0",
            "bar_color": null,
            "_model_module": "@jupyter-widgets/controls"
          }
        },
        "471ccdf20bba4591ae5b9905510f51fc": {
          "model_module": "@jupyter-widgets/base",
          "model_name": "LayoutModel",
          "state": {
            "_view_name": "LayoutView",
            "grid_template_rows": null,
            "right": null,
            "justify_content": null,
            "_view_module": "@jupyter-widgets/base",
            "overflow": null,
            "_model_module_version": "1.2.0",
            "_view_count": null,
            "flex_flow": null,
            "width": null,
            "min_width": null,
            "border": null,
            "align_items": null,
            "bottom": null,
            "_model_module": "@jupyter-widgets/base",
            "top": null,
            "grid_column": null,
            "overflow_y": null,
            "overflow_x": null,
            "grid_auto_flow": null,
            "grid_area": null,
            "grid_template_columns": null,
            "flex": null,
            "_model_name": "LayoutModel",
            "justify_items": null,
            "grid_row": null,
            "max_height": null,
            "align_content": null,
            "visibility": null,
            "align_self": null,
            "height": null,
            "min_height": null,
            "padding": null,
            "grid_auto_rows": null,
            "grid_gap": null,
            "max_width": null,
            "order": null,
            "_view_module_version": "1.2.0",
            "grid_template_areas": null,
            "object_position": null,
            "object_fit": null,
            "grid_auto_columns": null,
            "margin": null,
            "display": null,
            "left": null
          }
        },
        "6b20e94025d7495a9f0db3dd0c35350e": {
          "model_module": "@jupyter-widgets/controls",
          "model_name": "DescriptionStyleModel",
          "state": {
            "_view_name": "StyleView",
            "_model_name": "DescriptionStyleModel",
            "description_width": "",
            "_view_module": "@jupyter-widgets/base",
            "_model_module_version": "1.5.0",
            "_view_count": null,
            "_view_module_version": "1.2.0",
            "_model_module": "@jupyter-widgets/controls"
          }
        },
        "0c43e7d900c54810a65473feb0b28b43": {
          "model_module": "@jupyter-widgets/base",
          "model_name": "LayoutModel",
          "state": {
            "_view_name": "LayoutView",
            "grid_template_rows": null,
            "right": null,
            "justify_content": null,
            "_view_module": "@jupyter-widgets/base",
            "overflow": null,
            "_model_module_version": "1.2.0",
            "_view_count": null,
            "flex_flow": null,
            "width": null,
            "min_width": null,
            "border": null,
            "align_items": null,
            "bottom": null,
            "_model_module": "@jupyter-widgets/base",
            "top": null,
            "grid_column": null,
            "overflow_y": null,
            "overflow_x": null,
            "grid_auto_flow": null,
            "grid_area": null,
            "grid_template_columns": null,
            "flex": null,
            "_model_name": "LayoutModel",
            "justify_items": null,
            "grid_row": null,
            "max_height": null,
            "align_content": null,
            "visibility": null,
            "align_self": null,
            "height": null,
            "min_height": null,
            "padding": null,
            "grid_auto_rows": null,
            "grid_gap": null,
            "max_width": null,
            "order": null,
            "_view_module_version": "1.2.0",
            "grid_template_areas": null,
            "object_position": null,
            "object_fit": null,
            "grid_auto_columns": null,
            "margin": null,
            "display": null,
            "left": null
          }
        }
      }
    }
  },
  "cells": [
    {
      "cell_type": "code",
      "metadata": {
        "colab": {
          "base_uri": "https://localhost:8080/"
        },
        "id": "CJZPVdN-6vQm",
        "outputId": "9f676953-55c0-4ba9-c31f-a8847c68e5ab"
      },
      "source": [
        "!pip install gdown\r\n",
        "!pip install ipython-autotime"
      ],
      "execution_count": 1,
      "outputs": [
        {
          "output_type": "stream",
          "text": [
            "Requirement already satisfied: gdown in /usr/local/lib/python3.6/dist-packages (3.6.4)\n",
            "Requirement already satisfied: tqdm in /usr/local/lib/python3.6/dist-packages (from gdown) (4.41.1)\n",
            "Requirement already satisfied: requests in /usr/local/lib/python3.6/dist-packages (from gdown) (2.23.0)\n",
            "Requirement already satisfied: six in /usr/local/lib/python3.6/dist-packages (from gdown) (1.15.0)\n",
            "Requirement already satisfied: idna<3,>=2.5 in /usr/local/lib/python3.6/dist-packages (from requests->gdown) (2.10)\n",
            "Requirement already satisfied: chardet<4,>=3.0.2 in /usr/local/lib/python3.6/dist-packages (from requests->gdown) (3.0.4)\n",
            "Requirement already satisfied: urllib3!=1.25.0,!=1.25.1,<1.26,>=1.21.1 in /usr/local/lib/python3.6/dist-packages (from requests->gdown) (1.24.3)\n",
            "Requirement already satisfied: certifi>=2017.4.17 in /usr/local/lib/python3.6/dist-packages (from requests->gdown) (2020.12.5)\n",
            "Collecting ipython-autotime\n",
            "  Downloading https://files.pythonhosted.org/packages/b4/c9/b413a24f759641bc27ef98c144b590023c8038dfb8a3f09e713e9dff12c1/ipython_autotime-0.3.1-py2.py3-none-any.whl\n",
            "Requirement already satisfied: ipython in /usr/local/lib/python3.6/dist-packages (from ipython-autotime) (5.5.0)\n",
            "Requirement already satisfied: pygments in /usr/local/lib/python3.6/dist-packages (from ipython->ipython-autotime) (2.6.1)\n",
            "Requirement already satisfied: pickleshare in /usr/local/lib/python3.6/dist-packages (from ipython->ipython-autotime) (0.7.5)\n",
            "Requirement already satisfied: simplegeneric>0.8 in /usr/local/lib/python3.6/dist-packages (from ipython->ipython-autotime) (0.8.1)\n",
            "Requirement already satisfied: decorator in /usr/local/lib/python3.6/dist-packages (from ipython->ipython-autotime) (4.4.2)\n",
            "Requirement already satisfied: prompt-toolkit<2.0.0,>=1.0.4 in /usr/local/lib/python3.6/dist-packages (from ipython->ipython-autotime) (1.0.18)\n",
            "Requirement already satisfied: setuptools>=18.5 in /usr/local/lib/python3.6/dist-packages (from ipython->ipython-autotime) (53.0.0)\n",
            "Requirement already satisfied: traitlets>=4.2 in /usr/local/lib/python3.6/dist-packages (from ipython->ipython-autotime) (4.3.3)\n",
            "Requirement already satisfied: pexpect; sys_platform != \"win32\" in /usr/local/lib/python3.6/dist-packages (from ipython->ipython-autotime) (4.8.0)\n",
            "Requirement already satisfied: wcwidth in /usr/local/lib/python3.6/dist-packages (from prompt-toolkit<2.0.0,>=1.0.4->ipython->ipython-autotime) (0.2.5)\n",
            "Requirement already satisfied: six>=1.9.0 in /usr/local/lib/python3.6/dist-packages (from prompt-toolkit<2.0.0,>=1.0.4->ipython->ipython-autotime) (1.15.0)\n",
            "Requirement already satisfied: ipython-genutils in /usr/local/lib/python3.6/dist-packages (from traitlets>=4.2->ipython->ipython-autotime) (0.2.0)\n",
            "Requirement already satisfied: ptyprocess>=0.5 in /usr/local/lib/python3.6/dist-packages (from pexpect; sys_platform != \"win32\"->ipython->ipython-autotime) (0.7.0)\n",
            "Installing collected packages: ipython-autotime\n",
            "Successfully installed ipython-autotime-0.3.1\n"
          ],
          "name": "stdout"
        }
      ]
    },
    {
      "cell_type": "code",
      "metadata": {
        "colab": {
          "base_uri": "https://localhost:8080/"
        },
        "id": "ivYv6anz9Lw6",
        "outputId": "20d236f5-ffed-4004-f434-8a78cf541354"
      },
      "source": [
        "%load_ext autotime"
      ],
      "execution_count": 2,
      "outputs": [
        {
          "output_type": "stream",
          "text": [
            "time: 134 µs (started: 2021-02-08 08:24:04 +00:00)\n"
          ],
          "name": "stdout"
        }
      ]
    },
    {
      "cell_type": "code",
      "metadata": {
        "colab": {
          "base_uri": "https://localhost:8080/"
        },
        "id": "Llizn38y6ysf",
        "outputId": "82250e11-5293-4d5f-89bb-e4072c5f2e3f"
      },
      "source": [
        "!gdown \"https://drive.google.com/uc?id=1Qbi954Bwx-PplM8F_7TrB_blcqcB-bF2\""
      ],
      "execution_count": 3,
      "outputs": [
        {
          "output_type": "stream",
          "text": [
            "Downloading...\n",
            "From: https://drive.google.com/uc?id=1Qbi954Bwx-PplM8F_7TrB_blcqcB-bF2\n",
            "To: /content/train.csv\n",
            "\r  0% 0.00/305k [00:00<?, ?B/s]\r100% 305k/305k [00:00<00:00, 9.74MB/s]\n",
            "time: 1.72 s (started: 2021-02-08 08:24:04 +00:00)\n"
          ],
          "name": "stdout"
        }
      ]
    },
    {
      "cell_type": "code",
      "metadata": {
        "colab": {
          "base_uri": "https://localhost:8080/"
        },
        "id": "xvDMYQkW82wK",
        "outputId": "8649dec0-29c7-47b0-f555-594065415022"
      },
      "source": [
        "!gdown \"https://drive.google.com/uc?id=1hWycEy8rQ8e_krGyUhqGQiMBxZtD9SWy\""
      ],
      "execution_count": 4,
      "outputs": [
        {
          "output_type": "stream",
          "text": [
            "Downloading...\n",
            "From: https://drive.google.com/uc?id=1hWycEy8rQ8e_krGyUhqGQiMBxZtD9SWy\n",
            "To: /content/test.csv\n",
            "\r0.00B [00:00, ?B/s]\r2.47MB [00:00, 72.0MB/s]\n",
            "time: 1.92 s (started: 2021-02-08 08:24:05 +00:00)\n"
          ],
          "name": "stdout"
        }
      ]
    },
    {
      "cell_type": "code",
      "metadata": {
        "colab": {
          "base_uri": "https://localhost:8080/"
        },
        "id": "IeZCdn8w898z",
        "outputId": "6ff9c2a1-bfc8-4771-842e-5ab2023f62fe"
      },
      "source": [
        "!gdown \"https://drive.google.com/uc?id=1j7h-SUy2gMJBds6eQalw4CFZC3O7Pr05\""
      ],
      "execution_count": 5,
      "outputs": [
        {
          "output_type": "stream",
          "text": [
            "Downloading...\n",
            "From: https://drive.google.com/uc?id=1j7h-SUy2gMJBds6eQalw4CFZC3O7Pr05\n",
            "To: /content/collaboration_network.edgelist\n",
            "38.8MB [00:00, 82.9MB/s]\n",
            "time: 3.03 s (started: 2021-02-08 08:24:07 +00:00)\n"
          ],
          "name": "stdout"
        }
      ]
    },
    {
      "cell_type": "code",
      "metadata": {
        "colab": {
          "base_uri": "https://localhost:8080/"
        },
        "id": "ePIuXnB9uSHc",
        "outputId": "71522b34-5ad7-4df0-9ca0-3c915dbb302e"
      },
      "source": [
        "!gdown \"https://drive.google.com/uc?id=1AEn8P631y-pq6szgAbTm538oM6waf-5E\""
      ],
      "execution_count": 6,
      "outputs": [
        {
          "output_type": "stream",
          "text": [
            "Downloading...\n",
            "From: https://drive.google.com/uc?id=1AEn8P631y-pq6szgAbTm538oM6waf-5E\n",
            "To: /content/author_embedding.csv\n",
            "683MB [00:07, 96.9MB/s]\n",
            "time: 11.3 s (started: 2021-02-08 08:24:10 +00:00)\n"
          ],
          "name": "stdout"
        }
      ]
    },
    {
      "cell_type": "code",
      "metadata": {
        "colab": {
          "base_uri": "https://localhost:8080/"
        },
        "id": "oJaEHJJ3rb_m",
        "outputId": "c0964fab-4a9a-419d-9563-6795d01fcd36"
      },
      "source": [
        "!gdown \"https://drive.google.com/uc?id=1TD3CkcmbvhIdXkCAWaBpY416qDen2vfD\""
      ],
      "execution_count": 7,
      "outputs": [
        {
          "output_type": "stream",
          "text": [
            "Downloading...\n",
            "From: https://drive.google.com/uc?id=1TD3CkcmbvhIdXkCAWaBpY416qDen2vfD\n",
            "To: /content/author_papers.txt\n",
            "23.5MB [00:00, 74.2MB/s]\n",
            "time: 2.63 s (started: 2021-02-08 08:24:22 +00:00)\n"
          ],
          "name": "stdout"
        }
      ]
    },
    {
      "cell_type": "code",
      "metadata": {
        "colab": {
          "base_uri": "https://localhost:8080/"
        },
        "id": "eKP-HwH_73DM",
        "outputId": "05d55b1a-cd5c-45a5-962c-2f5cc168e334"
      },
      "source": [
        "import pandas as pd\r\n",
        "import numpy as np\r\n",
        "import networkx as nx\r\n",
        "from sklearn.linear_model import Lasso\r\n",
        "from sklearn.model_selection import train_test_split\r\n",
        "import xgboost as xgb\r\n",
        "from sklearn.metrics import mean_absolute_error\r\n",
        "from sklearn.preprocessing import MinMaxScaler\r\n",
        "from pathlib import Path\r\n",
        "\r\n",
        "# read training data\r\n",
        "df_train = pd.read_csv('train.csv', dtype={'authorID': np.int64, 'h_index': np.float32})\r\n",
        "n_train = df_train.shape[0]\r\n",
        "\r\n",
        "# read test data\r\n",
        "df_test = pd.read_csv('test.csv', dtype={'authorID': np.int64})\r\n",
        "n_test = df_test.shape[0]\r\n",
        "\r\n",
        "# load the graph\r\n",
        "G = nx.read_edgelist('collaboration_network.edgelist',\r\n",
        "                     delimiter=' ', nodetype=int)\r\n",
        "n_nodes = G.number_of_nodes()\r\n",
        "n_edges = G.number_of_edges()\r\n",
        "print('Number of nodes:', n_nodes)\r\n",
        "print('Number of edges:', n_edges)\r\n",
        "\r\n",
        "# read embeddings of abstracts\r\n",
        "embeddings = pd.read_csv(\"author_embedding.csv\", header=None)\r\n",
        "embeddings = embeddings.rename(columns={0: \"authorID\"})"
      ],
      "execution_count": 26,
      "outputs": [
        {
          "output_type": "stream",
          "text": [
            "Number of nodes: 231239\n",
            "Number of edges: 1777338\n",
            "time: 25.1 s (started: 2021-02-08 08:33:22 +00:00)\n"
          ],
          "name": "stdout"
        }
      ]
    },
    {
      "cell_type": "code",
      "metadata": {
        "colab": {
          "base_uri": "https://localhost:8080/"
        },
        "id": "KuTMBHNy-WcY",
        "outputId": "66a1f42c-4a16-4208-ceed-6c4ea1bb44d0"
      },
      "source": [
        "# create the training matrix. each author is represented by the average of\r\n",
        "# the embeddings of the abstracts of his/her top-cited papers\r\n",
        "df_train = df_train.merge(embeddings, on=\"authorID\")\r\n",
        "\r\n",
        "# create the test matrix. each author is represented by the average of\r\n",
        "# the embeddings of the abstracts of his/her top-cited papers\r\n",
        "df_test = df_test.merge(embeddings, on=\"authorID\")\r\n",
        "# X_test = df_test.iloc[:, 2:]"
      ],
      "execution_count": 9,
      "outputs": [
        {
          "output_type": "stream",
          "text": [
            "time: 1.55 s (started: 2021-02-08 08:24:49 +00:00)\n"
          ],
          "name": "stdout"
        }
      ]
    },
    {
      "cell_type": "code",
      "metadata": {
        "colab": {
          "base_uri": "https://localhost:8080/",
          "height": 270
        },
        "id": "3C3FdVwITkCu",
        "outputId": "757ee085-d198-4d61-9fd0-cd198566f2f6"
      },
      "source": [
        "df_train.head()"
      ],
      "execution_count": 10,
      "outputs": [
        {
          "output_type": "execute_result",
          "data": {
            "text/html": [
              "<div>\n",
              "<style scoped>\n",
              "    .dataframe tbody tr th:only-of-type {\n",
              "        vertical-align: middle;\n",
              "    }\n",
              "\n",
              "    .dataframe tbody tr th {\n",
              "        vertical-align: top;\n",
              "    }\n",
              "\n",
              "    .dataframe thead th {\n",
              "        text-align: right;\n",
              "    }\n",
              "</style>\n",
              "<table border=\"1\" class=\"dataframe\">\n",
              "  <thead>\n",
              "    <tr style=\"text-align: right;\">\n",
              "      <th></th>\n",
              "      <th>authorID</th>\n",
              "      <th>h_index</th>\n",
              "      <th>1</th>\n",
              "      <th>2</th>\n",
              "      <th>3</th>\n",
              "      <th>4</th>\n",
              "      <th>5</th>\n",
              "      <th>6</th>\n",
              "      <th>7</th>\n",
              "      <th>8</th>\n",
              "      <th>9</th>\n",
              "      <th>10</th>\n",
              "      <th>11</th>\n",
              "      <th>12</th>\n",
              "      <th>13</th>\n",
              "      <th>14</th>\n",
              "      <th>15</th>\n",
              "      <th>16</th>\n",
              "      <th>17</th>\n",
              "      <th>18</th>\n",
              "      <th>19</th>\n",
              "      <th>20</th>\n",
              "      <th>21</th>\n",
              "      <th>22</th>\n",
              "      <th>23</th>\n",
              "      <th>24</th>\n",
              "      <th>25</th>\n",
              "      <th>26</th>\n",
              "      <th>27</th>\n",
              "      <th>28</th>\n",
              "      <th>29</th>\n",
              "      <th>30</th>\n",
              "      <th>31</th>\n",
              "      <th>32</th>\n",
              "      <th>33</th>\n",
              "      <th>34</th>\n",
              "      <th>35</th>\n",
              "      <th>36</th>\n",
              "      <th>37</th>\n",
              "      <th>38</th>\n",
              "      <th>...</th>\n",
              "      <th>217</th>\n",
              "      <th>218</th>\n",
              "      <th>219</th>\n",
              "      <th>220</th>\n",
              "      <th>221</th>\n",
              "      <th>222</th>\n",
              "      <th>223</th>\n",
              "      <th>224</th>\n",
              "      <th>225</th>\n",
              "      <th>226</th>\n",
              "      <th>227</th>\n",
              "      <th>228</th>\n",
              "      <th>229</th>\n",
              "      <th>230</th>\n",
              "      <th>231</th>\n",
              "      <th>232</th>\n",
              "      <th>233</th>\n",
              "      <th>234</th>\n",
              "      <th>235</th>\n",
              "      <th>236</th>\n",
              "      <th>237</th>\n",
              "      <th>238</th>\n",
              "      <th>239</th>\n",
              "      <th>240</th>\n",
              "      <th>241</th>\n",
              "      <th>242</th>\n",
              "      <th>243</th>\n",
              "      <th>244</th>\n",
              "      <th>245</th>\n",
              "      <th>246</th>\n",
              "      <th>247</th>\n",
              "      <th>248</th>\n",
              "      <th>249</th>\n",
              "      <th>250</th>\n",
              "      <th>251</th>\n",
              "      <th>252</th>\n",
              "      <th>253</th>\n",
              "      <th>254</th>\n",
              "      <th>255</th>\n",
              "      <th>256</th>\n",
              "    </tr>\n",
              "  </thead>\n",
              "  <tbody>\n",
              "    <tr>\n",
              "      <th>0</th>\n",
              "      <td>2124557175</td>\n",
              "      <td>1.0</td>\n",
              "      <td>0.011884</td>\n",
              "      <td>-1.474495</td>\n",
              "      <td>0.475431</td>\n",
              "      <td>0.761245</td>\n",
              "      <td>0.372421</td>\n",
              "      <td>-1.278481</td>\n",
              "      <td>-0.931237</td>\n",
              "      <td>1.012764</td>\n",
              "      <td>0.933400</td>\n",
              "      <td>-0.704856</td>\n",
              "      <td>0.784397</td>\n",
              "      <td>0.733632</td>\n",
              "      <td>0.355529</td>\n",
              "      <td>0.964007</td>\n",
              "      <td>-0.583914</td>\n",
              "      <td>0.528366</td>\n",
              "      <td>0.748525</td>\n",
              "      <td>-0.077608</td>\n",
              "      <td>-0.362534</td>\n",
              "      <td>-0.276943</td>\n",
              "      <td>-0.097285</td>\n",
              "      <td>0.996792</td>\n",
              "      <td>-0.295493</td>\n",
              "      <td>-0.154917</td>\n",
              "      <td>-1.121127</td>\n",
              "      <td>-0.191539</td>\n",
              "      <td>-0.231411</td>\n",
              "      <td>0.707991</td>\n",
              "      <td>0.629793</td>\n",
              "      <td>0.029784</td>\n",
              "      <td>-0.878563</td>\n",
              "      <td>0.795566</td>\n",
              "      <td>1.567196</td>\n",
              "      <td>-0.475378</td>\n",
              "      <td>0.933597</td>\n",
              "      <td>-1.019691</td>\n",
              "      <td>-2.078399</td>\n",
              "      <td>-2.758443</td>\n",
              "      <td>...</td>\n",
              "      <td>-0.770467</td>\n",
              "      <td>-0.262722</td>\n",
              "      <td>0.525519</td>\n",
              "      <td>-0.149412</td>\n",
              "      <td>0.081803</td>\n",
              "      <td>0.792591</td>\n",
              "      <td>-0.403451</td>\n",
              "      <td>1.036691</td>\n",
              "      <td>-0.161972</td>\n",
              "      <td>0.606072</td>\n",
              "      <td>-0.390188</td>\n",
              "      <td>-0.824730</td>\n",
              "      <td>-1.142385</td>\n",
              "      <td>-0.291382</td>\n",
              "      <td>0.361122</td>\n",
              "      <td>1.474065</td>\n",
              "      <td>0.956201</td>\n",
              "      <td>-1.467333</td>\n",
              "      <td>0.920381</td>\n",
              "      <td>-1.030914</td>\n",
              "      <td>0.729073</td>\n",
              "      <td>-0.788855</td>\n",
              "      <td>1.265254</td>\n",
              "      <td>0.663009</td>\n",
              "      <td>0.330089</td>\n",
              "      <td>-0.491955</td>\n",
              "      <td>0.476225</td>\n",
              "      <td>0.294243</td>\n",
              "      <td>0.626619</td>\n",
              "      <td>1.195963</td>\n",
              "      <td>-0.105072</td>\n",
              "      <td>-0.827668</td>\n",
              "      <td>1.672597</td>\n",
              "      <td>-0.207077</td>\n",
              "      <td>0.251072</td>\n",
              "      <td>-0.398389</td>\n",
              "      <td>-0.767606</td>\n",
              "      <td>-1.399617</td>\n",
              "      <td>1.284111</td>\n",
              "      <td>-0.491038</td>\n",
              "    </tr>\n",
              "    <tr>\n",
              "      <th>1</th>\n",
              "      <td>1964267543</td>\n",
              "      <td>4.0</td>\n",
              "      <td>-0.941447</td>\n",
              "      <td>-0.146221</td>\n",
              "      <td>0.836747</td>\n",
              "      <td>-1.257331</td>\n",
              "      <td>0.451242</td>\n",
              "      <td>-0.215515</td>\n",
              "      <td>1.080448</td>\n",
              "      <td>0.463444</td>\n",
              "      <td>0.777680</td>\n",
              "      <td>0.176316</td>\n",
              "      <td>0.198668</td>\n",
              "      <td>0.007866</td>\n",
              "      <td>-1.000620</td>\n",
              "      <td>0.669209</td>\n",
              "      <td>-1.043053</td>\n",
              "      <td>-0.716100</td>\n",
              "      <td>-1.087103</td>\n",
              "      <td>-0.398879</td>\n",
              "      <td>-0.412347</td>\n",
              "      <td>-0.131210</td>\n",
              "      <td>-0.018862</td>\n",
              "      <td>0.470870</td>\n",
              "      <td>-0.384256</td>\n",
              "      <td>0.655413</td>\n",
              "      <td>0.143723</td>\n",
              "      <td>-0.680893</td>\n",
              "      <td>-0.815258</td>\n",
              "      <td>-0.946246</td>\n",
              "      <td>1.248203</td>\n",
              "      <td>0.198083</td>\n",
              "      <td>0.027870</td>\n",
              "      <td>0.370975</td>\n",
              "      <td>1.354574</td>\n",
              "      <td>0.538946</td>\n",
              "      <td>0.098952</td>\n",
              "      <td>-0.863707</td>\n",
              "      <td>1.104675</td>\n",
              "      <td>-1.323895</td>\n",
              "      <td>...</td>\n",
              "      <td>-0.092297</td>\n",
              "      <td>-0.209134</td>\n",
              "      <td>0.004957</td>\n",
              "      <td>0.039698</td>\n",
              "      <td>-0.171137</td>\n",
              "      <td>1.284027</td>\n",
              "      <td>0.097372</td>\n",
              "      <td>-0.212618</td>\n",
              "      <td>-0.391834</td>\n",
              "      <td>0.932204</td>\n",
              "      <td>0.499848</td>\n",
              "      <td>0.302687</td>\n",
              "      <td>-0.084279</td>\n",
              "      <td>-0.913222</td>\n",
              "      <td>-0.497197</td>\n",
              "      <td>0.516038</td>\n",
              "      <td>0.327819</td>\n",
              "      <td>0.866613</td>\n",
              "      <td>0.955164</td>\n",
              "      <td>-0.950108</td>\n",
              "      <td>0.098256</td>\n",
              "      <td>-0.863164</td>\n",
              "      <td>-0.017090</td>\n",
              "      <td>1.380026</td>\n",
              "      <td>0.733660</td>\n",
              "      <td>-1.058517</td>\n",
              "      <td>-0.574270</td>\n",
              "      <td>1.180540</td>\n",
              "      <td>1.164360</td>\n",
              "      <td>-0.346797</td>\n",
              "      <td>0.074777</td>\n",
              "      <td>-0.273686</td>\n",
              "      <td>0.060186</td>\n",
              "      <td>-0.355505</td>\n",
              "      <td>-1.127720</td>\n",
              "      <td>-0.436617</td>\n",
              "      <td>-0.269324</td>\n",
              "      <td>-0.520198</td>\n",
              "      <td>0.506366</td>\n",
              "      <td>-1.664988</td>\n",
              "    </tr>\n",
              "    <tr>\n",
              "      <th>2</th>\n",
              "      <td>2762410113</td>\n",
              "      <td>1.0</td>\n",
              "      <td>-1.530304</td>\n",
              "      <td>-0.346675</td>\n",
              "      <td>2.442384</td>\n",
              "      <td>0.685170</td>\n",
              "      <td>-0.414881</td>\n",
              "      <td>0.211662</td>\n",
              "      <td>-0.186427</td>\n",
              "      <td>-0.041663</td>\n",
              "      <td>1.515340</td>\n",
              "      <td>-0.620786</td>\n",
              "      <td>-1.284518</td>\n",
              "      <td>-1.208413</td>\n",
              "      <td>1.806724</td>\n",
              "      <td>0.616266</td>\n",
              "      <td>-0.753918</td>\n",
              "      <td>-2.051487</td>\n",
              "      <td>-1.376353</td>\n",
              "      <td>-0.350286</td>\n",
              "      <td>-0.610686</td>\n",
              "      <td>1.389180</td>\n",
              "      <td>-1.478816</td>\n",
              "      <td>-0.998558</td>\n",
              "      <td>-0.709088</td>\n",
              "      <td>1.099280</td>\n",
              "      <td>-1.343870</td>\n",
              "      <td>-0.567973</td>\n",
              "      <td>0.071759</td>\n",
              "      <td>0.309125</td>\n",
              "      <td>0.251986</td>\n",
              "      <td>0.591007</td>\n",
              "      <td>-1.296995</td>\n",
              "      <td>-2.060488</td>\n",
              "      <td>0.725539</td>\n",
              "      <td>2.024396</td>\n",
              "      <td>-1.356195</td>\n",
              "      <td>-0.434862</td>\n",
              "      <td>-1.394312</td>\n",
              "      <td>-1.466734</td>\n",
              "      <td>...</td>\n",
              "      <td>0.120297</td>\n",
              "      <td>1.083913</td>\n",
              "      <td>1.105540</td>\n",
              "      <td>0.087702</td>\n",
              "      <td>-0.161807</td>\n",
              "      <td>2.624068</td>\n",
              "      <td>0.437089</td>\n",
              "      <td>-0.645089</td>\n",
              "      <td>-2.246255</td>\n",
              "      <td>-0.436635</td>\n",
              "      <td>-1.224813</td>\n",
              "      <td>-3.100993</td>\n",
              "      <td>0.344722</td>\n",
              "      <td>0.687891</td>\n",
              "      <td>1.905243</td>\n",
              "      <td>0.453318</td>\n",
              "      <td>-3.150965</td>\n",
              "      <td>-0.488399</td>\n",
              "      <td>1.311814</td>\n",
              "      <td>0.139054</td>\n",
              "      <td>-0.096975</td>\n",
              "      <td>1.414337</td>\n",
              "      <td>0.665574</td>\n",
              "      <td>0.247286</td>\n",
              "      <td>1.305022</td>\n",
              "      <td>-0.395280</td>\n",
              "      <td>0.761511</td>\n",
              "      <td>1.220916</td>\n",
              "      <td>0.875253</td>\n",
              "      <td>0.742394</td>\n",
              "      <td>2.560457</td>\n",
              "      <td>0.332845</td>\n",
              "      <td>-1.830930</td>\n",
              "      <td>-1.256303</td>\n",
              "      <td>0.626105</td>\n",
              "      <td>-0.810520</td>\n",
              "      <td>1.613209</td>\n",
              "      <td>-0.178558</td>\n",
              "      <td>-0.286176</td>\n",
              "      <td>-0.743096</td>\n",
              "    </tr>\n",
              "    <tr>\n",
              "      <th>3</th>\n",
              "      <td>2225319093</td>\n",
              "      <td>1.0</td>\n",
              "      <td>-0.129008</td>\n",
              "      <td>-1.327240</td>\n",
              "      <td>-0.727648</td>\n",
              "      <td>1.136473</td>\n",
              "      <td>1.130315</td>\n",
              "      <td>-0.423311</td>\n",
              "      <td>0.181678</td>\n",
              "      <td>0.554091</td>\n",
              "      <td>-0.231255</td>\n",
              "      <td>0.727548</td>\n",
              "      <td>1.041710</td>\n",
              "      <td>-1.605366</td>\n",
              "      <td>0.279740</td>\n",
              "      <td>1.608455</td>\n",
              "      <td>-0.793432</td>\n",
              "      <td>-0.453650</td>\n",
              "      <td>0.992398</td>\n",
              "      <td>-0.810396</td>\n",
              "      <td>-1.265649</td>\n",
              "      <td>1.338686</td>\n",
              "      <td>0.173262</td>\n",
              "      <td>1.255848</td>\n",
              "      <td>0.590473</td>\n",
              "      <td>0.433425</td>\n",
              "      <td>-0.622283</td>\n",
              "      <td>0.178423</td>\n",
              "      <td>0.530372</td>\n",
              "      <td>0.811803</td>\n",
              "      <td>0.558662</td>\n",
              "      <td>0.628117</td>\n",
              "      <td>-0.000144</td>\n",
              "      <td>0.221142</td>\n",
              "      <td>1.293048</td>\n",
              "      <td>-0.666839</td>\n",
              "      <td>-1.141459</td>\n",
              "      <td>0.604393</td>\n",
              "      <td>-0.780155</td>\n",
              "      <td>-0.641698</td>\n",
              "      <td>...</td>\n",
              "      <td>0.363150</td>\n",
              "      <td>0.718474</td>\n",
              "      <td>0.613515</td>\n",
              "      <td>0.176576</td>\n",
              "      <td>-0.286288</td>\n",
              "      <td>0.925159</td>\n",
              "      <td>1.123460</td>\n",
              "      <td>0.626039</td>\n",
              "      <td>-1.143193</td>\n",
              "      <td>-1.353026</td>\n",
              "      <td>-0.129152</td>\n",
              "      <td>0.212153</td>\n",
              "      <td>-0.500736</td>\n",
              "      <td>-0.750023</td>\n",
              "      <td>-0.527533</td>\n",
              "      <td>0.240602</td>\n",
              "      <td>-0.883445</td>\n",
              "      <td>-0.978181</td>\n",
              "      <td>1.466637</td>\n",
              "      <td>-0.512852</td>\n",
              "      <td>1.538082</td>\n",
              "      <td>-0.341608</td>\n",
              "      <td>-0.200128</td>\n",
              "      <td>1.389997</td>\n",
              "      <td>-0.316449</td>\n",
              "      <td>-0.352446</td>\n",
              "      <td>0.831606</td>\n",
              "      <td>-0.839991</td>\n",
              "      <td>0.894545</td>\n",
              "      <td>0.289335</td>\n",
              "      <td>-0.066281</td>\n",
              "      <td>0.664719</td>\n",
              "      <td>1.126354</td>\n",
              "      <td>-0.566391</td>\n",
              "      <td>-0.579283</td>\n",
              "      <td>0.662119</td>\n",
              "      <td>-1.454489</td>\n",
              "      <td>-0.973226</td>\n",
              "      <td>-0.192451</td>\n",
              "      <td>1.583816</td>\n",
              "    </tr>\n",
              "    <tr>\n",
              "      <th>4</th>\n",
              "      <td>2122039117</td>\n",
              "      <td>43.0</td>\n",
              "      <td>-0.255069</td>\n",
              "      <td>0.285396</td>\n",
              "      <td>1.018723</td>\n",
              "      <td>-0.325080</td>\n",
              "      <td>1.013789</td>\n",
              "      <td>0.177253</td>\n",
              "      <td>0.592353</td>\n",
              "      <td>0.208593</td>\n",
              "      <td>0.033127</td>\n",
              "      <td>0.876228</td>\n",
              "      <td>0.915318</td>\n",
              "      <td>-0.261559</td>\n",
              "      <td>0.037244</td>\n",
              "      <td>-0.650182</td>\n",
              "      <td>-1.359849</td>\n",
              "      <td>-1.203008</td>\n",
              "      <td>0.560354</td>\n",
              "      <td>0.230027</td>\n",
              "      <td>-0.417100</td>\n",
              "      <td>-1.098673</td>\n",
              "      <td>-0.320773</td>\n",
              "      <td>-1.119455</td>\n",
              "      <td>-1.027590</td>\n",
              "      <td>-0.154131</td>\n",
              "      <td>0.039530</td>\n",
              "      <td>-0.452954</td>\n",
              "      <td>1.034962</td>\n",
              "      <td>0.929300</td>\n",
              "      <td>-1.014582</td>\n",
              "      <td>0.154546</td>\n",
              "      <td>0.565082</td>\n",
              "      <td>-0.440206</td>\n",
              "      <td>1.652724</td>\n",
              "      <td>-0.244671</td>\n",
              "      <td>-0.758900</td>\n",
              "      <td>0.884478</td>\n",
              "      <td>-0.659663</td>\n",
              "      <td>0.059617</td>\n",
              "      <td>...</td>\n",
              "      <td>0.532843</td>\n",
              "      <td>0.629661</td>\n",
              "      <td>0.250447</td>\n",
              "      <td>0.302851</td>\n",
              "      <td>0.241603</td>\n",
              "      <td>0.215309</td>\n",
              "      <td>0.632135</td>\n",
              "      <td>-0.964263</td>\n",
              "      <td>0.569097</td>\n",
              "      <td>0.424411</td>\n",
              "      <td>-0.076652</td>\n",
              "      <td>0.376441</td>\n",
              "      <td>0.487996</td>\n",
              "      <td>-0.415630</td>\n",
              "      <td>0.009950</td>\n",
              "      <td>-0.250206</td>\n",
              "      <td>0.040206</td>\n",
              "      <td>0.257938</td>\n",
              "      <td>0.266250</td>\n",
              "      <td>-0.277946</td>\n",
              "      <td>0.316290</td>\n",
              "      <td>-0.267702</td>\n",
              "      <td>0.038262</td>\n",
              "      <td>-0.673020</td>\n",
              "      <td>0.932779</td>\n",
              "      <td>-0.513544</td>\n",
              "      <td>0.638799</td>\n",
              "      <td>-0.150237</td>\n",
              "      <td>0.636681</td>\n",
              "      <td>-0.302591</td>\n",
              "      <td>0.968621</td>\n",
              "      <td>-0.020236</td>\n",
              "      <td>-0.072942</td>\n",
              "      <td>-0.310042</td>\n",
              "      <td>0.304724</td>\n",
              "      <td>-0.539385</td>\n",
              "      <td>-0.354146</td>\n",
              "      <td>-0.629376</td>\n",
              "      <td>-1.457717</td>\n",
              "      <td>0.290012</td>\n",
              "    </tr>\n",
              "  </tbody>\n",
              "</table>\n",
              "<p>5 rows × 258 columns</p>\n",
              "</div>"
            ],
            "text/plain": [
              "     authorID  h_index         1  ...       254       255       256\n",
              "0  2124557175      1.0  0.011884  ... -1.399617  1.284111 -0.491038\n",
              "1  1964267543      4.0 -0.941447  ... -0.520198  0.506366 -1.664988\n",
              "2  2762410113      1.0 -1.530304  ... -0.178558 -0.286176 -0.743096\n",
              "3  2225319093      1.0 -0.129008  ... -0.973226 -0.192451  1.583816\n",
              "4  2122039117     43.0 -0.255069  ... -0.629376 -1.457717  0.290012\n",
              "\n",
              "[5 rows x 258 columns]"
            ]
          },
          "metadata": {
            "tags": []
          },
          "execution_count": 10
        },
        {
          "output_type": "stream",
          "text": [
            "time: 128 ms (started: 2021-02-08 08:24:50 +00:00)\n"
          ],
          "name": "stdout"
        }
      ]
    },
    {
      "cell_type": "code",
      "metadata": {
        "id": "UvPrNeFnI86c",
        "colab": {
          "base_uri": "https://localhost:8080/"
        },
        "outputId": "72f0ce8f-5941-4fff-cd2d-74ccd80b374e"
      },
      "source": [
        "import ast\r\n",
        "import json \r\n",
        "\r\n",
        "f = open(\"author_papers.txt\", \"r\")\r\n",
        "print(\"Read author_papers.txt\")\r\n",
        "\r\n",
        "# loads the inverted abstracts and stores them as id-abstracts in a dictionary dic and in a folder fw\r\n",
        "dic = {}\r\n",
        "for l in f:\r\n",
        "    if(l == \"\\n\"):\r\n",
        "        continue\r\n",
        "    author, paper = l.split(\":\")\r\n",
        "    paper = ast.literal_eval(paper)\r\n",
        "    dic[author] = paper\r\n",
        "with open('author.json', 'w') as outfile:\r\n",
        "    json.dump(dic, outfile)"
      ],
      "execution_count": 11,
      "outputs": [
        {
          "output_type": "stream",
          "text": [
            "Read author_papers.txt\n",
            "time: 7.28 s (started: 2021-02-08 08:24:50 +00:00)\n"
          ],
          "name": "stdout"
        }
      ]
    },
    {
      "cell_type": "code",
      "metadata": {
        "id": "o-V0hP6BKuUW",
        "colab": {
          "base_uri": "https://localhost:8080/",
          "height": 221
        },
        "outputId": "a65f0b0e-8385-4ca9-a8c6-bdb16ca50c2a"
      },
      "source": [
        "df_author_paper = pd.read_json(\"author.json\", orient=\"index\", dtype=str)\r\n",
        "df_author_paper.tail()"
      ],
      "execution_count": 12,
      "outputs": [
        {
          "output_type": "execute_result",
          "data": {
            "text/html": [
              "<div>\n",
              "<style scoped>\n",
              "    .dataframe tbody tr th:only-of-type {\n",
              "        vertical-align: middle;\n",
              "    }\n",
              "\n",
              "    .dataframe tbody tr th {\n",
              "        vertical-align: top;\n",
              "    }\n",
              "\n",
              "    .dataframe thead th {\n",
              "        text-align: right;\n",
              "    }\n",
              "</style>\n",
              "<table border=\"1\" class=\"dataframe\">\n",
              "  <thead>\n",
              "    <tr style=\"text-align: right;\">\n",
              "      <th></th>\n",
              "      <th>0</th>\n",
              "      <th>1</th>\n",
              "      <th>2</th>\n",
              "      <th>3</th>\n",
              "      <th>4</th>\n",
              "      <th>5</th>\n",
              "      <th>6</th>\n",
              "      <th>7</th>\n",
              "      <th>8</th>\n",
              "      <th>9</th>\n",
              "    </tr>\n",
              "  </thead>\n",
              "  <tbody>\n",
              "    <tr>\n",
              "      <th>2908387141</th>\n",
              "      <td>2540479521</td>\n",
              "      <td>nan</td>\n",
              "      <td>nan</td>\n",
              "      <td>nan</td>\n",
              "      <td>nan</td>\n",
              "      <td>nan</td>\n",
              "      <td>nan</td>\n",
              "      <td>nan</td>\n",
              "      <td>nan</td>\n",
              "      <td>nan</td>\n",
              "    </tr>\n",
              "    <tr>\n",
              "      <th>2908425732</th>\n",
              "      <td>2553344037</td>\n",
              "      <td>nan</td>\n",
              "      <td>nan</td>\n",
              "      <td>nan</td>\n",
              "      <td>nan</td>\n",
              "      <td>nan</td>\n",
              "      <td>nan</td>\n",
              "      <td>nan</td>\n",
              "      <td>nan</td>\n",
              "      <td>nan</td>\n",
              "    </tr>\n",
              "    <tr>\n",
              "      <th>2908436250</th>\n",
              "      <td>2907086791</td>\n",
              "      <td>nan</td>\n",
              "      <td>nan</td>\n",
              "      <td>nan</td>\n",
              "      <td>nan</td>\n",
              "      <td>nan</td>\n",
              "      <td>nan</td>\n",
              "      <td>nan</td>\n",
              "      <td>nan</td>\n",
              "      <td>nan</td>\n",
              "    </tr>\n",
              "    <tr>\n",
              "      <th>2908499439</th>\n",
              "      <td>2081432213</td>\n",
              "      <td>2070621672.0</td>\n",
              "      <td>2079679191.0</td>\n",
              "      <td>32110345.0</td>\n",
              "      <td>2013975658.0</td>\n",
              "      <td>2748643138.0</td>\n",
              "      <td>605803309.0</td>\n",
              "      <td>1641369840.0</td>\n",
              "      <td>nan</td>\n",
              "      <td>nan</td>\n",
              "    </tr>\n",
              "    <tr>\n",
              "      <th>2908506980</th>\n",
              "      <td>2148994087</td>\n",
              "      <td>nan</td>\n",
              "      <td>nan</td>\n",
              "      <td>nan</td>\n",
              "      <td>nan</td>\n",
              "      <td>nan</td>\n",
              "      <td>nan</td>\n",
              "      <td>nan</td>\n",
              "      <td>nan</td>\n",
              "      <td>nan</td>\n",
              "    </tr>\n",
              "  </tbody>\n",
              "</table>\n",
              "</div>"
            ],
            "text/plain": [
              "                     0             1             2  ...             7    8    9\n",
              "2908387141  2540479521           nan           nan  ...           nan  nan  nan\n",
              "2908425732  2553344037           nan           nan  ...           nan  nan  nan\n",
              "2908436250  2907086791           nan           nan  ...           nan  nan  nan\n",
              "2908499439  2081432213  2070621672.0  2079679191.0  ...  1641369840.0  nan  nan\n",
              "2908506980  2148994087           nan           nan  ...           nan  nan  nan\n",
              "\n",
              "[5 rows x 10 columns]"
            ]
          },
          "metadata": {
            "tags": []
          },
          "execution_count": 12
        },
        {
          "output_type": "stream",
          "text": [
            "time: 3.42 s (started: 2021-02-08 08:24:58 +00:00)\n"
          ],
          "name": "stdout"
        }
      ]
    },
    {
      "cell_type": "code",
      "metadata": {
        "colab": {
          "base_uri": "https://localhost:8080/",
          "height": 270,
          "referenced_widgets": [
            "b9bd8c0efcee4777a6139d3203a4649d",
            "7585066a0788405b9f4c176b2d97989d",
            "88ba955547f04bffaec0f6471260ecf7",
            "b7cc0a46a6c348ffbbffc631989822fa",
            "37248ae2b8be4a9e962bff42320dd262",
            "471ccdf20bba4591ae5b9905510f51fc",
            "6b20e94025d7495a9f0db3dd0c35350e",
            "0c43e7d900c54810a65473feb0b28b43"
          ]
        },
        "id": "8RqmB8XVqr_O",
        "outputId": "66b6edb8-d7a5-4dfe-b9f0-6b0d97d6eb79"
      },
      "source": [
        "from tqdm.notebook import tqdm\r\n",
        "tqdm.pandas()\r\n",
        "\r\n",
        "df_author_paper[\"paper_per_author\"] = df_author_paper.progress_apply(lambda x: np.sum(x != \"nan\"), axis=1)\r\n",
        "df_author_paper.head()"
      ],
      "execution_count": 13,
      "outputs": [
        {
          "output_type": "display_data",
          "data": {
            "application/vnd.jupyter.widget-view+json": {
              "model_id": "b9bd8c0efcee4777a6139d3203a4649d",
              "version_minor": 0,
              "version_major": 2
            },
            "text/plain": [
              "HBox(children=(FloatProgress(value=0.0, max=231239.0), HTML(value='')))"
            ]
          },
          "metadata": {
            "tags": []
          }
        },
        {
          "output_type": "stream",
          "text": [
            "\n"
          ],
          "name": "stdout"
        },
        {
          "output_type": "execute_result",
          "data": {
            "text/html": [
              "<div>\n",
              "<style scoped>\n",
              "    .dataframe tbody tr th:only-of-type {\n",
              "        vertical-align: middle;\n",
              "    }\n",
              "\n",
              "    .dataframe tbody tr th {\n",
              "        vertical-align: top;\n",
              "    }\n",
              "\n",
              "    .dataframe thead th {\n",
              "        text-align: right;\n",
              "    }\n",
              "</style>\n",
              "<table border=\"1\" class=\"dataframe\">\n",
              "  <thead>\n",
              "    <tr style=\"text-align: right;\">\n",
              "      <th></th>\n",
              "      <th>0</th>\n",
              "      <th>1</th>\n",
              "      <th>2</th>\n",
              "      <th>3</th>\n",
              "      <th>4</th>\n",
              "      <th>5</th>\n",
              "      <th>6</th>\n",
              "      <th>7</th>\n",
              "      <th>8</th>\n",
              "      <th>9</th>\n",
              "      <th>paper_per_author</th>\n",
              "    </tr>\n",
              "  </thead>\n",
              "  <tbody>\n",
              "    <tr>\n",
              "      <th>1036332</th>\n",
              "      <td>1510273386</td>\n",
              "      <td>1827736641.0</td>\n",
              "      <td>1588673897.0</td>\n",
              "      <td>2252711322.0</td>\n",
              "      <td>2123653597.0</td>\n",
              "      <td>2278195862.0</td>\n",
              "      <td>1487185586.0</td>\n",
              "      <td>1948934242.0</td>\n",
              "      <td>2279426801.0</td>\n",
              "      <td>2209934846.0</td>\n",
              "      <td>10</td>\n",
              "    </tr>\n",
              "    <tr>\n",
              "      <th>1101850</th>\n",
              "      <td>133459021</td>\n",
              "      <td>179719743.0</td>\n",
              "      <td>2111787673.0</td>\n",
              "      <td>2126488676.0</td>\n",
              "      <td>31838995.0</td>\n",
              "      <td>2141985222.0</td>\n",
              "      <td>2164030175.0</td>\n",
              "      <td>2150222226.0</td>\n",
              "      <td>2083630376.0</td>\n",
              "      <td>2016084258.0</td>\n",
              "      <td>10</td>\n",
              "    </tr>\n",
              "    <tr>\n",
              "      <th>1336878</th>\n",
              "      <td>2122092249</td>\n",
              "      <td>2132109814.0</td>\n",
              "      <td>2100271871.0</td>\n",
              "      <td>2065672539.0</td>\n",
              "      <td>2036413831.0</td>\n",
              "      <td>2131236363.0</td>\n",
              "      <td>1529204628.0</td>\n",
              "      <td>2011783148.0</td>\n",
              "      <td>1716250762.0</td>\n",
              "      <td>657471641.0</td>\n",
              "      <td>10</td>\n",
              "    </tr>\n",
              "    <tr>\n",
              "      <th>1515524</th>\n",
              "      <td>2141827797</td>\n",
              "      <td>2127085795.0</td>\n",
              "      <td>2013547785.0</td>\n",
              "      <td>2138529788.0</td>\n",
              "      <td>1994863898.0</td>\n",
              "      <td>1978221130.0</td>\n",
              "      <td>1678723351.0</td>\n",
              "      <td>2101100654.0</td>\n",
              "      <td>2314661240.0</td>\n",
              "      <td>1981200361.0</td>\n",
              "      <td>10</td>\n",
              "    </tr>\n",
              "    <tr>\n",
              "      <th>1606427</th>\n",
              "      <td>1907724546</td>\n",
              "      <td>nan</td>\n",
              "      <td>nan</td>\n",
              "      <td>nan</td>\n",
              "      <td>nan</td>\n",
              "      <td>nan</td>\n",
              "      <td>nan</td>\n",
              "      <td>nan</td>\n",
              "      <td>nan</td>\n",
              "      <td>nan</td>\n",
              "      <td>1</td>\n",
              "    </tr>\n",
              "  </tbody>\n",
              "</table>\n",
              "</div>"
            ],
            "text/plain": [
              "                  0             1  ...             9 paper_per_author\n",
              "1036332  1510273386  1827736641.0  ...  2209934846.0               10\n",
              "1101850   133459021   179719743.0  ...  2016084258.0               10\n",
              "1336878  2122092249  2132109814.0  ...   657471641.0               10\n",
              "1515524  2141827797  2127085795.0  ...  1981200361.0               10\n",
              "1606427  1907724546           nan  ...           nan                1\n",
              "\n",
              "[5 rows x 11 columns]"
            ]
          },
          "metadata": {
            "tags": []
          },
          "execution_count": 13
        },
        {
          "output_type": "stream",
          "text": [
            "time: 1min 2s (started: 2021-02-08 08:25:01 +00:00)\n"
          ],
          "name": "stdout"
        }
      ]
    },
    {
      "cell_type": "code",
      "metadata": {
        "colab": {
          "base_uri": "https://localhost:8080/",
          "height": 521
        },
        "id": "k1qdHwZ-ulei",
        "outputId": "7050f57b-95ee-4f0a-cd4c-af08e493c482"
      },
      "source": [
        "df_author_paper_slim = df_author_paper[[\"paper_per_author\"]]\r\n",
        "df_author_paper_slim.reset_index(inplace=True)\r\n",
        "df_author_paper_slim.rename(columns={\"index\": \"authorID\"}, inplace=True)\r\n",
        "df_author_paper_slim"
      ],
      "execution_count": 14,
      "outputs": [
        {
          "output_type": "stream",
          "text": [
            "/usr/local/lib/python3.6/dist-packages/pandas/core/frame.py:4308: SettingWithCopyWarning: \n",
            "A value is trying to be set on a copy of a slice from a DataFrame\n",
            "\n",
            "See the caveats in the documentation: https://pandas.pydata.org/pandas-docs/stable/user_guide/indexing.html#returning-a-view-versus-a-copy\n",
            "  errors=errors,\n"
          ],
          "name": "stderr"
        },
        {
          "output_type": "execute_result",
          "data": {
            "text/html": [
              "<div>\n",
              "<style scoped>\n",
              "    .dataframe tbody tr th:only-of-type {\n",
              "        vertical-align: middle;\n",
              "    }\n",
              "\n",
              "    .dataframe tbody tr th {\n",
              "        vertical-align: top;\n",
              "    }\n",
              "\n",
              "    .dataframe thead th {\n",
              "        text-align: right;\n",
              "    }\n",
              "</style>\n",
              "<table border=\"1\" class=\"dataframe\">\n",
              "  <thead>\n",
              "    <tr style=\"text-align: right;\">\n",
              "      <th></th>\n",
              "      <th>authorID</th>\n",
              "      <th>paper_per_author</th>\n",
              "    </tr>\n",
              "  </thead>\n",
              "  <tbody>\n",
              "    <tr>\n",
              "      <th>0</th>\n",
              "      <td>1036332</td>\n",
              "      <td>10</td>\n",
              "    </tr>\n",
              "    <tr>\n",
              "      <th>1</th>\n",
              "      <td>1101850</td>\n",
              "      <td>10</td>\n",
              "    </tr>\n",
              "    <tr>\n",
              "      <th>2</th>\n",
              "      <td>1336878</td>\n",
              "      <td>10</td>\n",
              "    </tr>\n",
              "    <tr>\n",
              "      <th>3</th>\n",
              "      <td>1515524</td>\n",
              "      <td>10</td>\n",
              "    </tr>\n",
              "    <tr>\n",
              "      <th>4</th>\n",
              "      <td>1606427</td>\n",
              "      <td>1</td>\n",
              "    </tr>\n",
              "    <tr>\n",
              "      <th>...</th>\n",
              "      <td>...</td>\n",
              "      <td>...</td>\n",
              "    </tr>\n",
              "    <tr>\n",
              "      <th>231234</th>\n",
              "      <td>2908387141</td>\n",
              "      <td>1</td>\n",
              "    </tr>\n",
              "    <tr>\n",
              "      <th>231235</th>\n",
              "      <td>2908425732</td>\n",
              "      <td>1</td>\n",
              "    </tr>\n",
              "    <tr>\n",
              "      <th>231236</th>\n",
              "      <td>2908436250</td>\n",
              "      <td>1</td>\n",
              "    </tr>\n",
              "    <tr>\n",
              "      <th>231237</th>\n",
              "      <td>2908499439</td>\n",
              "      <td>8</td>\n",
              "    </tr>\n",
              "    <tr>\n",
              "      <th>231238</th>\n",
              "      <td>2908506980</td>\n",
              "      <td>1</td>\n",
              "    </tr>\n",
              "  </tbody>\n",
              "</table>\n",
              "<p>231239 rows × 2 columns</p>\n",
              "</div>"
            ],
            "text/plain": [
              "          authorID  paper_per_author\n",
              "0          1036332                10\n",
              "1          1101850                10\n",
              "2          1336878                10\n",
              "3          1515524                10\n",
              "4          1606427                 1\n",
              "...            ...               ...\n",
              "231234  2908387141                 1\n",
              "231235  2908425732                 1\n",
              "231236  2908436250                 1\n",
              "231237  2908499439                 8\n",
              "231238  2908506980                 1\n",
              "\n",
              "[231239 rows x 2 columns]"
            ]
          },
          "metadata": {
            "tags": []
          },
          "execution_count": 14
        },
        {
          "output_type": "stream",
          "text": [
            "time: 30.5 ms (started: 2021-02-08 08:26:04 +00:00)\n"
          ],
          "name": "stdout"
        }
      ]
    },
    {
      "cell_type": "code",
      "metadata": {
        "colab": {
          "base_uri": "https://localhost:8080/",
          "height": 436
        },
        "id": "vfRTt2IbvadE",
        "outputId": "e7edaa04-ebe4-4bec-d2dc-2834fd7532cc"
      },
      "source": [
        "author_num_papers_train = df_author_paper_slim[df_author_paper_slim[\"authorID\"].isin(df_train[\"authorID\"])]\r\n",
        "author_num_papers_train"
      ],
      "execution_count": 15,
      "outputs": [
        {
          "output_type": "execute_result",
          "data": {
            "text/html": [
              "<div>\n",
              "<style scoped>\n",
              "    .dataframe tbody tr th:only-of-type {\n",
              "        vertical-align: middle;\n",
              "    }\n",
              "\n",
              "    .dataframe tbody tr th {\n",
              "        vertical-align: top;\n",
              "    }\n",
              "\n",
              "    .dataframe thead th {\n",
              "        text-align: right;\n",
              "    }\n",
              "</style>\n",
              "<table border=\"1\" class=\"dataframe\">\n",
              "  <thead>\n",
              "    <tr style=\"text-align: right;\">\n",
              "      <th></th>\n",
              "      <th>authorID</th>\n",
              "      <th>paper_per_author</th>\n",
              "    </tr>\n",
              "  </thead>\n",
              "  <tbody>\n",
              "    <tr>\n",
              "      <th>13</th>\n",
              "      <td>7248981</td>\n",
              "      <td>10</td>\n",
              "    </tr>\n",
              "    <tr>\n",
              "      <th>14</th>\n",
              "      <td>7318656</td>\n",
              "      <td>10</td>\n",
              "    </tr>\n",
              "    <tr>\n",
              "      <th>19</th>\n",
              "      <td>8845325</td>\n",
              "      <td>4</td>\n",
              "    </tr>\n",
              "    <tr>\n",
              "      <th>20</th>\n",
              "      <td>9723467</td>\n",
              "      <td>10</td>\n",
              "    </tr>\n",
              "    <tr>\n",
              "      <th>28</th>\n",
              "      <td>12499814</td>\n",
              "      <td>10</td>\n",
              "    </tr>\n",
              "    <tr>\n",
              "      <th>...</th>\n",
              "      <td>...</td>\n",
              "      <td>...</td>\n",
              "    </tr>\n",
              "    <tr>\n",
              "      <th>231212</th>\n",
              "      <td>2907983075</td>\n",
              "      <td>10</td>\n",
              "    </tr>\n",
              "    <tr>\n",
              "      <th>231215</th>\n",
              "      <td>2908006952</td>\n",
              "      <td>1</td>\n",
              "    </tr>\n",
              "    <tr>\n",
              "      <th>231219</th>\n",
              "      <td>2908065712</td>\n",
              "      <td>1</td>\n",
              "    </tr>\n",
              "    <tr>\n",
              "      <th>231222</th>\n",
              "      <td>2908154030</td>\n",
              "      <td>2</td>\n",
              "    </tr>\n",
              "    <tr>\n",
              "      <th>231228</th>\n",
              "      <td>2908220509</td>\n",
              "      <td>1</td>\n",
              "    </tr>\n",
              "  </tbody>\n",
              "</table>\n",
              "<p>23124 rows × 2 columns</p>\n",
              "</div>"
            ],
            "text/plain": [
              "          authorID  paper_per_author\n",
              "13         7248981                10\n",
              "14         7318656                10\n",
              "19         8845325                 4\n",
              "20         9723467                10\n",
              "28        12499814                10\n",
              "...            ...               ...\n",
              "231212  2907983075                10\n",
              "231215  2908006952                 1\n",
              "231219  2908065712                 1\n",
              "231222  2908154030                 2\n",
              "231228  2908220509                 1\n",
              "\n",
              "[23124 rows x 2 columns]"
            ]
          },
          "metadata": {
            "tags": []
          },
          "execution_count": 15
        },
        {
          "output_type": "stream",
          "text": [
            "time: 40 ms (started: 2021-02-08 08:26:04 +00:00)\n"
          ],
          "name": "stdout"
        }
      ]
    },
    {
      "cell_type": "code",
      "metadata": {
        "colab": {
          "base_uri": "https://localhost:8080/",
          "height": 436
        },
        "id": "56OYsHhhvu4V",
        "outputId": "b3c44367-bc1b-4063-a48c-e489f451b0d5"
      },
      "source": [
        "author_num_papers_test = df_author_paper_slim[df_author_paper_slim[\"authorID\"].isin(df_test[\"authorID\"])]\r\n",
        "author_num_papers_test"
      ],
      "execution_count": 16,
      "outputs": [
        {
          "output_type": "execute_result",
          "data": {
            "text/html": [
              "<div>\n",
              "<style scoped>\n",
              "    .dataframe tbody tr th:only-of-type {\n",
              "        vertical-align: middle;\n",
              "    }\n",
              "\n",
              "    .dataframe tbody tr th {\n",
              "        vertical-align: top;\n",
              "    }\n",
              "\n",
              "    .dataframe thead th {\n",
              "        text-align: right;\n",
              "    }\n",
              "</style>\n",
              "<table border=\"1\" class=\"dataframe\">\n",
              "  <thead>\n",
              "    <tr style=\"text-align: right;\">\n",
              "      <th></th>\n",
              "      <th>authorID</th>\n",
              "      <th>paper_per_author</th>\n",
              "    </tr>\n",
              "  </thead>\n",
              "  <tbody>\n",
              "    <tr>\n",
              "      <th>0</th>\n",
              "      <td>1036332</td>\n",
              "      <td>10</td>\n",
              "    </tr>\n",
              "    <tr>\n",
              "      <th>1</th>\n",
              "      <td>1101850</td>\n",
              "      <td>10</td>\n",
              "    </tr>\n",
              "    <tr>\n",
              "      <th>2</th>\n",
              "      <td>1336878</td>\n",
              "      <td>10</td>\n",
              "    </tr>\n",
              "    <tr>\n",
              "      <th>3</th>\n",
              "      <td>1515524</td>\n",
              "      <td>10</td>\n",
              "    </tr>\n",
              "    <tr>\n",
              "      <th>4</th>\n",
              "      <td>1606427</td>\n",
              "      <td>1</td>\n",
              "    </tr>\n",
              "    <tr>\n",
              "      <th>...</th>\n",
              "      <td>...</td>\n",
              "      <td>...</td>\n",
              "    </tr>\n",
              "    <tr>\n",
              "      <th>231234</th>\n",
              "      <td>2908387141</td>\n",
              "      <td>1</td>\n",
              "    </tr>\n",
              "    <tr>\n",
              "      <th>231235</th>\n",
              "      <td>2908425732</td>\n",
              "      <td>1</td>\n",
              "    </tr>\n",
              "    <tr>\n",
              "      <th>231236</th>\n",
              "      <td>2908436250</td>\n",
              "      <td>1</td>\n",
              "    </tr>\n",
              "    <tr>\n",
              "      <th>231237</th>\n",
              "      <td>2908499439</td>\n",
              "      <td>8</td>\n",
              "    </tr>\n",
              "    <tr>\n",
              "      <th>231238</th>\n",
              "      <td>2908506980</td>\n",
              "      <td>1</td>\n",
              "    </tr>\n",
              "  </tbody>\n",
              "</table>\n",
              "<p>208115 rows × 2 columns</p>\n",
              "</div>"
            ],
            "text/plain": [
              "          authorID  paper_per_author\n",
              "0          1036332                10\n",
              "1          1101850                10\n",
              "2          1336878                10\n",
              "3          1515524                10\n",
              "4          1606427                 1\n",
              "...            ...               ...\n",
              "231234  2908387141                 1\n",
              "231235  2908425732                 1\n",
              "231236  2908436250                 1\n",
              "231237  2908499439                 8\n",
              "231238  2908506980                 1\n",
              "\n",
              "[208115 rows x 2 columns]"
            ]
          },
          "metadata": {
            "tags": []
          },
          "execution_count": 16
        },
        {
          "output_type": "stream",
          "text": [
            "time: 45.6 ms (started: 2021-02-08 08:26:04 +00:00)\n"
          ],
          "name": "stdout"
        }
      ]
    },
    {
      "cell_type": "code",
      "metadata": {
        "id": "RsYb8DEl7-fR",
        "colab": {
          "base_uri": "https://localhost:8080/"
        },
        "outputId": "7dbf4fcf-3ccf-4ba0-d518-de184eac762d"
      },
      "source": [
        "# computes structural features for each node\r\n",
        "core_number = nx.core_number(G)\r\n",
        "onion_number = nx.onion_layers(G)\r\n",
        "avg_neighbor_degree = nx.average_neighbor_degree(G)\r\n",
        "degree_centrality = nx.degree_centrality(G)\r\n",
        "clustering = nx.clustering(G)\r\n",
        "print(\"Features computed\")"
      ],
      "execution_count": 17,
      "outputs": [
        {
          "output_type": "stream",
          "text": [
            "Features computed\n",
            "time: 4min 44s (started: 2021-02-08 08:26:04 +00:00)\n"
          ],
          "name": "stdout"
        }
      ]
    },
    {
      "cell_type": "code",
      "metadata": {
        "id": "i0pE1jyo8EqC",
        "colab": {
          "base_uri": "https://localhost:8080/"
        },
        "outputId": "2c017e2c-27b1-48d6-ab4f-55ce3e03371a"
      },
      "source": [
        "# create the training matrix. each node is represented as a vector of 3 features:\r\n",
        "# (1) its degree, (2) its core number and (3) the average degree of its neighbors\r\n",
        "# X_train_graph = np.zeros((n_train, 12))\r\n",
        "X_train_graph = np.zeros((n_train, 8))\r\n",
        "y_train_graph = np.zeros(n_train)\r\n",
        "for i, row in df_train.iterrows():\r\n",
        "    node = row['authorID']\r\n",
        "    X_train_graph[i, 0] = G.degree(node)\r\n",
        "    X_train_graph[i, 1] = core_number[node]\r\n",
        "    X_train_graph[i, 2] = avg_neighbor_degree[node]\r\n",
        "    X_train_graph[i, 3] = onion_number[node]\r\n",
        "    X_train_graph[i, 4] = degree_centrality[node]\r\n",
        "    X_train_graph[i, 5] = clustering[node]\r\n",
        "    X_train_graph[i, 6] = row['authorID']\r\n",
        "    #for author in G.neighbors(node):\r\n",
        "    k_neigbors = df_author_paper_slim[df_author_paper_slim['authorID'].isin(list(G.neighbors(node)))]\r\n",
        "    X_train_graph[i, 7] = k_neigbors['paper_per_author'].mean()\r\n",
        "    # X_train_graph[i, 8] = k_neigbors['paper_per_author'].std()\r\n",
        "    # X_train_graph[i, 9] = k_neigbors['paper_per_author'].median()\r\n",
        "    # X_train_graph[i, 10] = k_neigbors['paper_per_author'].quantile(0.25)\r\n",
        "    # X_train_graph[i, 11] = k_neigbors['paper_per_author'].quantile(0.75)\r\n",
        "    y_train_graph[i] = row['h_index']"
      ],
      "execution_count": 79,
      "outputs": [
        {
          "output_type": "stream",
          "text": [
            "time: 2min (started: 2021-02-08 09:49:19 +00:00)\n"
          ],
          "name": "stdout"
        }
      ]
    },
    {
      "cell_type": "code",
      "metadata": {
        "id": "fwYm20XS9yt_"
      },
      "source": [
        "# X_test_graph = np.zeros((n_test, 12))\r\n",
        "X_test_graph = np.zeros((n_test, 8))\r\n",
        "for i, row in df_test.iterrows():\r\n",
        "    node = row['authorID']\r\n",
        "    X_test_graph[i, 0] = G.degree(node)\r\n",
        "    X_test_graph[i, 1] = core_number[node]\r\n",
        "    X_test_graph[i, 2] = avg_neighbor_degree[node]\r\n",
        "    X_test_graph[i, 3] = onion_number[node]\r\n",
        "    X_test_graph[i, 4] = degree_centrality[node]\r\n",
        "    X_test_graph[i, 5] = clustering[node]\r\n",
        "    X_test_graph[i, 6] = row['authorID']\r\n",
        "    k_neigbors = df_author_paper_slim[df_author_paper_slim['authorID'].isin(list(G.neighbors(node)))]\r\n",
        "    X_test_graph[i, 7] = k_neigbors['paper_per_author'].mean()\r\n",
        "    # X_test_graph[i, 8] = k_neigbors['paper_per_author'].std()\r\n",
        "    # X_test_graph[i, 9] = k_neigbors['paper_per_author'].median()\r\n",
        "    # X_test_graph[i, 10] = k_neigbors['paper_per_author'].quantile(0.25)\r\n",
        "    # X_test_graph[i, 11] = k_neigbors['paper_per_author'].quantile(0.75)"
      ],
      "execution_count": null,
      "outputs": []
    },
    {
      "cell_type": "code",
      "metadata": {
        "id": "XVA1b3BFUYYS"
      },
      "source": [
        "print(X_train_graph.shape)\r\n",
        "print(y_train_graph.shape)\r\n",
        "print(X_test_graph.shape)"
      ],
      "execution_count": null,
      "outputs": []
    },
    {
      "cell_type": "code",
      "metadata": {
        "id": "1Z8aWHrAygkK"
      },
      "source": [
        "## Merge text features and graph\r\n",
        "# columns=[\"degree\", \"core_number\", \"avg_neighbors\", \"onion_number\", \"degree_centrality\", \"clustering\", \"authorID\",'K_mean','K_std','K_median','K_q1','K_q3']\r\n",
        "columns=[\"degree\", \"core_number\", \"avg_neighbors\", \"onion_number\", \"degree_centrality\", \"clustering\", \"authorID\",'K_mean']\r\n",
        "X_train_graph_df = pd.DataFrame(\r\n",
        "    X_train_graph, \r\n",
        "    columns=columns\r\n",
        ")\r\n",
        "X_test_graph_df = pd.DataFrame(\r\n",
        "    X_test_graph,\r\n",
        "    columns=columns\r\n",
        ")"
      ],
      "execution_count": null,
      "outputs": []
    },
    {
      "cell_type": "code",
      "metadata": {
        "id": "Ut-Dlc3v0XNj"
      },
      "source": [
        "X_train = X_train_graph_df.merge(df_train, on=\"authorID\")\r\n",
        "X_test = X_test_graph_df.merge(df_test, on=\"authorID\")"
      ],
      "execution_count": null,
      "outputs": []
    },
    {
      "cell_type": "code",
      "metadata": {
        "id": "TYkOKhjMu3rY"
      },
      "source": [
        "X_train = X_train.merge(author_num_papers_train, on=\"authorID\")\r\n",
        "X_test = X_test.merge(author_num_papers_test, on=\"authorID\")"
      ],
      "execution_count": null,
      "outputs": []
    },
    {
      "cell_type": "code",
      "metadata": {
        "id": "g9mQIk0so9jY"
      },
      "source": [
        "X_test"
      ],
      "execution_count": null,
      "outputs": []
    },
    {
      "cell_type": "code",
      "metadata": {
        "id": "8oZtpgxp1EPq"
      },
      "source": [
        "# Removing h_index and author_id\r\n",
        "y_train = X_train[\"h_index\"]\r\n",
        "X_train.drop(columns=[\"authorID\", \"h_index\"], inplace=True)\r\n",
        "print(X_train.head())\r\n",
        "\r\n",
        "X_test.drop(columns=[\"authorID\", \"h_index_pred\"], inplace=True)\r\n",
        "print(X_test.head())"
      ],
      "execution_count": null,
      "outputs": []
    },
    {
      "cell_type": "markdown",
      "metadata": {
        "id": "bFQKK0ZTvgaP"
      },
      "source": [
        "# A la francaise "
      ]
    },
    {
      "cell_type": "code",
      "metadata": {
        "id": "Rh2JAGg-8l86"
      },
      "source": [
        "# scale for 0 mean and 1 std per col\r\n",
        "scaler = MinMaxScaler()\r\n",
        "X_train_scaled = scaler.fit_transform(X_train)\r\n",
        "X_test_scaled = scaler.transform(X_test)\r\n",
        "\r\n",
        "X_train_final, X_test_final, y_train_final, y_test_final = train_test_split(\r\n",
        "    X_train_scaled, y_train, test_size=0.2, random_state=42\r\n",
        ")"
      ],
      "execution_count": null,
      "outputs": []
    },
    {
      "cell_type": "code",
      "metadata": {
        "id": "d4KuoOsN8rlp"
      },
      "source": [
        "# train a regression model and make predictions\r\n",
        "model = xgb.XGBRegressor()\r\n",
        "model.fit(X_train_final, y_train_final)"
      ],
      "execution_count": null,
      "outputs": []
    },
    {
      "cell_type": "code",
      "metadata": {
        "id": "mkTMXoKowM63"
      },
      "source": [
        "y_pred = model.predict(X_test_final)\r\n",
        "print(f\"Loss: {mean_absolute_error(y_test_final, y_pred)}\")"
      ],
      "execution_count": null,
      "outputs": []
    },
    {
      "cell_type": "code",
      "metadata": {
        "id": "xIpCOE558sOT"
      },
      "source": [
        "# Save to file\r\n",
        "y_pred_save = model.predict(X_test_scaled)\r\n",
        "df_test['h_index_pred'].update(pd.Series(np.round_(y_pred_save, decimals=3)))\r\n",
        "df_test.loc[:, [\"authorID\", \"h_index_pred\"]].to_csv(\r\n",
        "    'predictions.csv', index=False\r\n",
        ")"
      ],
      "execution_count": null,
      "outputs": []
    },
    {
      "cell_type": "code",
      "metadata": {
        "id": "98KZmt2Zwkur"
      },
      "source": [
        "df_test.loc[:, [\"authorID\", \"h_index_pred\"]]"
      ],
      "execution_count": null,
      "outputs": []
    },
    {
      "cell_type": "markdown",
      "metadata": {
        "id": "e15EOhRcyr7X"
      },
      "source": [
        "# finetuning \r\n",
        "\r\n",
        "---\r\n",
        "\r\n"
      ]
    },
    {
      "cell_type": "code",
      "metadata": {
        "id": "O1ozV3Wz-Z0F",
        "colab": {
          "base_uri": "https://localhost:8080/"
        },
        "outputId": "2bafe95c-ab0c-47b7-f66d-60baeb76446f"
      },
      "source": [
        "## Hyper parameter search\r\n",
        "train_dmatrix = xgb.DMatrix(data=X_train_final, label=y_train_final)"
      ],
      "execution_count": null,
      "outputs": [
        {
          "output_type": "stream",
          "text": [
            "time: 39.3 ms (started: 2021-02-07 11:03:47 +00:00)\n"
          ],
          "name": "stdout"
        }
      ]
    },
    {
      "cell_type": "markdown",
      "metadata": {
        "id": "8jTqSTbQF_Qg"
      },
      "source": [
        "## Early stopping for num of boosting rounds"
      ]
    },
    {
      "cell_type": "code",
      "metadata": {
        "id": "ROQoNIxSFnSb",
        "colab": {
          "base_uri": "https://localhost:8080/",
          "height": 748
        },
        "outputId": "b1646bcf-4db2-4537-febe-eb60f71ce396"
      },
      "source": [
        "# Creata the parameter dictionary for each tree: params\r\n",
        "params = {\r\n",
        "    \"objective\":\"reg:squarederror\", \r\n",
        "    \"max_depth\": 5,\r\n",
        "    \"n_estimators\": 200\r\n",
        "}\r\n",
        "\r\n",
        "# Perform cross-validation with early-stopping: cv_results\r\n",
        "cv_results = xgb.cv(\r\n",
        "    dtrain=train_dmatrix, \r\n",
        "    nfold=4, \r\n",
        "    params=params, \r\n",
        "    metrics=\"mae\", \r\n",
        "    early_stopping_rounds=10, \r\n",
        "    num_boost_round=100,\r\n",
        "    seed=123\r\n",
        ")\r\n",
        "\r\n",
        "cv_results"
      ],
      "execution_count": null,
      "outputs": [
        {
          "output_type": "execute_result",
          "data": {
            "text/html": [
              "<div>\n",
              "<style scoped>\n",
              "    .dataframe tbody tr th:only-of-type {\n",
              "        vertical-align: middle;\n",
              "    }\n",
              "\n",
              "    .dataframe tbody tr th {\n",
              "        vertical-align: top;\n",
              "    }\n",
              "\n",
              "    .dataframe thead th {\n",
              "        text-align: right;\n",
              "    }\n",
              "</style>\n",
              "<table border=\"1\" class=\"dataframe\">\n",
              "  <thead>\n",
              "    <tr style=\"text-align: right;\">\n",
              "      <th></th>\n",
              "      <th>train-mae-mean</th>\n",
              "      <th>train-mae-std</th>\n",
              "      <th>test-mae-mean</th>\n",
              "      <th>test-mae-std</th>\n",
              "    </tr>\n",
              "  </thead>\n",
              "  <tbody>\n",
              "    <tr>\n",
              "      <th>0</th>\n",
              "      <td>6.512381</td>\n",
              "      <td>0.033530</td>\n",
              "      <td>6.530529</td>\n",
              "      <td>0.122788</td>\n",
              "    </tr>\n",
              "    <tr>\n",
              "      <th>1</th>\n",
              "      <td>5.230396</td>\n",
              "      <td>0.030879</td>\n",
              "      <td>5.292411</td>\n",
              "      <td>0.131111</td>\n",
              "    </tr>\n",
              "    <tr>\n",
              "      <th>2</th>\n",
              "      <td>4.681756</td>\n",
              "      <td>0.027850</td>\n",
              "      <td>4.796288</td>\n",
              "      <td>0.139419</td>\n",
              "    </tr>\n",
              "    <tr>\n",
              "      <th>3</th>\n",
              "      <td>4.440768</td>\n",
              "      <td>0.027814</td>\n",
              "      <td>4.615366</td>\n",
              "      <td>0.142417</td>\n",
              "    </tr>\n",
              "    <tr>\n",
              "      <th>4</th>\n",
              "      <td>4.314823</td>\n",
              "      <td>0.029789</td>\n",
              "      <td>4.557977</td>\n",
              "      <td>0.140311</td>\n",
              "    </tr>\n",
              "    <tr>\n",
              "      <th>5</th>\n",
              "      <td>4.239606</td>\n",
              "      <td>0.027406</td>\n",
              "      <td>4.545356</td>\n",
              "      <td>0.127317</td>\n",
              "    </tr>\n",
              "    <tr>\n",
              "      <th>6</th>\n",
              "      <td>4.182877</td>\n",
              "      <td>0.026721</td>\n",
              "      <td>4.539812</td>\n",
              "      <td>0.114327</td>\n",
              "    </tr>\n",
              "    <tr>\n",
              "      <th>7</th>\n",
              "      <td>4.144245</td>\n",
              "      <td>0.024540</td>\n",
              "      <td>4.537821</td>\n",
              "      <td>0.108271</td>\n",
              "    </tr>\n",
              "    <tr>\n",
              "      <th>8</th>\n",
              "      <td>4.104380</td>\n",
              "      <td>0.019467</td>\n",
              "      <td>4.541241</td>\n",
              "      <td>0.105299</td>\n",
              "    </tr>\n",
              "    <tr>\n",
              "      <th>9</th>\n",
              "      <td>4.059746</td>\n",
              "      <td>0.018686</td>\n",
              "      <td>4.538721</td>\n",
              "      <td>0.103680</td>\n",
              "    </tr>\n",
              "    <tr>\n",
              "      <th>10</th>\n",
              "      <td>4.011544</td>\n",
              "      <td>0.018462</td>\n",
              "      <td>4.540724</td>\n",
              "      <td>0.098882</td>\n",
              "    </tr>\n",
              "    <tr>\n",
              "      <th>11</th>\n",
              "      <td>3.969213</td>\n",
              "      <td>0.015545</td>\n",
              "      <td>4.539878</td>\n",
              "      <td>0.093624</td>\n",
              "    </tr>\n",
              "    <tr>\n",
              "      <th>12</th>\n",
              "      <td>3.925572</td>\n",
              "      <td>0.016473</td>\n",
              "      <td>4.536955</td>\n",
              "      <td>0.095537</td>\n",
              "    </tr>\n",
              "    <tr>\n",
              "      <th>13</th>\n",
              "      <td>3.888956</td>\n",
              "      <td>0.016689</td>\n",
              "      <td>4.543103</td>\n",
              "      <td>0.088194</td>\n",
              "    </tr>\n",
              "    <tr>\n",
              "      <th>14</th>\n",
              "      <td>3.857279</td>\n",
              "      <td>0.022323</td>\n",
              "      <td>4.539264</td>\n",
              "      <td>0.081766</td>\n",
              "    </tr>\n",
              "    <tr>\n",
              "      <th>15</th>\n",
              "      <td>3.815661</td>\n",
              "      <td>0.019085</td>\n",
              "      <td>4.526284</td>\n",
              "      <td>0.079085</td>\n",
              "    </tr>\n",
              "    <tr>\n",
              "      <th>16</th>\n",
              "      <td>3.781229</td>\n",
              "      <td>0.020461</td>\n",
              "      <td>4.531713</td>\n",
              "      <td>0.083478</td>\n",
              "    </tr>\n",
              "    <tr>\n",
              "      <th>17</th>\n",
              "      <td>3.747499</td>\n",
              "      <td>0.024232</td>\n",
              "      <td>4.531349</td>\n",
              "      <td>0.082407</td>\n",
              "    </tr>\n",
              "    <tr>\n",
              "      <th>18</th>\n",
              "      <td>3.717136</td>\n",
              "      <td>0.020853</td>\n",
              "      <td>4.520039</td>\n",
              "      <td>0.082373</td>\n",
              "    </tr>\n",
              "    <tr>\n",
              "      <th>19</th>\n",
              "      <td>3.684262</td>\n",
              "      <td>0.022220</td>\n",
              "      <td>4.513883</td>\n",
              "      <td>0.077170</td>\n",
              "    </tr>\n",
              "    <tr>\n",
              "      <th>20</th>\n",
              "      <td>3.651714</td>\n",
              "      <td>0.026761</td>\n",
              "      <td>4.508451</td>\n",
              "      <td>0.074796</td>\n",
              "    </tr>\n",
              "    <tr>\n",
              "      <th>21</th>\n",
              "      <td>3.622872</td>\n",
              "      <td>0.027443</td>\n",
              "      <td>4.499397</td>\n",
              "      <td>0.077157</td>\n",
              "    </tr>\n",
              "  </tbody>\n",
              "</table>\n",
              "</div>"
            ],
            "text/plain": [
              "    train-mae-mean  train-mae-std  test-mae-mean  test-mae-std\n",
              "0         6.512381       0.033530       6.530529      0.122788\n",
              "1         5.230396       0.030879       5.292411      0.131111\n",
              "2         4.681756       0.027850       4.796288      0.139419\n",
              "3         4.440768       0.027814       4.615366      0.142417\n",
              "4         4.314823       0.029789       4.557977      0.140311\n",
              "5         4.239606       0.027406       4.545356      0.127317\n",
              "6         4.182877       0.026721       4.539812      0.114327\n",
              "7         4.144245       0.024540       4.537821      0.108271\n",
              "8         4.104380       0.019467       4.541241      0.105299\n",
              "9         4.059746       0.018686       4.538721      0.103680\n",
              "10        4.011544       0.018462       4.540724      0.098882\n",
              "11        3.969213       0.015545       4.539878      0.093624\n",
              "12        3.925572       0.016473       4.536955      0.095537\n",
              "13        3.888956       0.016689       4.543103      0.088194\n",
              "14        3.857279       0.022323       4.539264      0.081766\n",
              "15        3.815661       0.019085       4.526284      0.079085\n",
              "16        3.781229       0.020461       4.531713      0.083478\n",
              "17        3.747499       0.024232       4.531349      0.082407\n",
              "18        3.717136       0.020853       4.520039      0.082373\n",
              "19        3.684262       0.022220       4.513883      0.077170\n",
              "20        3.651714       0.026761       4.508451      0.074796\n",
              "21        3.622872       0.027443       4.499397      0.077157"
            ]
          },
          "metadata": {
            "tags": []
          },
          "execution_count": 35
        },
        {
          "output_type": "stream",
          "text": [
            "time: 55.8 s (started: 2021-02-07 11:07:13 +00:00)\n"
          ],
          "name": "stdout"
        }
      ]
    },
    {
      "cell_type": "markdown",
      "metadata": {
        "id": "vgNieyCfF8zw"
      },
      "source": [
        "## Tunig eta (learning rate)"
      ]
    },
    {
      "cell_type": "code",
      "metadata": {
        "id": "lGg6BbT1EZsd",
        "colab": {
          "base_uri": "https://localhost:8080/"
        },
        "outputId": "a6581a3c-5598-40fd-c31e-769409635d53"
      },
      "source": [
        "# Create list of eta values and empty list to store final round rmse per xgboost model\r\n",
        "eta_vals = [0.001, 0.01, 0.1]\r\n",
        "best_rmse = []\r\n",
        "\r\n",
        "# Systematicallyvary the eta\r\n",
        "for curr_val in eta_vals:\r\n",
        "    params['eta'] = curr_val\r\n",
        "    \r\n",
        "    # Perform cross-validation: cv_results\r\n",
        "    cv_results = xgb.cv(dtrain=train_dmatrix, params=params, nfold=4,\r\n",
        "                        early_stopping_rounds=5, num_boost_round=10, metrics='mae', seed=123, \r\n",
        "                       as_pandas=True)\r\n",
        "    \r\n",
        "    # Append the final round rmse to best_rmse\r\n",
        "    best_rmse.append(cv_results['test-mae-mean'].tail().values[-1])\r\n",
        "    \r\n",
        "# Print the result DataFrame\r\n",
        "print(pd.DataFrame(list(zip(eta_vals, best_rmse)), columns=['eta', 'best_mae']))"
      ],
      "execution_count": null,
      "outputs": [
        {
          "output_type": "stream",
          "text": [
            "     eta  best_mae\n",
            "0  0.001  8.974660\n",
            "1  0.010  8.204939\n",
            "2  0.100  4.830492\n",
            "time: 36.8 s (started: 2021-02-06 20:14:08 +00:00)\n"
          ],
          "name": "stdout"
        }
      ]
    },
    {
      "cell_type": "markdown",
      "metadata": {
        "id": "FZAR-eNRGR0l"
      },
      "source": [
        "## Tunig tree depth"
      ]
    },
    {
      "cell_type": "code",
      "metadata": {
        "id": "9mAfRkJDFxJh",
        "colab": {
          "base_uri": "https://localhost:8080/"
        },
        "outputId": "70f85a18-a15a-4916-94b1-e8d5883189cb"
      },
      "source": [
        "# Create the parameter dictionary\r\n",
        "params = {\"objective\":\"reg:squarederror\"}\r\n",
        "\r\n",
        "# Create list of max_depth values\r\n",
        "max_depths = [2, 5, 10, 20, 50, 100, 500, 1000]\r\n",
        "best_rmse = []\r\n",
        "\r\n",
        "for curr_val in max_depths:\r\n",
        "    params['max_depth'] = curr_val\r\n",
        "    \r\n",
        "    # Perform cross-validation\r\n",
        "    cv_results = xgb.cv(dtrain=train_dmatrix, params=params, nfold=4, \r\n",
        "                       early_stopping_rounds=10, num_boost_round=50, metrics='mae', seed=123,\r\n",
        "                        as_pandas=True)\r\n",
        "    \r\n",
        "    # Append the final round rmse to best_rmse\r\n",
        "    best_rmse.append(cv_results['test-mae-mean'].tail().values[-1])\r\n",
        "    \r\n",
        "# Print the result DataFrame\r\n",
        "print(pd.DataFrame(list(zip(max_depths, best_rmse)), columns=['max_depth', 'best_mae']))"
      ],
      "execution_count": null,
      "outputs": [
        {
          "output_type": "stream",
          "text": [
            "   max_depth  best_mae\n",
            "0          2  5.020174\n",
            "1          5  4.499397\n",
            "2         10  4.505210\n",
            "3         20  4.602783\n",
            "4         50  4.619110\n",
            "5        100  4.619110\n",
            "6        500  4.619110\n",
            "7       1000  4.619110\n",
            "time: 12min 55s (started: 2021-02-06 20:14:45 +00:00)\n"
          ],
          "name": "stdout"
        }
      ]
    },
    {
      "cell_type": "markdown",
      "metadata": {
        "id": "0ahqZ9_wG3Pq"
      },
      "source": [
        "## Tuning colsample_bytree"
      ]
    },
    {
      "cell_type": "code",
      "metadata": {
        "id": "Hyybi2C_GeOz",
        "colab": {
          "base_uri": "https://localhost:8080/"
        },
        "outputId": "3872a732-4abe-46f9-aaae-c93de39e4fdd"
      },
      "source": [
        "# Create the parameter dictionary\r\n",
        "params={\"objective\":\"reg:squarederror\", \"max_depth\":3}\r\n",
        "\r\n",
        "# Create list of hyperparameter values: colsample_bytree_vals\r\n",
        "colsample_bytree_vals = [0.1, 0.5, 0.8, 1]\r\n",
        "best_rmse = []\r\n",
        "\r\n",
        "# Systematically vary the hyperparameter value \r\n",
        "for curr_val in colsample_bytree_vals:\r\n",
        "    params['colsample_bytree'] = curr_val\r\n",
        "    \r\n",
        "    # Perform cross-validation\r\n",
        "    cv_results = xgb.cv(dtrain=train_dmatrix, params=params, nfold=4,\r\n",
        "                 num_boost_round=10, early_stopping_rounds=5,\r\n",
        "                 metrics=\"mae\", as_pandas=True, seed=123)\r\n",
        "    \r\n",
        "    # Append the final round rmse to best_rmse\r\n",
        "    best_rmse.append(cv_results[\"test-mae-mean\"].tail().values[-1])\r\n",
        "\r\n",
        "# Print the resultant DataFrame\r\n",
        "print(pd.DataFrame(list(zip(colsample_bytree_vals, best_rmse)), \r\n",
        "                   columns=[\"colsample_bytree\",\"best_mae\"]))"
      ],
      "execution_count": null,
      "outputs": [
        {
          "output_type": "stream",
          "text": [
            "   colsample_bytree  best_mae\n",
            "0               0.1  5.618477\n",
            "1               0.5  4.950673\n",
            "2               0.8  4.782896\n",
            "3               1.0  4.796019\n",
            "time: 29.4 s (started: 2021-02-06 20:27:41 +00:00)\n"
          ],
          "name": "stdout"
        }
      ]
    },
    {
      "cell_type": "code",
      "metadata": {
        "id": "I4fWSLDPG-pO",
        "colab": {
          "base_uri": "https://localhost:8080/"
        },
        "outputId": "c64cca13-a630-469e-def6-356c73553fd5"
      },
      "source": [
        "from sklearn.model_selection import GridSearchCV\r\n",
        "\r\n",
        "# Create the parameter grid: gbm_param_grid\r\n",
        "gbm_param_grid = {\r\n",
        "    'colsample_bytree': [0.8],\r\n",
        "    'n_estimators': [200],\r\n",
        "    'max_depth': [5],\r\n",
        "    'eta': [0.1, 0.2, 0.5],\r\n",
        "    'early_stopping_rounds': [10], \r\n",
        "    'num_boost_round': [10]\r\n",
        "}\r\n",
        "\r\n",
        "# Instantiate the regressor: gbm\r\n",
        "gbm = xgb.XGBRegressor()\r\n",
        "\r\n",
        "# Perform grid search: grid_mse\r\n",
        "grid_mse = GridSearchCV(param_grid=gbm_param_grid, estimator=gbm, \r\n",
        "                        scoring='neg_mean_absolute_error', cv=2, verbose=1, n_jobs=-1)\r\n",
        "\r\n",
        "# Fit grid_mse to the data\r\n",
        "grid_mse.fit(X_train_scaled, y_train)\r\n",
        "\r\n",
        "# Print the best parameters and lowest RMSE\r\n",
        "print(\"Best parameters found: \", grid_mse.best_params_)\r\n",
        "print(\"Lowest MAE found: \", np.abs(grid_mse.best_score_))"
      ],
      "execution_count": null,
      "outputs": [
        {
          "output_type": "stream",
          "text": [
            "Fitting 2 folds for each of 3 candidates, totalling 6 fits\n"
          ],
          "name": "stdout"
        },
        {
          "output_type": "stream",
          "text": [
            "[Parallel(n_jobs=-1)]: Using backend LokyBackend with 2 concurrent workers.\n",
            "[Parallel(n_jobs=-1)]: Done   6 out of   6 | elapsed:  4.4min finished\n"
          ],
          "name": "stderr"
        },
        {
          "output_type": "stream",
          "text": [
            "[20:45:43] WARNING: /workspace/src/objective/regression_obj.cu:152: reg:linear is now deprecated in favor of reg:squarederror.\n",
            "Best parameters found:  {'colsample_bytree': 0.8, 'early_stopping_rounds': 10, 'eta': 0.1, 'max_depth': 5, 'n_estimators': 200, 'num_boost_round': 10}\n",
            "Lowest MAE found:  4.370246171951294\n",
            "time: 6min 9s (started: 2021-02-06 20:41:17 +00:00)\n"
          ],
          "name": "stdout"
        }
      ]
    },
    {
      "cell_type": "markdown",
      "metadata": {
        "id": "MksaU1VT7xm5"
      },
      "source": [
        "Best parameters found:  {'colsample_bytree': 0.8, 'early_stopping_rounds': 10, 'eta': 0.1, 'max_depth': 5, 'n_estimators': 100, 'num_boost_round': 10}\r\n",
        "\r\n",
        "4.37"
      ]
    },
    {
      "cell_type": "markdown",
      "metadata": {
        "id": "XG3GBxvJIiJo"
      },
      "source": [
        "## Random Search"
      ]
    },
    {
      "cell_type": "code",
      "metadata": {
        "id": "qtN36q9PHqSO"
      },
      "source": [
        "from sklearn.model_selection import RandomizedSearchCV\r\n",
        "\r\n",
        "# Create the parameter grid: here it corresponds to a range of values it can take from (distribution sort of)\r\n",
        "gbm_param_grid = {\r\n",
        "    'n_estimators': range(1, 1000),\r\n",
        "    'max_depth': range(2, 12),\r\n",
        "    'colsample_bytree': [0.1*i for i in range(1, 10)],\r\n",
        "    'eta': [0.001*i for i in range(1, 10)] + [0.01*i for i in range(1, 10)] + [0.1*i for i in range(1, 10)],\r\n",
        "}\r\n",
        "\r\n",
        "# Instantiate the regressor: gbm\r\n",
        "gbm = xgb.XGBRegressor()\r\n",
        "\r\n",
        "# Perform random search: randomized_mse\r\n",
        "randomized_mae = RandomizedSearchCV(param_distributions=gbm_param_grid, estimator=gbm, \r\n",
        "                                    scoring='neg_mean_absolute_error', n_iter=100, cv=2, \r\n",
        "                                   verbose=1, n_jobs=-1)\r\n",
        "\r\n",
        "# Fit randomized_mse to the data\r\n",
        "randomized_mae.fit(X_train, y_train)\r\n",
        "\r\n",
        "# Print the best parameters and lowest RMSE\r\n",
        "print(\"Best parameters found: \", randomized_mae.best_params_)\r\n",
        "print(\"Lowest MAE found: \", np.abs(randomized_mae.best_score_))"
      ],
      "execution_count": null,
      "outputs": []
    },
    {
      "cell_type": "code",
      "metadata": {
        "id": "I-OBhLEdZL7U"
      },
      "source": [
        "# Save to file\r\n",
        "model = xgb.XGBRegressor(\r\n",
        "    n_estimators= 12, \r\n",
        "    max_depth= 7, \r\n",
        "    eta= 0.06, \r\n",
        "    colsample_bytree=0.8,\r\n",
        ")\r\n",
        "model.fit(X_train_scaled, y_train)\r\n",
        "y_pred = model.predict(X_test_scaled)\r\n",
        "df_test['h_index_pred'].update(pd.Series(np.round_(y_pred, decimals=3)))\r\n",
        "df_test.loc[:, [\"authorID\", \"h_index_pred\"]].to_csv(\r\n",
        "    'predictions.csv', index=False\r\n",
        ")"
      ],
      "execution_count": null,
      "outputs": []
    }
  ]
}