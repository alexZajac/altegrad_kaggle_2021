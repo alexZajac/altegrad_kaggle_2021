{
  "nbformat": 4,
  "nbformat_minor": 0,
  "metadata": {
    "colab": {
      "name": "Tantot_sous_testo_ Altegrad.gouv",
      "provenance": [],
      "collapsed_sections": [],
      "machine_shape": "hm"
    },
    "kernelspec": {
      "display_name": "Python 3",
      "name": "python3"
    }
  },
  "cells": [
    {
      "cell_type": "code",
      "metadata": {
        "colab": {
          "base_uri": "https://localhost:8080/"
        },
        "id": "ivYv6anz9Lw6",
        "outputId": "2fdac391-3d68-417c-c4e2-f8095889d4e9"
      },
      "source": [
        "!pip install gdown\n",
        "!pip install ipython-autotime\n",
        "!pip install catboost\n",
        "%load_ext autotime"
      ],
      "execution_count": null,
      "outputs": [
        {
          "output_type": "stream",
          "text": [
            "Requirement already satisfied: gdown in /usr/local/lib/python3.7/dist-packages (3.6.4)\n",
            "Requirement already satisfied: tqdm in /usr/local/lib/python3.7/dist-packages (from gdown) (4.41.1)\n",
            "Requirement already satisfied: requests in /usr/local/lib/python3.7/dist-packages (from gdown) (2.23.0)\n",
            "Requirement already satisfied: six in /usr/local/lib/python3.7/dist-packages (from gdown) (1.15.0)\n",
            "Requirement already satisfied: urllib3!=1.25.0,!=1.25.1,<1.26,>=1.21.1 in /usr/local/lib/python3.7/dist-packages (from requests->gdown) (1.24.3)\n",
            "Requirement already satisfied: certifi>=2017.4.17 in /usr/local/lib/python3.7/dist-packages (from requests->gdown) (2020.12.5)\n",
            "Requirement already satisfied: chardet<4,>=3.0.2 in /usr/local/lib/python3.7/dist-packages (from requests->gdown) (3.0.4)\n",
            "Requirement already satisfied: idna<3,>=2.5 in /usr/local/lib/python3.7/dist-packages (from requests->gdown) (2.10)\n",
            "Collecting ipython-autotime\n",
            "  Downloading https://files.pythonhosted.org/packages/b4/c9/b413a24f759641bc27ef98c144b590023c8038dfb8a3f09e713e9dff12c1/ipython_autotime-0.3.1-py2.py3-none-any.whl\n",
            "Requirement already satisfied: ipython in /usr/local/lib/python3.7/dist-packages (from ipython-autotime) (5.5.0)\n",
            "Requirement already satisfied: simplegeneric>0.8 in /usr/local/lib/python3.7/dist-packages (from ipython->ipython-autotime) (0.8.1)\n",
            "Requirement already satisfied: setuptools>=18.5 in /usr/local/lib/python3.7/dist-packages (from ipython->ipython-autotime) (53.0.0)\n",
            "Requirement already satisfied: decorator in /usr/local/lib/python3.7/dist-packages (from ipython->ipython-autotime) (4.4.2)\n",
            "Requirement already satisfied: pickleshare in /usr/local/lib/python3.7/dist-packages (from ipython->ipython-autotime) (0.7.5)\n",
            "Requirement already satisfied: traitlets>=4.2 in /usr/local/lib/python3.7/dist-packages (from ipython->ipython-autotime) (5.0.5)\n",
            "Requirement already satisfied: pygments in /usr/local/lib/python3.7/dist-packages (from ipython->ipython-autotime) (2.6.1)\n",
            "Requirement already satisfied: prompt-toolkit<2.0.0,>=1.0.4 in /usr/local/lib/python3.7/dist-packages (from ipython->ipython-autotime) (1.0.18)\n",
            "Requirement already satisfied: pexpect; sys_platform != \"win32\" in /usr/local/lib/python3.7/dist-packages (from ipython->ipython-autotime) (4.8.0)\n",
            "Requirement already satisfied: ipython-genutils in /usr/local/lib/python3.7/dist-packages (from traitlets>=4.2->ipython->ipython-autotime) (0.2.0)\n",
            "Requirement already satisfied: six>=1.9.0 in /usr/local/lib/python3.7/dist-packages (from prompt-toolkit<2.0.0,>=1.0.4->ipython->ipython-autotime) (1.15.0)\n",
            "Requirement already satisfied: wcwidth in /usr/local/lib/python3.7/dist-packages (from prompt-toolkit<2.0.0,>=1.0.4->ipython->ipython-autotime) (0.2.5)\n",
            "Requirement already satisfied: ptyprocess>=0.5 in /usr/local/lib/python3.7/dist-packages (from pexpect; sys_platform != \"win32\"->ipython->ipython-autotime) (0.7.0)\n",
            "Installing collected packages: ipython-autotime\n",
            "Successfully installed ipython-autotime-0.3.1\n",
            "Collecting catboost\n",
            "\u001b[?25l  Downloading https://files.pythonhosted.org/packages/96/3b/bb419654adcf7efff42ed8a3f84e50c8f236424b7ed1cc8ccd290852e003/catboost-0.24.4-cp37-none-manylinux1_x86_64.whl (65.7MB)\n",
            "\u001b[K     |████████████████████████████████| 65.7MB 66kB/s \n",
            "\u001b[?25hRequirement already satisfied: plotly in /usr/local/lib/python3.7/dist-packages (from catboost) (4.4.1)\n",
            "Requirement already satisfied: six in /usr/local/lib/python3.7/dist-packages (from catboost) (1.15.0)\n",
            "Requirement already satisfied: pandas>=0.24.0 in /usr/local/lib/python3.7/dist-packages (from catboost) (1.1.5)\n",
            "Requirement already satisfied: matplotlib in /usr/local/lib/python3.7/dist-packages (from catboost) (3.2.2)\n",
            "Requirement already satisfied: scipy in /usr/local/lib/python3.7/dist-packages (from catboost) (1.4.1)\n",
            "Requirement already satisfied: graphviz in /usr/local/lib/python3.7/dist-packages (from catboost) (0.10.1)\n",
            "Requirement already satisfied: numpy>=1.16.0 in /usr/local/lib/python3.7/dist-packages (from catboost) (1.19.5)\n",
            "Requirement already satisfied: retrying>=1.3.3 in /usr/local/lib/python3.7/dist-packages (from plotly->catboost) (1.3.3)\n",
            "Requirement already satisfied: python-dateutil>=2.7.3 in /usr/local/lib/python3.7/dist-packages (from pandas>=0.24.0->catboost) (2.8.1)\n",
            "Requirement already satisfied: pytz>=2017.2 in /usr/local/lib/python3.7/dist-packages (from pandas>=0.24.0->catboost) (2018.9)\n",
            "Requirement already satisfied: cycler>=0.10 in /usr/local/lib/python3.7/dist-packages (from matplotlib->catboost) (0.10.0)\n",
            "Requirement already satisfied: kiwisolver>=1.0.1 in /usr/local/lib/python3.7/dist-packages (from matplotlib->catboost) (1.3.1)\n",
            "Requirement already satisfied: pyparsing!=2.0.4,!=2.1.2,!=2.1.6,>=2.0.1 in /usr/local/lib/python3.7/dist-packages (from matplotlib->catboost) (2.4.7)\n",
            "Installing collected packages: catboost\n",
            "Successfully installed catboost-0.24.4\n",
            "time: 1.54 ms (started: 2021-03-01 09:57:16 +00:00)\n"
          ],
          "name": "stdout"
        }
      ]
    },
    {
      "cell_type": "markdown",
      "metadata": {
        "id": "c_P0fvJt7sob"
      },
      "source": [
        "# Train & Test authors"
      ]
    },
    {
      "cell_type": "code",
      "metadata": {
        "colab": {
          "base_uri": "https://localhost:8080/"
        },
        "id": "Llizn38y6ysf",
        "outputId": "89c93193-f770-43a2-e11e-9c66a745779a"
      },
      "source": [
        "!gdown \"https://drive.google.com/uc?id=1Qbi954Bwx-PplM8F_7TrB_blcqcB-bF2\""
      ],
      "execution_count": null,
      "outputs": [
        {
          "output_type": "stream",
          "text": [
            "Downloading...\n",
            "From: https://drive.google.com/uc?id=1Qbi954Bwx-PplM8F_7TrB_blcqcB-bF2\n",
            "To: /content/train.csv\n",
            "\r  0% 0.00/305k [00:00<?, ?B/s]\r100% 305k/305k [00:00<00:00, 45.8MB/s]\n",
            "time: 1.43 s (started: 2021-03-01 09:57:20 +00:00)\n"
          ],
          "name": "stdout"
        }
      ]
    },
    {
      "cell_type": "code",
      "metadata": {
        "colab": {
          "base_uri": "https://localhost:8080/"
        },
        "id": "xvDMYQkW82wK",
        "outputId": "d9206e15-19d4-4a84-afba-e3774448c539"
      },
      "source": [
        "!gdown \"https://drive.google.com/uc?id=1hWycEy8rQ8e_krGyUhqGQiMBxZtD9SWy\""
      ],
      "execution_count": null,
      "outputs": [
        {
          "output_type": "stream",
          "text": [
            "Downloading...\n",
            "From: https://drive.google.com/uc?id=1hWycEy8rQ8e_krGyUhqGQiMBxZtD9SWy\n",
            "To: /content/test.csv\n",
            "\r0.00B [00:00, ?B/s]\r2.47MB [00:00, 78.9MB/s]\n",
            "time: 2.33 s (started: 2021-03-01 09:57:25 +00:00)\n"
          ],
          "name": "stdout"
        }
      ]
    },
    {
      "cell_type": "markdown",
      "metadata": {
        "id": "fmu_cJ88739n"
      },
      "source": [
        "# Graphs features"
      ]
    },
    {
      "cell_type": "code",
      "metadata": {
        "colab": {
          "base_uri": "https://localhost:8080/"
        },
        "id": "1pgovEZLtSck",
        "outputId": "520d7143-988e-4711-bb4e-917c11a97951"
      },
      "source": [
        "!gdown \"https://drive.google.com/uc?id=1ewZowFKZNSXwaH9yt5Ad4-ieOHpyV1W1\""
      ],
      "execution_count": null,
      "outputs": [
        {
          "output_type": "stream",
          "text": [
            "Downloading...\n",
            "From: https://drive.google.com/uc?id=1ewZowFKZNSXwaH9yt5Ad4-ieOHpyV1W1\n",
            "To: /content/X_train_graph.csv\n",
            "\r0.00B [00:00, ?B/s]\r4.67MB [00:00, 73.1MB/s]\n",
            "time: 1.92 s (started: 2021-03-01 09:57:31 +00:00)\n"
          ],
          "name": "stdout"
        }
      ]
    },
    {
      "cell_type": "code",
      "metadata": {
        "colab": {
          "base_uri": "https://localhost:8080/"
        },
        "id": "Cnl3DvcjtXsb",
        "outputId": "6adc2f33-5607-48b0-937e-99d92001402f"
      },
      "source": [
        "!gdown \"https://drive.google.com/uc?id=1ocxKo1vbREDutTSABU91AS6s3T_bVt2W\""
      ],
      "execution_count": null,
      "outputs": [
        {
          "output_type": "stream",
          "text": [
            "Downloading...\n",
            "From: https://drive.google.com/uc?id=1ocxKo1vbREDutTSABU91AS6s3T_bVt2W\n",
            "To: /content/X_train_graph_weighted.csv\n",
            "\r0.00B [00:00, ?B/s]\r4.98MB [00:00, 77.4MB/s]\n",
            "time: 2.02 s (started: 2021-03-01 09:57:33 +00:00)\n"
          ],
          "name": "stdout"
        }
      ]
    },
    {
      "cell_type": "code",
      "metadata": {
        "colab": {
          "base_uri": "https://localhost:8080/"
        },
        "id": "qE-1_jQ4tey-",
        "outputId": "9cb6edc6-550d-4cf2-b3f9-b2d18d6572a0"
      },
      "source": [
        "!gdown \"https://drive.google.com/uc?id=1obp93WcXFh22mZMhuLguKtIEPNaJXlyD\""
      ],
      "execution_count": null,
      "outputs": [
        {
          "output_type": "stream",
          "text": [
            "Downloading...\n",
            "From: https://drive.google.com/uc?id=1obp93WcXFh22mZMhuLguKtIEPNaJXlyD\n",
            "To: /content/X_test_graph.csv\n",
            "42.1MB [00:00, 116MB/s] \n",
            "time: 3.03 s (started: 2021-03-01 09:57:35 +00:00)\n"
          ],
          "name": "stdout"
        }
      ]
    },
    {
      "cell_type": "code",
      "metadata": {
        "colab": {
          "base_uri": "https://localhost:8080/"
        },
        "id": "EL7_cYf-tl58",
        "outputId": "08eeb169-6077-4166-941b-a2ad490b1372"
      },
      "source": [
        "!gdown \"https://drive.google.com/uc?id=1XcpCGsuH3EZI7YOYSJsaN3tEwkHRC26Y\""
      ],
      "execution_count": null,
      "outputs": [
        {
          "output_type": "stream",
          "text": [
            "Downloading...\n",
            "From: https://drive.google.com/uc?id=1XcpCGsuH3EZI7YOYSJsaN3tEwkHRC26Y\n",
            "To: /content/X_test_graph_weighted.csv\n",
            "44.9MB [00:00, 123MB/s]\n",
            "time: 2.83 s (started: 2021-03-01 09:57:38 +00:00)\n"
          ],
          "name": "stdout"
        }
      ]
    },
    {
      "cell_type": "markdown",
      "metadata": {
        "id": "29coo_7b8MI_"
      },
      "source": [
        "# Abstract embeddings"
      ]
    },
    {
      "cell_type": "code",
      "metadata": {
        "colab": {
          "base_uri": "https://localhost:8080/"
        },
        "id": "qyueitTxtHMM",
        "outputId": "f1e1647b-e71f-447b-9ab9-920ffe8c4c05"
      },
      "source": [
        "!gdown \"https://drive.google.com/uc?id=1yQuJlP_Igc5W2zZUEgupwvj9SNSfUTRV\""
      ],
      "execution_count": null,
      "outputs": [
        {
          "output_type": "stream",
          "text": [
            "Downloading...\n",
            "From: https://drive.google.com/uc?id=1yQuJlP_Igc5W2zZUEgupwvj9SNSfUTRV\n",
            "To: /content/author_to_embeddings_scibert_uncased.npy\n",
            "1.44GB [00:13, 103MB/s] \n",
            "time: 26.7 s (started: 2021-03-01 09:57:41 +00:00)\n"
          ],
          "name": "stdout"
        }
      ]
    },
    {
      "cell_type": "markdown",
      "metadata": {
        "id": "B3J5DM9_xYM8"
      },
      "source": [
        "# Node embeddings"
      ]
    },
    {
      "cell_type": "code",
      "metadata": {
        "colab": {
          "base_uri": "https://localhost:8080/"
        },
        "id": "81Gy5ilqxZUc",
        "outputId": "5c5be53e-a362-4bf6-c89d-9e2229b11d43"
      },
      "source": [
        "!gdown \"https://drive.google.com/uc?id=1G2MB-rCP4uPmu05IBas0fnVu8aaVWeTM\""
      ],
      "execution_count": null,
      "outputs": [
        {
          "output_type": "stream",
          "text": [
            "Downloading...\n",
            "From: https://drive.google.com/uc?id=1G2MB-rCP4uPmu05IBas0fnVu8aaVWeTM\n",
            "To: /content/node_2_vec_128.npy\n",
            "133MB [00:14, 9.35MB/s]\n",
            "time: 15.8 s (started: 2021-03-01 09:58:07 +00:00)\n"
          ],
          "name": "stdout"
        }
      ]
    },
    {
      "cell_type": "markdown",
      "metadata": {
        "id": "o2Zj8_Yb20CG"
      },
      "source": [
        "# Merging and reading data"
      ]
    },
    {
      "cell_type": "code",
      "metadata": {
        "colab": {
          "base_uri": "https://localhost:8080/"
        },
        "id": "eKP-HwH_73DM",
        "outputId": "a2e8372e-a2be-4dc2-e119-9ca84cb82737"
      },
      "source": [
        "import pandas as pd\n",
        "import numpy as np\n",
        "import networkx as nx\n",
        "from sklearn.preprocessing import MinMaxScaler\n",
        "\n",
        "# read training data\n",
        "df_train = pd.read_csv('train.csv', dtype={'authorID': np.int64, 'h_index': np.float32})\n",
        "n_train = df_train.shape[0]\n",
        "\n",
        "# read test data\n",
        "df_test = pd.read_csv('test.csv', dtype={'authorID': np.int64})\n",
        "n_test = df_test.shape[0]"
      ],
      "execution_count": null,
      "outputs": [
        {
          "output_type": "stream",
          "text": [
            "time: 1.53 s (started: 2021-03-01 09:58:23 +00:00)\n"
          ],
          "name": "stdout"
        }
      ]
    },
    {
      "cell_type": "markdown",
      "metadata": {
        "id": "dv2OJ6eM-Rnw"
      },
      "source": [
        "# Rerun from there\r\n",
        "## Here you can choose weighted graph or unweighted graph features"
      ]
    },
    {
      "cell_type": "code",
      "metadata": {
        "colab": {
          "base_uri": "https://localhost:8080/"
        },
        "id": "QAWUMY3MyzEc",
        "outputId": "1737c519-7a12-41ff-fd1c-b086a08eb70f"
      },
      "source": [
        "# Read train and test graph features\r\n",
        "X_train_graph = pd.read_csv('X_train_graph.csv', index_col=0)\r\n",
        "X_test_graph = pd.read_csv('X_test_graph.csv', index_col=0)"
      ],
      "execution_count": null,
      "outputs": [
        {
          "output_type": "stream",
          "text": [
            "time: 666 ms (started: 2021-03-01 09:58:25 +00:00)\n"
          ],
          "name": "stdout"
        }
      ]
    },
    {
      "cell_type": "markdown",
      "metadata": {
        "id": "lSWBKWFo-gmE"
      },
      "source": [
        "## Here you can choose any of the embeddings for abstracts"
      ]
    },
    {
      "cell_type": "code",
      "metadata": {
        "colab": {
          "base_uri": "https://localhost:8080/"
        },
        "id": "M7oWJKzcwL2U",
        "outputId": "5914f037-2d33-4340-f06c-1730fefd90f6"
      },
      "source": [
        "# read embeddings of abstracts\r\n",
        "embeddings_abstracts = np.load('author_to_embeddings_scibert_uncased.npy', allow_pickle=True).item()\r\n",
        "embeddings_abstracts = pd.DataFrame.from_dict(embeddings_abstracts, orient='index')"
      ],
      "execution_count": null,
      "outputs": [
        {
          "output_type": "stream",
          "text": [
            "time: 2min 21s (started: 2021-03-01 09:58:44 +00:00)\n"
          ],
          "name": "stdout"
        }
      ]
    },
    {
      "cell_type": "markdown",
      "metadata": {
        "id": "1RtEyr91-qUA"
      },
      "source": [
        "## Here you can choose any of the embeddings for nodes"
      ]
    },
    {
      "cell_type": "code",
      "metadata": {
        "colab": {
          "base_uri": "https://localhost:8080/"
        },
        "id": "QSDGBQatxDt0",
        "outputId": "3875597b-a56d-4116-f1d7-cb88acc1cd42"
      },
      "source": [
        "embeddings_nodes = np.load('node_2_vec_128.npy', allow_pickle=True).item()\r\n",
        "embeddings_nodes = pd.DataFrame.from_dict(embeddings_nodes, orient='index')"
      ],
      "execution_count": null,
      "outputs": [
        {
          "output_type": "stream",
          "text": [
            "time: 21.7 s (started: 2021-03-01 10:01:06 +00:00)\n"
          ],
          "name": "stdout"
        }
      ]
    },
    {
      "cell_type": "code",
      "metadata": {
        "colab": {
          "base_uri": "https://localhost:8080/"
        },
        "id": "EblKHfDGxqhA",
        "outputId": "aec549be-c0eb-49af-d45d-86cd76831b6e"
      },
      "source": [
        "embeddings_abstracts.reset_index(inplace=True)\r\n",
        "embeddings_abstracts.rename(columns={\"index\": \"authorID\"}, inplace=True)\r\n",
        "embeddings_nodes.reset_index(inplace=True)\r\n",
        "embeddings_nodes.rename(columns={\"index\": \"authorID\"}, inplace=True)"
      ],
      "execution_count": null,
      "outputs": [
        {
          "output_type": "stream",
          "text": [
            "time: 12.1 ms (started: 2021-03-01 10:01:28 +00:00)\n"
          ],
          "name": "stdout"
        }
      ]
    },
    {
      "cell_type": "code",
      "metadata": {
        "colab": {
          "base_uri": "https://localhost:8080/"
        },
        "id": "Fg4FluqSyvcK",
        "outputId": "f0aa252b-1d0f-4bf0-e815-1a7bfd349ba2"
      },
      "source": [
        "# Merge train data\r\n",
        "X_train_ = df_train.merge(X_train_graph, on=\"authorID\")\r\n",
        "X_train_embeddings = embeddings_abstracts.merge(embeddings_nodes, on=\"authorID\")\r\n",
        "X_train = X_train_.merge(X_train_embeddings, on=\"authorID\")"
      ],
      "execution_count": null,
      "outputs": [
        {
          "output_type": "stream",
          "text": [
            "time: 4.96 s (started: 2021-03-01 10:01:28 +00:00)\n"
          ],
          "name": "stdout"
        }
      ]
    },
    {
      "cell_type": "code",
      "metadata": {
        "colab": {
          "base_uri": "https://localhost:8080/"
        },
        "id": "IWVUpBL92vFn",
        "outputId": "2183828e-2249-49f1-e499-54cdcb05cde5"
      },
      "source": [
        "# Merge test data\r\n",
        "X_test_ = df_test.merge(X_test_graph, on=\"authorID\")\r\n",
        "X_test_embeddings = embeddings_abstracts.merge(embeddings_nodes, on=\"authorID\")\r\n",
        "X_test = X_test_.merge(X_test_embeddings, on=\"authorID\")"
      ],
      "execution_count": null,
      "outputs": [
        {
          "output_type": "stream",
          "text": [
            "time: 3.72 s (started: 2021-03-01 10:01:33 +00:00)\n"
          ],
          "name": "stdout"
        }
      ]
    },
    {
      "cell_type": "code",
      "metadata": {
        "colab": {
          "base_uri": "https://localhost:8080/"
        },
        "id": "5V13hh-m90UV",
        "outputId": "460f1f79-2061-4344-a502-df8f84660ab0"
      },
      "source": [
        "# Removing h_index and author_id\r\n",
        "y_train = X_train[\"h_index\"]\r\n",
        "X_train.drop(columns=[\"authorID\", \"h_index\", \"paper_per_author_weighted_std\"], inplace=True)\r\n",
        "print(X_train.head())\r\n",
        "\r\n",
        "X_test.drop(columns=[\"authorID\", \"h_index_pred\", \"paper_per_author_weighted_std\"], inplace=True)\r\n",
        "print(X_test.head())"
      ],
      "execution_count": null,
      "outputs": [
        {
          "output_type": "stream",
          "text": [
            "   paper_per_author  degree  core_number  ...     125_y     126_y     127_y\n",
            "0                 4     3.0          3.0  ... -0.032644  0.112559  0.179179\n",
            "1                10     5.0          5.0  ...  0.156844 -0.599710 -0.275733\n",
            "2                 1     5.0          5.0  ...  0.154896  0.504679 -0.454677\n",
            "3                 1     3.0          3.0  ... -0.262059 -0.311459  0.236517\n",
            "4                10     4.0          2.0  ... -0.138405  0.353629  0.030938\n",
            "\n",
            "[5 rows x 913 columns]\n",
            "   paper_per_author  degree  core_number  ...     125_y     126_y     127_y\n",
            "0                10    16.0          5.0  ...  0.009777 -0.109017  0.062427\n",
            "1                10     2.0          2.0  ... -0.079597 -0.170235  0.090518\n",
            "2                10   107.0         13.0  ... -0.293972 -0.903987  0.817965\n",
            "3                10     3.0          3.0  ...  0.078622 -0.007761 -0.361753\n",
            "4                 1     2.0          2.0  ... -0.241200  0.185293 -0.091273\n",
            "\n",
            "[5 rows x 913 columns]\n",
            "time: 1.68 s (started: 2021-03-01 10:01:37 +00:00)\n"
          ],
          "name": "stdout"
        }
      ]
    },
    {
      "cell_type": "code",
      "metadata": {
        "colab": {
          "base_uri": "https://localhost:8080/"
        },
        "id": "Rh2JAGg-8l86",
        "outputId": "b7175830-e43e-4da1-d4fe-7ac01c0af68e"
      },
      "source": [
        "# scale for 0 mean and 1 std per col\n",
        "from sklearn.preprocessing import StandardScaler\n",
        "from sklearn.model_selection import train_test_split\n",
        "scaler = StandardScaler()\n",
        "X_train_scaled = scaler.fit_transform(X_train)\n",
        "X_test_scaled = scaler.transform(X_test)\n",
        "\n",
        "X_train_final, X_test_final, y_train_final, y_test_final = train_test_split(\n",
        "    X_train_scaled, y_train, test_size=0.2, random_state=42\n",
        ")"
      ],
      "execution_count": null,
      "outputs": [
        {
          "output_type": "stream",
          "text": [
            "time: 670 ms (started: 2021-03-01 08:52:33 +00:00)\n"
          ],
          "name": "stdout"
        }
      ]
    },
    {
      "cell_type": "markdown",
      "metadata": {
        "id": "UY_E0-i_iUHc"
      },
      "source": [
        "# Ensembling"
      ]
    },
    {
      "cell_type": "code",
      "metadata": {
        "colab": {
          "base_uri": "https://localhost:8080/"
        },
        "id": "EoKxWFcSLBe_",
        "outputId": "b8bcd8d4-9b62-4bfa-c418-4b4c09d869a9"
      },
      "source": [
        "from sklearn.ensemble import RandomForestRegressor, AdaBoostRegressor, GradientBoostingRegressor, StackingRegressor, VotingRegressor\r\n",
        "from sklearn.metrics import mean_absolute_error\r\n",
        "import xgboost as xgb\r\n",
        "import lightgbm as lgb\r\n",
        "from catboost import CatBoostRegressor"
      ],
      "execution_count": null,
      "outputs": [
        {
          "output_type": "stream",
          "text": [
            "time: 2.01 ms (started: 2021-03-01 08:57:34 +00:00)\n"
          ],
          "name": "stdout"
        }
      ]
    },
    {
      "cell_type": "markdown",
      "metadata": {
        "id": "UnwAGhV1_anZ"
      },
      "source": [
        "# Here you can change the Ensembling strategy"
      ]
    },
    {
      "cell_type": "code",
      "metadata": {
        "colab": {
          "base_uri": "https://localhost:8080/"
        },
        "id": "J6p3fqTb_lZW",
        "outputId": "4c133ee1-3c14-4ddb-a593-9ea09af9c6f9"
      },
      "source": [
        "estimators = [\r\n",
        "    ('rf', RandomForestRegressor()),\r\n",
        "    ('ada', AdaBoostRegressor()),\r\n",
        "    ('gb', GradientBoostingRegressor()),\r\n",
        "    ('xgb', xgb.XGBRegressor()),\r\n",
        "    ('lgb', lgb.LGBMRegressor()),\r\n",
        "    ('cat', CatBoostRegressor()),\r\n",
        "]"
      ],
      "execution_count": null,
      "outputs": [
        {
          "output_type": "stream",
          "text": [
            "time: 1.96 ms (started: 2021-03-01 08:57:34 +00:00)\n"
          ],
          "name": "stdout"
        }
      ]
    },
    {
      "cell_type": "code",
      "metadata": {
        "colab": {
          "base_uri": "https://localhost:8080/"
        },
        "id": "DSvA0pNkABRt",
        "outputId": "b88a3b44-c0fc-4ff3-c91b-c5435f88338c"
      },
      "source": [
        "model = StackingRegressor(\r\n",
        "     estimators=estimators,\r\n",
        "     final_estimator=xgb.XGBRegressor(n_estimators=150),\r\n",
        "     n_jobs=-1\r\n",
        ")"
      ],
      "execution_count": null,
      "outputs": [
        {
          "output_type": "stream",
          "text": [
            "time: 1.43 ms (started: 2021-03-01 09:09:44 +00:00)\n"
          ],
          "name": "stdout"
        }
      ]
    },
    {
      "cell_type": "code",
      "metadata": {
        "colab": {
          "base_uri": "https://localhost:8080/"
        },
        "id": "18Q4byotrEik",
        "outputId": "92c80874-6984-47a6-ae89-e3521789a17a"
      },
      "source": [
        "# model = VotingRegressor(\r\n",
        "#      estimators=estimators,\r\n",
        "#      weights=(0.15, 0.15, 0.1, 0.2, 0.25, 0.15),\r\n",
        "#      n_jobs=-1\r\n",
        "# )"
      ],
      "execution_count": null,
      "outputs": [
        {
          "output_type": "stream",
          "text": [
            "time: 1.19 ms (started: 2021-03-01 08:57:37 +00:00)\n"
          ],
          "name": "stdout"
        }
      ]
    },
    {
      "cell_type": "code",
      "metadata": {
        "colab": {
          "background_save": true
        },
        "id": "8fCo_rzisE-6",
        "outputId": "e9028729-112e-4868-c542-1167ee6f739d"
      },
      "source": [
        "model.fit(X_train_final, y_train_final)"
      ],
      "execution_count": null,
      "outputs": [
        {
          "output_type": "stream",
          "text": [
            "[09:47:52] WARNING: /workspace/src/objective/regression_obj.cu:152: reg:linear is now deprecated in favor of reg:squarederror.\n"
          ],
          "name": "stdout"
        },
        {
          "output_type": "execute_result",
          "data": {
            "text/plain": [
              "StackingRegressor(cv=None,\n",
              "                  estimators=[('rf',\n",
              "                               RandomForestRegressor(bootstrap=True,\n",
              "                                                     ccp_alpha=0.0,\n",
              "                                                     criterion='mse',\n",
              "                                                     max_depth=None,\n",
              "                                                     max_features='auto',\n",
              "                                                     max_leaf_nodes=None,\n",
              "                                                     max_samples=None,\n",
              "                                                     min_impurity_decrease=0.0,\n",
              "                                                     min_impurity_split=None,\n",
              "                                                     min_samples_leaf=1,\n",
              "                                                     min_samples_split=2,\n",
              "                                                     min_weight_fraction_leaf=0.0,\n",
              "                                                     n_estimators=100,\n",
              "                                                     n_jobs=None,\n",
              "                                                     oob_score=False,\n",
              "                                                     rand...\n",
              "                                               colsample_bynode=1,\n",
              "                                               colsample_bytree=1, gamma=0,\n",
              "                                               importance_type='gain',\n",
              "                                               learning_rate=0.1,\n",
              "                                               max_delta_step=0, max_depth=3,\n",
              "                                               min_child_weight=1, missing=None,\n",
              "                                               n_estimators=150, n_jobs=1,\n",
              "                                               nthread=None,\n",
              "                                               objective='reg:linear',\n",
              "                                               random_state=0, reg_alpha=0,\n",
              "                                               reg_lambda=1, scale_pos_weight=1,\n",
              "                                               seed=None, silent=None,\n",
              "                                               subsample=1, verbosity=1),\n",
              "                  n_jobs=-1, passthrough=False, verbose=0)"
            ]
          },
          "metadata": {
            "tags": []
          },
          "execution_count": 0
        },
        {
          "output_type": "stream",
          "text": [
            "time: 38min 1s (started: 2021-03-01 09:09:52 +00:00)\n"
          ],
          "name": "stdout"
        }
      ]
    },
    {
      "cell_type": "code",
      "metadata": {
        "colab": {
          "background_save": true
        },
        "id": "rrUYqKSUsJgd",
        "outputId": "ec582bb9-55eb-44e9-b49e-39f78cf8cc14"
      },
      "source": [
        "y_pred = model.predict(X_test_final)\r\n",
        "print(f\"Loss: {mean_absolute_error(y_test_final, y_pred)}\")"
      ],
      "execution_count": null,
      "outputs": [
        {
          "output_type": "stream",
          "text": [
            "Loss: 4.030706882476807\n",
            "time: 661 ms (started: 2021-03-01 09:47:53 +00:00)\n"
          ],
          "name": "stdout"
        }
      ]
    },
    {
      "cell_type": "code",
      "metadata": {
        "colab": {
          "background_save": true
        },
        "id": "24OgyT149ZDe",
        "outputId": "bb665d28-3b9b-4710-e9ff-a76d2ef38cd0"
      },
      "source": [
        "y_pred_save = model.predict(X_test_scaled)\r\n",
        "df_test['h_index_pred'].update(pd.Series(np.round_(y_pred_save, decimals=3)))\r\n",
        "df_test.loc[:, [\"authorID\", \"h_index_pred\"]].to_csv(\r\n",
        "    'predictions_stacking.csv', index=False\r\n",
        ")"
      ],
      "execution_count": null,
      "outputs": [
        {
          "output_type": "stream",
          "text": [
            "time: 21.1 s (started: 2021-03-01 09:47:54 +00:00)\n"
          ],
          "name": "stdout"
        }
      ]
    },
    {
      "cell_type": "markdown",
      "metadata": {
        "id": "Awh1dF7VEYdy"
      },
      "source": [
        "# (Random/Grid)SearchCV la machine de Max"
      ]
    },
    {
      "cell_type": "code",
      "metadata": {
        "id": "uKzRt_V8xRPT"
      },
      "source": [
        "from sklearn.model_selection import GridSearchCV, RandomizedSearchCV\r\n",
        "\r\n",
        "# the parameter logic is: prefix_of_estimator__param\r\n",
        "# ex: \r\n",
        "search_space = {\r\n",
        "    'rf__min_samples_leaf': [1, 5, 10],\r\n",
        "    'ada__n_estimators': [100, 300],\r\n",
        "    # etc...\r\n",
        "}\r\n",
        "\r\n",
        "search_cv_estimator = RandomizedSearchCV(\r\n",
        "    estimator=model,\r\n",
        "    param_grid=search_space,\r\n",
        "    n_jobs=-1)"
      ],
      "execution_count": null,
      "outputs": []
    },
    {
      "cell_type": "code",
      "metadata": {
        "id": "V8A2cLCvF017"
      },
      "source": [
        "search_cv_estimator.fit(X_train_final, y_train_final)"
      ],
      "execution_count": null,
      "outputs": []
    },
    {
      "cell_type": "code",
      "metadata": {
        "id": "BWaEe1X5F8pS"
      },
      "source": [
        "y_pred = search_cv_estimator.predict(X_test_final)\r\n",
        "print(f\"Loss: {mean_absolute_error(y_test_final, y_pred)}\")"
      ],
      "execution_count": null,
      "outputs": []
    },
    {
      "cell_type": "code",
      "metadata": {
        "id": "VZM7rIB4F8pT"
      },
      "source": [
        "y_pred_save = search_cv_estimator.predict(X_test_scaled)\r\n",
        "df_test['h_index_pred'].update(pd.Series(np.round_(y_pred_save, decimals=3)))\r\n",
        "df_test.loc[:, [\"authorID\", \"h_index_pred\"]].to_csv(\r\n",
        "    'predictions_stacking_cv.csv', index=False\r\n",
        ")"
      ],
      "execution_count": null,
      "outputs": []
    }
  ]
}