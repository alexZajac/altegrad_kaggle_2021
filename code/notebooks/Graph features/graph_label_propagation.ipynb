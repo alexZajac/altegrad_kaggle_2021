{
  "nbformat": 4,
  "nbformat_minor": 0,
  "metadata": {
    "colab": {
      "name": "Corrected.ff.ipynb",
      "provenance": []
    },
    "kernelspec": {
      "name": "python3",
      "display_name": "Python 3"
    },
    "accelerator": "GPU"
  },
  "cells": [
    {
      "cell_type": "code",
      "metadata": {
        "colab": {
          "base_uri": "https://localhost:8080/"
        },
        "id": "s_jW1rV-QfSn",
        "outputId": "1967be89-7471-4821-9757-6d1dd1130b34"
      },
      "source": [
        "!pip install gdown\r\n",
        "!pip install ipython-autotime\r\n",
        "%load_ext autotime"
      ],
      "execution_count": null,
      "outputs": [
        {
          "output_type": "stream",
          "text": [
            "Requirement already satisfied: gdown in /usr/local/lib/python3.7/dist-packages (3.6.4)\n",
            "Requirement already satisfied: requests in /usr/local/lib/python3.7/dist-packages (from gdown) (2.23.0)\n",
            "Requirement already satisfied: six in /usr/local/lib/python3.7/dist-packages (from gdown) (1.15.0)\n",
            "Requirement already satisfied: tqdm in /usr/local/lib/python3.7/dist-packages (from gdown) (4.41.1)\n",
            "Requirement already satisfied: idna<3,>=2.5 in /usr/local/lib/python3.7/dist-packages (from requests->gdown) (2.10)\n",
            "Requirement already satisfied: chardet<4,>=3.0.2 in /usr/local/lib/python3.7/dist-packages (from requests->gdown) (3.0.4)\n",
            "Requirement already satisfied: certifi>=2017.4.17 in /usr/local/lib/python3.7/dist-packages (from requests->gdown) (2020.12.5)\n",
            "Requirement already satisfied: urllib3!=1.25.0,!=1.25.1,<1.26,>=1.21.1 in /usr/local/lib/python3.7/dist-packages (from requests->gdown) (1.24.3)\n",
            "Requirement already satisfied: ipython-autotime in /usr/local/lib/python3.7/dist-packages (0.3.1)\n",
            "Requirement already satisfied: ipython in /usr/local/lib/python3.7/dist-packages (from ipython-autotime) (5.5.0)\n",
            "Requirement already satisfied: pickleshare in /usr/local/lib/python3.7/dist-packages (from ipython->ipython-autotime) (0.7.5)\n",
            "Requirement already satisfied: prompt-toolkit<2.0.0,>=1.0.4 in /usr/local/lib/python3.7/dist-packages (from ipython->ipython-autotime) (1.0.18)\n",
            "Requirement already satisfied: pexpect; sys_platform != \"win32\" in /usr/local/lib/python3.7/dist-packages (from ipython->ipython-autotime) (4.8.0)\n",
            "Requirement already satisfied: simplegeneric>0.8 in /usr/local/lib/python3.7/dist-packages (from ipython->ipython-autotime) (0.8.1)\n",
            "Requirement already satisfied: pygments in /usr/local/lib/python3.7/dist-packages (from ipython->ipython-autotime) (2.6.1)\n",
            "Requirement already satisfied: setuptools>=18.5 in /usr/local/lib/python3.7/dist-packages (from ipython->ipython-autotime) (54.0.0)\n",
            "Requirement already satisfied: decorator in /usr/local/lib/python3.7/dist-packages (from ipython->ipython-autotime) (4.4.2)\n",
            "Requirement already satisfied: traitlets>=4.2 in /usr/local/lib/python3.7/dist-packages (from ipython->ipython-autotime) (5.0.5)\n",
            "Requirement already satisfied: six>=1.9.0 in /usr/local/lib/python3.7/dist-packages (from prompt-toolkit<2.0.0,>=1.0.4->ipython->ipython-autotime) (1.15.0)\n",
            "Requirement already satisfied: wcwidth in /usr/local/lib/python3.7/dist-packages (from prompt-toolkit<2.0.0,>=1.0.4->ipython->ipython-autotime) (0.2.5)\n",
            "Requirement already satisfied: ptyprocess>=0.5 in /usr/local/lib/python3.7/dist-packages (from pexpect; sys_platform != \"win32\"->ipython->ipython-autotime) (0.7.0)\n",
            "Requirement already satisfied: ipython-genutils in /usr/local/lib/python3.7/dist-packages (from traitlets>=4.2->ipython->ipython-autotime) (0.2.0)\n",
            "time: 2.15 ms (started: 2021-03-03 09:11:49 +00:00)\n"
          ],
          "name": "stdout"
        }
      ]
    },
    {
      "cell_type": "code",
      "metadata": {
        "colab": {
          "base_uri": "https://localhost:8080/"
        },
        "id": "aToLXIL4RN1d",
        "outputId": "70eef273-6ad6-43c7-918e-a1c997452d5a"
      },
      "source": [
        "!pip install -q torch-scatter -f https://pytorch-geometric.com/whl/torch-1.7.0+cu101.html\r\n",
        "!pip install -q torch-sparse -f https://pytorch-geometric.com/whl/torch-1.7.0+cu101.html\r\n",
        "!pip install -q torch-cluster -f https://pytorch-geometric.com/whl/torch-1.7.0+cu101.html\r\n",
        "!pip install -q torch-geometric"
      ],
      "execution_count": null,
      "outputs": [
        {
          "output_type": "stream",
          "text": [
            "time: 8.48 s (started: 2021-03-03 09:11:49 +00:00)\n"
          ],
          "name": "stdout"
        }
      ]
    },
    {
      "cell_type": "code",
      "metadata": {
        "colab": {
          "base_uri": "https://localhost:8080/"
        },
        "id": "vAi6Z3ZjP0Fz",
        "outputId": "14c9b685-9d7c-4382-b415-18961add84df"
      },
      "source": [
        "!gdown \"https://drive.google.com/uc?id=1j7h-SUy2gMJBds6eQalw4CFZC3O7Pr05\""
      ],
      "execution_count": null,
      "outputs": [
        {
          "output_type": "stream",
          "text": [
            "Downloading...\n",
            "From: https://drive.google.com/uc?id=1j7h-SUy2gMJBds6eQalw4CFZC3O7Pr05\n",
            "To: /content/collaboration_network.edgelist\n",
            "38.8MB [00:00, 44.8MB/s]\n",
            "time: 3.53 s (started: 2021-03-03 09:11:57 +00:00)\n"
          ],
          "name": "stdout"
        }
      ]
    },
    {
      "cell_type": "code",
      "metadata": {
        "colab": {
          "base_uri": "https://localhost:8080/"
        },
        "id": "gA8mU9dqR-rN",
        "outputId": "93dbbd87-b6ba-424c-9afa-7a46c604d870"
      },
      "source": [
        "!gdown \"https://drive.google.com/uc?id=1Qbi954Bwx-PplM8F_7TrB_blcqcB-bF2\""
      ],
      "execution_count": null,
      "outputs": [
        {
          "output_type": "stream",
          "text": [
            "Downloading...\n",
            "From: https://drive.google.com/uc?id=1Qbi954Bwx-PplM8F_7TrB_blcqcB-bF2\n",
            "To: /content/train.csv\n",
            "\r  0% 0.00/305k [00:00<?, ?B/s]\r100% 305k/305k [00:00<00:00, 4.80MB/s]\n",
            "time: 1.42 s (started: 2021-03-03 09:12:01 +00:00)\n"
          ],
          "name": "stdout"
        }
      ]
    },
    {
      "cell_type": "code",
      "metadata": {
        "colab": {
          "base_uri": "https://localhost:8080/"
        },
        "id": "yoH9qjh5VKYF",
        "outputId": "cad560ca-3f5a-4281-fbbe-8cf34b4a2c28"
      },
      "source": [
        "!gdown \"https://drive.google.com/uc?id=1obp93WcXFh22mZMhuLguKtIEPNaJXlyD\""
      ],
      "execution_count": null,
      "outputs": [
        {
          "output_type": "stream",
          "text": [
            "Downloading...\n",
            "From: https://drive.google.com/uc?id=1obp93WcXFh22mZMhuLguKtIEPNaJXlyD\n",
            "To: /content/X_test_graph.csv\n",
            "42.1MB [00:01, 41.5MB/s]\n",
            "time: 2.62 s (started: 2021-03-03 09:12:02 +00:00)\n"
          ],
          "name": "stdout"
        }
      ]
    },
    {
      "cell_type": "code",
      "metadata": {
        "colab": {
          "base_uri": "https://localhost:8080/"
        },
        "id": "EOZAlhJiVKaQ",
        "outputId": "2a39c3a7-f741-4d5c-daec-d399796e6ea5"
      },
      "source": [
        "!gdown \"https://drive.google.com/uc?id=1-7PiaxpmYiPKsRdMIlkKqfpJjR_zy5HE\""
      ],
      "execution_count": null,
      "outputs": [
        {
          "output_type": "stream",
          "text": [
            "Downloading...\n",
            "From: https://drive.google.com/uc?id=1-7PiaxpmYiPKsRdMIlkKqfpJjR_zy5HE\n",
            "To: /content/Deepwalk_256_30_100.csv\n",
            "1.19GB [00:15, 78.2MB/s]\n",
            "time: 33.4 s (started: 2021-03-03 09:12:05 +00:00)\n"
          ],
          "name": "stdout"
        }
      ]
    },
    {
      "cell_type": "code",
      "metadata": {
        "colab": {
          "base_uri": "https://localhost:8080/"
        },
        "id": "aJOM2GjQVIDT",
        "outputId": "e3056f16-3a2d-4c6e-c8fc-d6880239cc4f"
      },
      "source": [
        "!gdown \"https://drive.google.com/uc?id=1AEn8P631y-pq6szgAbTm538oM6waf-5E\""
      ],
      "execution_count": null,
      "outputs": [
        {
          "output_type": "stream",
          "text": [
            "Downloading...\n",
            "From: https://drive.google.com/uc?id=1AEn8P631y-pq6szgAbTm538oM6waf-5E\n",
            "To: /content/author_embedding.csv\n",
            "683MB [00:15, 43.2MB/s]\n",
            "time: 35.1 s (started: 2021-03-03 09:12:38 +00:00)\n"
          ],
          "name": "stdout"
        }
      ]
    },
    {
      "cell_type": "code",
      "metadata": {
        "colab": {
          "base_uri": "https://localhost:8080/"
        },
        "id": "ueXtzL70VIFc",
        "outputId": "81cbb971-536e-4333-e0a9-a45fc34358fa"
      },
      "source": [
        "!gdown \"https://drive.google.com/uc?id=1yQuJlP_Igc5W2zZUEgupwvj9SNSfUTRV\""
      ],
      "execution_count": null,
      "outputs": [
        {
          "output_type": "stream",
          "text": [
            "Downloading...\n",
            "From: https://drive.google.com/uc?id=1yQuJlP_Igc5W2zZUEgupwvj9SNSfUTRV\n",
            "To: /content/author_to_embeddings_scibert_uncased.npy\n",
            "1.44GB [00:33, 43.5MB/s]\n",
            "time: 1min 10s (started: 2021-03-03 09:13:13 +00:00)\n"
          ],
          "name": "stdout"
        }
      ]
    },
    {
      "cell_type": "code",
      "metadata": {
        "colab": {
          "base_uri": "https://localhost:8080/"
        },
        "id": "-J3r4JgeVQ6v",
        "outputId": "6189c48f-e6ae-445f-e2bf-23c11f2509fe"
      },
      "source": [
        "!gdown \"https://drive.google.com/uc?id=1ewZowFKZNSXwaH9yt5Ad4-ieOHpyV1W1\""
      ],
      "execution_count": null,
      "outputs": [
        {
          "output_type": "stream",
          "text": [
            "Downloading...\n",
            "From: https://drive.google.com/uc?id=1ewZowFKZNSXwaH9yt5Ad4-ieOHpyV1W1\n",
            "To: /content/X_train_graph.csv\n",
            "4.67MB [00:00, 31.1MB/s]\n",
            "time: 1.82 s (started: 2021-03-03 09:14:24 +00:00)\n"
          ],
          "name": "stdout"
        }
      ]
    },
    {
      "cell_type": "code",
      "metadata": {
        "colab": {
          "base_uri": "https://localhost:8080/"
        },
        "id": "sAMexNDcVTU9",
        "outputId": "a480e2b2-1c0d-48aa-86da-af8fb4dbe335"
      },
      "source": [
        "!gdown \"https://drive.google.com/uc?id=1hWycEy8rQ8e_krGyUhqGQiMBxZtD9SWy\""
      ],
      "execution_count": null,
      "outputs": [
        {
          "output_type": "stream",
          "text": [
            "Downloading...\n",
            "From: https://drive.google.com/uc?id=1hWycEy8rQ8e_krGyUhqGQiMBxZtD9SWy\n",
            "To: /content/test.csv\n",
            "\r0.00B [00:00, ?B/s]\r2.47MB [00:00, 39.1MB/s]\n",
            "time: 818 ms (started: 2021-03-03 09:14:26 +00:00)\n"
          ],
          "name": "stdout"
        }
      ]
    },
    {
      "cell_type": "code",
      "metadata": {
        "colab": {
          "base_uri": "https://localhost:8080/"
        },
        "id": "FyMGDh9m7Gyu",
        "outputId": "fe1032a2-ba6b-4306-f46e-516a597439ca"
      },
      "source": [
        "import networkx as nx\r\n",
        "G = nx.read_edgelist('collaboration_network.edgelist',\r\n",
        "                     delimiter=' ', nodetype=int)\r\n",
        "n_nodes = G.number_of_nodes()\r\n",
        "n_edges = G.number_of_edges()"
      ],
      "execution_count": null,
      "outputs": [
        {
          "output_type": "stream",
          "text": [
            "time: 8.76 s (started: 2021-03-03 09:14:26 +00:00)\n"
          ],
          "name": "stdout"
        }
      ]
    },
    {
      "cell_type": "code",
      "metadata": {
        "colab": {
          "base_uri": "https://localhost:8080/"
        },
        "id": "eKP-HwH_73DM",
        "outputId": "82fb3d1b-37ec-48fa-d21f-ca394221640f"
      },
      "source": [
        "import pandas as pd\n",
        "import numpy as np\n",
        "import networkx as nx\n",
        "from sklearn.preprocessing import MinMaxScaler\n",
        "\n",
        "# read training data\n",
        "df_train = pd.read_csv('train.csv', dtype={'authorID': np.int64, 'h_index': np.float32})\n",
        "n_train = df_train.shape[0]\n",
        "\n",
        "# read test data\n",
        "df_test = pd.read_csv('test.csv', dtype={'authorID': np.int64})\n",
        "n_test = df_test.shape[0]"
      ],
      "execution_count": null,
      "outputs": [
        {
          "output_type": "stream",
          "text": [
            "time: 376 ms (started: 2021-03-03 09:14:35 +00:00)\n"
          ],
          "name": "stdout"
        }
      ]
    },
    {
      "cell_type": "code",
      "metadata": {
        "colab": {
          "base_uri": "https://localhost:8080/"
        },
        "id": "QAWUMY3MyzEc",
        "outputId": "a1397937-49ea-4c56-845e-36803c04d691"
      },
      "source": [
        "# Read train and test graph features\r\n",
        "X_train_graph = pd.read_csv('X_train_graph.csv', index_col=0)\r\n",
        "X_test_graph = pd.read_csv('X_test_graph.csv', index_col=0)"
      ],
      "execution_count": null,
      "outputs": [
        {
          "output_type": "stream",
          "text": [
            "time: 517 ms (started: 2021-03-03 09:14:35 +00:00)\n"
          ],
          "name": "stdout"
        }
      ]
    },
    {
      "cell_type": "code",
      "metadata": {
        "id": "M7oWJKzcwL2U"
      },
      "source": [
        "# read embeddings of abstracts\r\n",
        "embeddings_abstracts = np.load('author_to_embeddings_scibert_uncased.npy', allow_pickle=True).item()\r\n",
        "embeddings_abstracts = pd.DataFrame.from_dict(embeddings_abstracts, orient='index')\r\n",
        "embeddings_abstracts.reset_index(inplace=True)\r\n",
        "embeddings_abstracts.rename(columns={\"index\": \"authorID\"}, inplace=True)"
      ],
      "execution_count": null,
      "outputs": []
    },
    {
      "cell_type": "code",
      "metadata": {
        "id": "1j0oqlnO_MaB"
      },
      "source": [
        "embeddings_abstracts_2 = pd.read_csv(\"author_embedding.csv\", header=None)\r\n",
        "embeddings_abstracts_2.rename(columns={0: 'authorID'}, inplace=True)\r\n",
        "embeddings_abstracts = embeddings_abstracts_2.merge(embeddings_abstracts, on=\"authorID\")\r\n",
        "embeddings_abstracts"
      ],
      "execution_count": null,
      "outputs": []
    },
    {
      "cell_type": "code",
      "metadata": {
        "id": "QSDGBQatxDt0"
      },
      "source": [
        "# embeddings_nodes = np.load('node_2_vec_128.npy', allow_pickle=True).item()\r\n",
        "# embeddings_nodes = pd.DataFrame.from_dict(embeddings_nodes, orient='index')\r\n",
        "embeddings_nodes = pd.read_csv(\"Deepwalk_256_30_100.csv\")\r\n",
        "embeddings_nodes"
      ],
      "execution_count": null,
      "outputs": []
    },
    {
      "cell_type": "code",
      "metadata": {
        "id": "Fg4FluqSyvcK"
      },
      "source": [
        "# Merge train data\r\n",
        "X_train_ = df_train.merge(X_train_graph, on=\"authorID\")\r\n",
        "X_train_embeddings = embeddings_abstracts.merge(embeddings_nodes, on=\"authorID\")\r\n",
        "X_train = X_train_.merge(X_train_embeddings, on=\"authorID\")"
      ],
      "execution_count": null,
      "outputs": []
    },
    {
      "cell_type": "code",
      "metadata": {
        "id": "IWVUpBL92vFn"
      },
      "source": [
        "# Merge test data\r\n",
        "X_test_ = df_test.merge(X_test_graph, on=\"authorID\")\r\n",
        "X_test_embeddings = embeddings_abstracts.merge(embeddings_nodes, on=\"authorID\")\r\n",
        "X_test = X_test_.merge(X_test_embeddings, on=\"authorID\")"
      ],
      "execution_count": null,
      "outputs": []
    },
    {
      "cell_type": "markdown",
      "metadata": {
        "id": "34Hjo-00VZ4K"
      },
      "source": [
        "# Preprocessing of data for label prop"
      ]
    },
    {
      "cell_type": "code",
      "metadata": {
        "id": "9PfF97rrVcP9"
      },
      "source": [
        ""
      ],
      "execution_count": null,
      "outputs": []
    },
    {
      "cell_type": "markdown",
      "metadata": {
        "id": "IAxjcZfP8ifk"
      },
      "source": [
        "# Label prop"
      ]
    },
    {
      "cell_type": "code",
      "metadata": {
        "colab": {
          "base_uri": "https://localhost:8080/"
        },
        "id": "-KZZwsWU8kKS",
        "outputId": "68086763-2b04-4118-c730-3bd0ee1f6c00"
      },
      "source": [
        "import math\r\n",
        "\r\n",
        "import torch\r\n",
        "\r\n",
        "from torch.nn.parameter import Parameter\r\n",
        "import torch.nn as nn\r\n",
        "import torch.nn.functional as F\r\n",
        "\r\n",
        "\r\n",
        "class GCNLPAConv(nn.Module):\r\n",
        "    \"\"\"\r\n",
        "    A GCN-LPA layer. Please refer to: https://arxiv.org/abs/2002.06755\r\n",
        "    \"\"\"\r\n",
        "\r\n",
        "    def __init__(self, in_features, out_features, adj, bias=True):\r\n",
        "        super(GCNLPAConv, self).__init__()\r\n",
        "        self.in_features = in_features\r\n",
        "        self.out_features = out_features\r\n",
        "        self.weight = Parameter(torch.FloatTensor(in_features, out_features))\r\n",
        "        if bias:\r\n",
        "            self.bias = Parameter(torch.FloatTensor(out_features))\r\n",
        "        else:\r\n",
        "            self.register_parameter('bias', None)\r\n",
        "        self.reset_parameters()\r\n",
        "        self.adjacency_mask = Parameter(adj.clone()).to_dense()\r\n",
        "\r\n",
        "    def reset_parameters(self):\r\n",
        "        stdv = 1. / math.sqrt(self.weight.size(1))\r\n",
        "        self.weight.data.uniform_(-stdv, stdv)\r\n",
        "        if self.bias is not None:\r\n",
        "            self.bias.data.uniform_(-stdv, stdv)\r\n",
        "\r\n",
        "    def forward(self, x, adj, y):\r\n",
        "        adj = adj.to_dense()\r\n",
        "        # W * x\r\n",
        "        support = torch.mm(x, self.weight)\r\n",
        "        # Hadamard Product: A' = Hadamard(A, M)\r\n",
        "        adj = adj * self.adjacency_mask\r\n",
        "        # Row-Normalize: D^-1 * (A')\r\n",
        "        adj = F.normalize(adj, p=1, dim=1)\r\n",
        "\r\n",
        "        # output = D^-1 * A' * X * W\r\n",
        "        output = torch.mm(adj, support)\r\n",
        "        # y' = D^-1 * A' * y\r\n",
        "        y_hat = torch.mm(adj, y)\r\n",
        "\r\n",
        "        if self.bias is not None:\r\n",
        "            return output + self.bias, y_hat\r\n",
        "        else:\r\n",
        "            return output, y_hat\r\n",
        "\r\n",
        "    def __repr__(self):\r\n",
        "        return self.__class__.__name__ + ' (' \\\r\n",
        "               + str(self.in_features) + ' -> ' \\\r\n",
        "               + str(self.out_features) + ')'"
      ],
      "execution_count": null,
      "outputs": [
        {
          "output_type": "stream",
          "text": [
            "time: 3.41 s (started: 2021-03-03 00:12:01 +00:00)\n"
          ],
          "name": "stdout"
        }
      ]
    },
    {
      "cell_type": "code",
      "metadata": {
        "colab": {
          "base_uri": "https://localhost:8080/"
        },
        "id": "-hobUSGSTitt",
        "outputId": "faaf0f37-1539-4e94-84f5-5d60df91f104"
      },
      "source": [
        "import torch.nn as nn\r\n",
        "import torch.nn.functional as F\r\n",
        "\r\n",
        "class GCNLPA(nn.Module):\r\n",
        "    def __init__(self, nfeat, nhid, nclass, adj, dropout_rate):\r\n",
        "        super(GCNLPA, self).__init__()\r\n",
        "\r\n",
        "        self.gc1 = GCNLPAConv(nfeat, nhid, adj)\r\n",
        "        self.gc2 = GCNLPAConv(nhid, nclass, adj)\r\n",
        "        self.dropout = dropout_rate\r\n",
        "\r\n",
        "    def forward(self, x, adj, y):\r\n",
        "        x, y_hat = self.gc1(x, adj, y)\r\n",
        "        x = F.relu(x)\r\n",
        "        x = F.dropout(x, self.dropout, training=self.training)\r\n",
        "        x, y_hat = self.gc2(x, adj, y_hat)\r\n",
        "        return x, y_hat"
      ],
      "execution_count": null,
      "outputs": [
        {
          "output_type": "stream",
          "text": [
            "time: 7.5 ms (started: 2021-03-03 08:58:01 +00:00)\n"
          ],
          "name": "stdout"
        }
      ]
    },
    {
      "cell_type": "code",
      "metadata": {
        "colab": {
          "base_uri": "https://localhost:8080/"
        },
        "id": "2DXyqdpXB3rk",
        "outputId": "123bc653-67ed-40a2-e6b3-bda20fa47691"
      },
      "source": [
        "import pandas as pd\r\n",
        "import numpy as np\r\n",
        "import scipy.sparse as sp\r\n",
        "\r\n",
        "df_train = pd.read_csv('train.csv', dtype={'authorID': np.int64, 'h_index': np.float32})\r\n",
        "G_train = G.subgraph(df_train[\"authorID\"].values)"
      ],
      "execution_count": null,
      "outputs": [
        {
          "output_type": "stream",
          "text": [
            "time: 43.2 ms (started: 2021-03-03 09:01:03 +00:00)\n"
          ],
          "name": "stdout"
        }
      ]
    },
    {
      "cell_type": "code",
      "metadata": {
        "colab": {
          "base_uri": "https://localhost:8080/"
        },
        "id": "gX-jFHt8UW1V",
        "outputId": "fc8394f4-0458-4487-ea4f-ef8054c45eec"
      },
      "source": [
        "def normalize(mx):\r\n",
        "    \"\"\"Row-normalize sparse matrix\"\"\"\r\n",
        "    rowsum = np.array(mx.sum(1))\r\n",
        "    r_inv = np.power(rowsum, -1).flatten()\r\n",
        "    r_inv[np.isinf(r_inv)] = 0.\r\n",
        "    r_mat_inv = sp.diags(r_inv)\r\n",
        "    mx = r_mat_inv.dot(mx)\r\n",
        "    return mx\r\n",
        "\r\n",
        "def sparse_mx_to_torch_sparse_tensor(sparse_mx):\r\n",
        "    \"\"\"Convert a scipy sparse matrix to a torch sparse tensor.\"\"\"\r\n",
        "    sparse_mx = sparse_mx.tocoo().astype(np.float32)\r\n",
        "    indices = torch.from_numpy(\r\n",
        "        np.vstack((sparse_mx.row, sparse_mx.col)).astype(np.int64))\r\n",
        "    values = torch.from_numpy(sparse_mx.data)\r\n",
        "    shape = torch.Size(sparse_mx.shape)\r\n",
        "    return torch.sparse.FloatTensor(indices, values, shape)"
      ],
      "execution_count": null,
      "outputs": [
        {
          "output_type": "stream",
          "text": [
            "time: 6.74 ms (started: 2021-03-03 09:01:03 +00:00)\n"
          ],
          "name": "stdout"
        }
      ]
    },
    {
      "cell_type": "code",
      "metadata": {
        "id": "hRdf3GpJUuX9"
      },
      "source": [
        "def get_graph_dataset(G):\r\n"
      ],
      "execution_count": null,
      "outputs": []
    },
    {
      "cell_type": "code",
      "metadata": {
        "id": "hLLsvNDMTvAd"
      },
      "source": [
        "adj = nx.to_scipy_sparse_matrix(G_train)\r\n",
        "adj = adj + adj.T.multiply(adj.T > adj) - adj.multiply(adj.T > adj)\r\n",
        "features = normalize(features)\r\n",
        "adj = adj + sp.eye(adj.shape[0])"
      ],
      "execution_count": null,
      "outputs": []
    },
    {
      "cell_type": "code",
      "metadata": {
        "colab": {
          "base_uri": "https://localhost:8080/"
        },
        "id": "EfLouqOnLNj7",
        "outputId": "65543967-3e35-437b-ebd7-22882d650965"
      },
      "source": [
        "# from torch_geometric.utils import from_networkx\r\n",
        "\r\n",
        "# data_g_train = from_networkx(G_train)\r\n",
        "# edge_index = data_g_train.edge_index"
      ],
      "execution_count": null,
      "outputs": [
        {
          "output_type": "stream",
          "text": [
            "time: 1.06 ms (started: 2021-03-03 00:12:08 +00:00)\n"
          ],
          "name": "stdout"
        }
      ]
    },
    {
      "cell_type": "code",
      "metadata": {
        "colab": {
          "base_uri": "https://localhost:8080/"
        },
        "id": "0Am_2j0eIkIX",
        "outputId": "5d93457f-38ee-4bcc-b876-58a1e5883e2f"
      },
      "source": [
        "import scipy.sparse as sp\r\n",
        "\r\n",
        "\r\n",
        "A_tilde = adj_t + sp.identity(adj_t.shape[0])\r\n",
        "D_tilde = sp.diags(A_tilde.sum(axis=1).A1)\r\n",
        "D_pow_tilde = D_tilde.power(-0.5)\r\n",
        "DAD = D_pow_tilde @ A_tilde @ D_pow_tilde\r\n",
        "DA = D_pow_tilde @ D_pow_tilde @ A_tilde"
      ],
      "execution_count": null,
      "outputs": [
        {
          "output_type": "stream",
          "text": [
            "time: 1.28 s (started: 2021-03-03 00:12:08 +00:00)\n"
          ],
          "name": "stdout"
        }
      ]
    },
    {
      "cell_type": "code",
      "metadata": {
        "colab": {
          "base_uri": "https://localhost:8080/"
        },
        "id": "awyW_2NwJru-",
        "outputId": "669d1938-128e-438c-c771-ca4047adbe12"
      },
      "source": [
        "def sparse_to_torch_sparse(M):\r\n",
        "    \"\"\"Converts a sparse SciPy matrix to a sparse PyTorch tensor\"\"\"\r\n",
        "    M = M.tocoo().astype(np.float32)\r\n",
        "    indices = torch.from_numpy(np.vstack((M.row, M.col)).astype(np.int64))\r\n",
        "    values = torch.from_numpy(M.data)\r\n",
        "    shape = torch.Size(M.shape)\r\n",
        "    return torch.sparse.FloatTensor(indices, values, shape)"
      ],
      "execution_count": null,
      "outputs": [
        {
          "output_type": "stream",
          "text": [
            "time: 3.38 ms (started: 2021-03-03 00:12:09 +00:00)\n"
          ],
          "name": "stdout"
        }
      ]
    },
    {
      "cell_type": "code",
      "metadata": {
        "colab": {
          "base_uri": "https://localhost:8080/"
        },
        "id": "ysD-ll7j8zOe",
        "outputId": "47f241a7-ecc7-46cb-fb60-98c0b4f1837c"
      },
      "source": [
        "DAD = sparse_to_torch_sparse(DAD).to_dense().reshape(2, -1).long().to(DEVICE)\r\n",
        "DA = sparse_to_torch_sparse(DA).to_dense().reshape(2, -1).long().to(DEVICE)"
      ],
      "execution_count": null,
      "outputs": [
        {
          "output_type": "stream",
          "text": [
            "time: 6.15 s (started: 2021-03-03 00:12:09 +00:00)\n"
          ],
          "name": "stdout"
        }
      ]
    },
    {
      "cell_type": "code",
      "metadata": {
        "colab": {
          "base_uri": "https://localhost:8080/"
        },
        "id": "N9aWEIsBDatn",
        "outputId": "34fbecb6-afaa-4b58-921b-1f2271c2d0c2"
      },
      "source": [
        "post = CorrectAndSmooth(num_correction_layers=100, correction_alpha=1.0,\r\n",
        "                        num_smoothing_layers=50, smoothing_alpha=0.8,\r\n",
        "                        autoscale=True)"
      ],
      "execution_count": null,
      "outputs": [
        {
          "output_type": "stream",
          "text": [
            "time: 1.99 ms (started: 2021-03-03 00:12:15 +00:00)\n"
          ],
          "name": "stdout"
        }
      ]
    },
    {
      "cell_type": "code",
      "metadata": {
        "colab": {
          "base_uri": "https://localhost:8080/"
        },
        "id": "McfnW0RhFGlY",
        "outputId": "89501ed0-812d-4b61-bfc4-1c4dadfcd4da"
      },
      "source": [
        "n = 23124\r\n",
        "train_mask = torch.tensor(np.full(n, False), dtype=torch.bool).to(DEVICE)\r\n",
        "train_mask[:int(0.8*n)] = True\r\n",
        "test_mask = torch.tensor(np.full(n, False), dtype=torch.bool).to(DEVICE)\r\n",
        "test_mask[int(0.8*n):] = True"
      ],
      "execution_count": null,
      "outputs": [
        {
          "output_type": "stream",
          "text": [
            "time: 4.65 ms (started: 2021-03-03 00:12:15 +00:00)\n"
          ],
          "name": "stdout"
        }
      ]
    },
    {
      "cell_type": "code",
      "metadata": {
        "colab": {
          "base_uri": "https://localhost:8080/"
        },
        "id": "bFkffc4OEroa",
        "outputId": "55719647-2271-4815-cd3d-45ba114910c3"
      },
      "source": [
        "print('Correct')\r\n",
        "y_train_cor = torch.tensor(np.load(\"y_train_final.npy\")).to(DEVICE)\r\n",
        "y_soft_cor = post.correct(y_soft, y_train_cor, train_mask, DAD.reshape(2, -1))"
      ],
      "execution_count": null,
      "outputs": [
        {
          "output_type": "stream",
          "text": [
            "Correct\n",
            "torch.Size([23124, 1])\n",
            "time: 56.4 s (started: 2021-03-03 00:12:15 +00:00)\n"
          ],
          "name": "stdout"
        }
      ]
    },
    {
      "cell_type": "code",
      "metadata": {
        "colab": {
          "base_uri": "https://localhost:8080/"
        },
        "id": "b0K57K8OT6iW",
        "outputId": "82ea0f4d-4446-4d04-c922-b934950a04c0"
      },
      "source": [
        "from sklearn.metrics import mean_absolute_error\r\n",
        "\r\n",
        "y_test_final = np.load(\"y_test_final.npy\")\r\n",
        "test_mask_cpu = test_mask.cpu().detach().numpy()\r\n",
        "y_bi_test = y_soft_cor.cpu().detach().numpy()\r\n",
        "print(f\"Mean absolute error: {mean_absolute_error(y_test_final, y_bi_test[test_mask_cpu])}\")"
      ],
      "execution_count": null,
      "outputs": [
        {
          "output_type": "stream",
          "text": [
            "Mean absolute error: 3.4585139751434326\n",
            "time: 7.02 ms (started: 2021-03-03 00:13:12 +00:00)\n"
          ],
          "name": "stdout"
        }
      ]
    },
    {
      "cell_type": "code",
      "metadata": {
        "colab": {
          "base_uri": "https://localhost:8080/"
        },
        "id": "qEmL2ftzSjCM",
        "outputId": "827c0417-1206-480a-edfc-1c555cbeeec5"
      },
      "source": [
        "print('Smooth')\r\n",
        "y_soft_smooth = post.smooth(y_soft_cor, y_train_cor, train_mask, DA.reshape(2, -1))"
      ],
      "execution_count": null,
      "outputs": [
        {
          "output_type": "stream",
          "text": [
            "Smooth\n",
            "time: 16.5 ms (started: 2021-03-03 00:13:12 +00:00)\n"
          ],
          "name": "stdout"
        }
      ]
    },
    {
      "cell_type": "code",
      "metadata": {
        "colab": {
          "base_uri": "https://localhost:8080/"
        },
        "id": "HdnIkOUwTidR",
        "outputId": "adfffb9d-e649-4539-831a-1ed62eae27e1"
      },
      "source": [
        "y_tri_test = y_soft_smooth.cpu().detach().numpy()\r\n",
        "print(f\"Mean absolute error: {mean_absolute_error(y_test_final, y_tri_test[test_mask_cpu])}\")"
      ],
      "execution_count": null,
      "outputs": [
        {
          "output_type": "stream",
          "text": [
            "Mean absolute error: 8.9451904296875\n",
            "time: 28.5 s (started: 2021-03-03 00:13:12 +00:00)\n"
          ],
          "name": "stdout"
        }
      ]
    },
    {
      "cell_type": "code",
      "metadata": {
        "colab": {
          "base_uri": "https://localhost:8080/"
        },
        "id": "E4UIyfEhcfcW",
        "outputId": "2ae4c004-629f-43a5-dc31-f86948092ad2"
      },
      "source": [
        "a = pd.read_csv(\"predictions_MLP_maxim_net.csv\")\r\n",
        "b = pd.read_csv(\"predictions_MLP_concat_abstracts_3_42.csv\")"
      ],
      "execution_count": null,
      "outputs": [
        {
          "output_type": "stream",
          "text": [
            "time: 101 ms (started: 2021-03-03 00:18:05 +00:00)\n"
          ],
          "name": "stdout"
        }
      ]
    },
    {
      "cell_type": "code",
      "metadata": {
        "id": "qidI8ADdemm1"
      },
      "source": [
        "a[a[\"h_index_pred\"]]"
      ],
      "execution_count": null,
      "outputs": []
    },
    {
      "cell_type": "code",
      "metadata": {
        "colab": {
          "base_uri": "https://localhost:8080/"
        },
        "id": "Quo_lujgdJ6H",
        "outputId": "ba80c5f2-30dc-47f4-b67b-0202c559f375"
      },
      "source": [
        "from collections import Counter\r\n",
        "\r\n",
        "ca = Counter(a[\"h_index_pred\"])\r\n",
        "cb = Counter(b[\"h_index_pred\"])"
      ],
      "execution_count": null,
      "outputs": [
        {
          "output_type": "stream",
          "text": [
            "time: 76.7 ms (started: 2021-03-03 00:22:05 +00:00)\n"
          ],
          "name": "stdout"
        }
      ]
    },
    {
      "cell_type": "code",
      "metadata": {
        "colab": {
          "base_uri": "https://localhost:8080/",
          "height": 1000
        },
        "id": "iwbgsiC_dRLW",
        "outputId": "64acd20a-e006-40b0-d423-32ef99f16d65"
      },
      "source": [
        "import matplotlib.pyplot as plt\r\n",
        "\r\n",
        "plt.figure(figsize=(40, 40))\r\n",
        "plt.plot([x for _, x in ca.most_common()], label=\"A\")\r\n",
        "plt.plot([x for _, x in cb.most_common()], label=\"B\")\r\n",
        "plt.legend()"
      ],
      "execution_count": null,
      "outputs": [
        {
          "output_type": "execute_result",
          "data": {
            "text/plain": [
              "<matplotlib.legend.Legend at 0x7f9095033d90>"
            ]
          },
          "metadata": {
            "tags": []
          },
          "execution_count": 31
        },
        {
          "output_type": "display_data",
          "data": {
            "image/png": "[encoded data removed]",
            "text/plain": [
              "<Figure size 2880x2880 with 1 Axes>"
            ]
          },
          "metadata": {
            "tags": [],
            "needs_background": "light"
          }
        },
        {
          "output_type": "stream",
          "text": [
            "time: 676 ms (started: 2021-03-03 00:23:23 +00:00)\n"
          ],
          "name": "stdout"
        }
      ]
    }
  ]
}