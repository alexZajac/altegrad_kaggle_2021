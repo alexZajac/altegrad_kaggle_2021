{
  "nbformat": 4,
  "nbformat_minor": 0,
  "metadata": {
    "colab": {
      "name": "GAE.ipynb",
      "provenance": [],
      "collapsed_sections": [
        "6mW5ZvJ23JlP",
        "Qkg7i-Yh3Nst",
        "5q4mSQA94Jrl"
      ]
    },
    "kernelspec": {
      "name": "python3",
      "display_name": "Python 3"
    }
  },
  "cells": [
    {
      "cell_type": "markdown",
      "metadata": {
        "id": "6mW5ZvJ23JlP"
      },
      "source": [
        "# gdown"
      ]
    },
    {
      "cell_type": "code",
      "metadata": {
        "colab": {
          "base_uri": "https://localhost:8080/"
        },
        "id": "AgZeaRAiqAZV",
        "outputId": "6b18d01d-e135-487e-849f-8870ddd5403a"
      },
      "source": [
        "!pip install gdown\r\n",
        "!pip install ipython-autotime"
      ],
      "execution_count": null,
      "outputs": [
        {
          "output_type": "stream",
          "text": [
            "Requirement already satisfied: gdown in /usr/local/lib/python3.6/dist-packages (3.6.4)\n",
            "Requirement already satisfied: requests in /usr/local/lib/python3.6/dist-packages (from gdown) (2.23.0)\n",
            "Requirement already satisfied: tqdm in /usr/local/lib/python3.6/dist-packages (from gdown) (4.41.1)\n",
            "Requirement already satisfied: six in /usr/local/lib/python3.6/dist-packages (from gdown) (1.15.0)\n",
            "Requirement already satisfied: chardet<4,>=3.0.2 in /usr/local/lib/python3.6/dist-packages (from requests->gdown) (3.0.4)\n",
            "Requirement already satisfied: urllib3!=1.25.0,!=1.25.1,<1.26,>=1.21.1 in /usr/local/lib/python3.6/dist-packages (from requests->gdown) (1.24.3)\n",
            "Requirement already satisfied: certifi>=2017.4.17 in /usr/local/lib/python3.6/dist-packages (from requests->gdown) (2020.12.5)\n",
            "Requirement already satisfied: idna<3,>=2.5 in /usr/local/lib/python3.6/dist-packages (from requests->gdown) (2.10)\n",
            "Collecting ipython-autotime\n",
            "  Downloading https://files.pythonhosted.org/packages/b4/c9/b413a24f759641bc27ef98c144b590023c8038dfb8a3f09e713e9dff12c1/ipython_autotime-0.3.1-py2.py3-none-any.whl\n",
            "Requirement already satisfied: ipython in /usr/local/lib/python3.6/dist-packages (from ipython-autotime) (5.5.0)\n",
            "Requirement already satisfied: decorator in /usr/local/lib/python3.6/dist-packages (from ipython->ipython-autotime) (4.4.2)\n",
            "Requirement already satisfied: traitlets>=4.2 in /usr/local/lib/python3.6/dist-packages (from ipython->ipython-autotime) (4.3.3)\n",
            "Requirement already satisfied: setuptools>=18.5 in /usr/local/lib/python3.6/dist-packages (from ipython->ipython-autotime) (53.0.0)\n",
            "Requirement already satisfied: simplegeneric>0.8 in /usr/local/lib/python3.6/dist-packages (from ipython->ipython-autotime) (0.8.1)\n",
            "Requirement already satisfied: pexpect; sys_platform != \"win32\" in /usr/local/lib/python3.6/dist-packages (from ipython->ipython-autotime) (4.8.0)\n",
            "Requirement already satisfied: pygments in /usr/local/lib/python3.6/dist-packages (from ipython->ipython-autotime) (2.6.1)\n",
            "Requirement already satisfied: pickleshare in /usr/local/lib/python3.6/dist-packages (from ipython->ipython-autotime) (0.7.5)\n",
            "Requirement already satisfied: prompt-toolkit<2.0.0,>=1.0.4 in /usr/local/lib/python3.6/dist-packages (from ipython->ipython-autotime) (1.0.18)\n",
            "Requirement already satisfied: ipython-genutils in /usr/local/lib/python3.6/dist-packages (from traitlets>=4.2->ipython->ipython-autotime) (0.2.0)\n",
            "Requirement already satisfied: six in /usr/local/lib/python3.6/dist-packages (from traitlets>=4.2->ipython->ipython-autotime) (1.15.0)\n",
            "Requirement already satisfied: ptyprocess>=0.5 in /usr/local/lib/python3.6/dist-packages (from pexpect; sys_platform != \"win32\"->ipython->ipython-autotime) (0.7.0)\n",
            "Requirement already satisfied: wcwidth in /usr/local/lib/python3.6/dist-packages (from prompt-toolkit<2.0.0,>=1.0.4->ipython->ipython-autotime) (0.2.5)\n",
            "Installing collected packages: ipython-autotime\n",
            "Successfully installed ipython-autotime-0.3.1\n"
          ],
          "name": "stdout"
        }
      ]
    },
    {
      "cell_type": "code",
      "metadata": {
        "colab": {
          "base_uri": "https://localhost:8080/"
        },
        "id": "moq52oyusvDB",
        "outputId": "2873311c-5d96-4f6b-bfcb-695e425b9f12"
      },
      "source": [
        "%load_ext autotime"
      ],
      "execution_count": null,
      "outputs": [
        {
          "output_type": "stream",
          "text": [
            "time: 88.3 µs (started: 2021-02-11 08:26:50 +00:00)\n"
          ],
          "name": "stdout"
        }
      ]
    },
    {
      "cell_type": "code",
      "metadata": {
        "id": "wpvhpaMzxh41",
        "colab": {
          "base_uri": "https://localhost:8080/"
        },
        "outputId": "f793d8c9-120f-436c-c09b-86c21899d65a"
      },
      "source": [
        "!gdown \"https://drive.google.com/uc?id=1Qbi954Bwx-PplM8F_7TrB_blcqcB-bF2\""
      ],
      "execution_count": null,
      "outputs": [
        {
          "output_type": "stream",
          "text": [
            "Downloading...\n",
            "From: https://drive.google.com/uc?id=1Qbi954Bwx-PplM8F_7TrB_blcqcB-bF2\n",
            "To: /content/train.csv\n",
            "\r  0% 0.00/305k [00:00<?, ?B/s]\r100% 305k/305k [00:00<00:00, 93.6MB/s]\n",
            "time: 1.22 s (started: 2021-02-11 08:26:50 +00:00)\n"
          ],
          "name": "stdout"
        }
      ]
    },
    {
      "cell_type": "code",
      "metadata": {
        "id": "rhJuPjfKxnZN",
        "colab": {
          "base_uri": "https://localhost:8080/"
        },
        "outputId": "354f7939-dbb2-43c5-c783-11fd3631e7f2"
      },
      "source": [
        "!gdown \"https://drive.google.com/uc?id=1j7h-SUy2gMJBds6eQalw4CFZC3O7Pr05\""
      ],
      "execution_count": null,
      "outputs": [
        {
          "output_type": "stream",
          "text": [
            "Downloading...\n",
            "From: https://drive.google.com/uc?id=1j7h-SUy2gMJBds6eQalw4CFZC3O7Pr05\n",
            "To: /content/collaboration_network.edgelist\n",
            "38.8MB [00:00, 139MB/s] \n",
            "time: 2.33 s (started: 2021-02-11 08:26:52 +00:00)\n"
          ],
          "name": "stdout"
        }
      ]
    },
    {
      "cell_type": "code",
      "metadata": {
        "id": "gvslp4GGxpan",
        "colab": {
          "base_uri": "https://localhost:8080/"
        },
        "outputId": "1fae0b19-b805-43ec-92ce-ab15d9d6d70c"
      },
      "source": [
        "!gdown \"https://drive.google.com/uc?id=1AEn8P631y-pq6szgAbTm538oM6waf-5E\""
      ],
      "execution_count": null,
      "outputs": [
        {
          "output_type": "stream",
          "text": [
            "Downloading...\n",
            "From: https://drive.google.com/uc?id=1AEn8P631y-pq6szgAbTm538oM6waf-5E\n",
            "To: /content/author_embedding.csv\n",
            "683MB [00:03, 203MB/s]\n",
            "time: 7.52 s (started: 2021-02-11 08:26:54 +00:00)\n"
          ],
          "name": "stdout"
        }
      ]
    },
    {
      "cell_type": "code",
      "metadata": {
        "colab": {
          "base_uri": "https://localhost:8080/"
        },
        "id": "YXzAtjU1w3Im",
        "outputId": "38b3a186-6566-48fb-abe9-cbc35d3a1bea"
      },
      "source": [
        "!gdown \"https://drive.google.com/uc?id=1AEn8P631y-pq6szgAbTm538oM6waf-5E\""
      ],
      "execution_count": null,
      "outputs": [
        {
          "output_type": "stream",
          "text": [
            "Downloading...\n",
            "From: https://drive.google.com/uc?id=1AEn8P631y-pq6szgAbTm538oM6waf-5E\n",
            "To: /content/author_embedding.csv\n",
            "683MB [00:05, 125MB/s] \n",
            "time: 18.6 s (started: 2021-02-11 08:27:02 +00:00)\n"
          ],
          "name": "stdout"
        }
      ]
    },
    {
      "cell_type": "code",
      "metadata": {
        "colab": {
          "base_uri": "https://localhost:8080/"
        },
        "id": "GYHx6zpb4x5z",
        "outputId": "a741ff4b-ce34-4048-d9d6-0368ca14e33f"
      },
      "source": [
        "!gdown \"https://drive.google.com/uc?id=1IATZNB9SCDWkPhU1okCKwf_NMFSC_LSn\""
      ],
      "execution_count": null,
      "outputs": [
        {
          "output_type": "stream",
          "text": [
            "Downloading...\n",
            "From: https://drive.google.com/uc?id=1IATZNB9SCDWkPhU1okCKwf_NMFSC_LSn\n",
            "To: /content/collaboration_network_weighted.edgelist\n",
            "71.3MB [00:02, 28.3MB/s]\n",
            "time: 4.74 s (started: 2021-02-11 08:27:20 +00:00)\n"
          ],
          "name": "stdout"
        }
      ]
    },
    {
      "cell_type": "markdown",
      "metadata": {
        "id": "Qkg7i-Yh3Nst"
      },
      "source": [
        "# GAE "
      ]
    },
    {
      "cell_type": "code",
      "metadata": {
        "id": "ZVHJ1UoPpSuG",
        "colab": {
          "base_uri": "https://localhost:8080/"
        },
        "outputId": "0cd7455a-eab1-41b1-93cd-204f56fbe8df"
      },
      "source": [
        "\"\"\"\r\n",
        "Deep Learning on Graphs - ALTEGRAD - Dec 2020\r\n",
        "\"\"\"\r\n",
        "\r\n",
        "import scipy.sparse as sp\r\n",
        "import numpy as np\r\n",
        "import torch\r\n",
        "from sklearn.preprocessing import LabelEncoder\r\n",
        "\r\n",
        "\r\n",
        "def normalize_adjacency(A):\r\n",
        "    A_tilde = A + sp.identity(A.shape[0])\r\n",
        "    D_tilde = sp.diags(A_tilde.sum(axis=1).A1)\r\n",
        "    D_pow_tilde = D_tilde.power(-0.5)\r\n",
        "    A_normalized = D_pow_tilde @ A_tilde @ D_pow_tilde\r\n",
        "    return A_normalized\r\n",
        "\r\n",
        "\r\n",
        "def sparse_to_torch_sparse(M):\r\n",
        "    \"\"\"Converts a sparse SciPy matrix to a sparse PyTorch tensor\"\"\"\r\n",
        "    M = M.tocoo().astype(np.float32)\r\n",
        "    indices = torch.from_numpy(np.vstack((M.row, M.col)).astype(np.int64))\r\n",
        "    values = torch.from_numpy(M.data)\r\n",
        "    shape = torch.Size(M.shape)\r\n",
        "    return torch.sparse.FloatTensor(indices, values, shape)\r\n",
        "\r\n",
        "def loss_function(z, adj, device):\r\n",
        "    mse_loss = nn.MSELoss()\r\n",
        "    \r\n",
        "    indices = adj._indices()\r\n",
        "\r\n",
        "    y_pred = list()\r\n",
        "    y = list()\r\n",
        "\r\n",
        "    y_pred.append(torch.sum(torch.mul(z[indices[0,:],:], z[indices[1,:],:]), dim=1))\r\n",
        "    y.append(torch.ones(indices.size(1)).to(device))\r\n",
        "\r\n",
        "    random_indices = torch.randint(z.size(0), indices.size())\r\n",
        "    y_pred.append(torch.sum(torch.mul(z[random_indices[0,:],:], z[random_indices[1,:],:]), dim=1))\r\n",
        "    y.append(torch.zeros(random_indices.size(1)).to(device))\r\n",
        "\r\n",
        "\r\n",
        "    y_pred = torch.cat(y_pred, dim=0)\r\n",
        "    y = torch.cat(y, dim=0)\r\n",
        "    \r\n",
        "    loss = mse_loss(y_pred, y)\r\n",
        "    return loss"
      ],
      "execution_count": null,
      "outputs": [
        {
          "output_type": "stream",
          "text": [
            "time: 3.28 s (started: 2021-02-11 08:27:25 +00:00)\n"
          ],
          "name": "stdout"
        }
      ]
    },
    {
      "cell_type": "code",
      "metadata": {
        "colab": {
          "base_uri": "https://localhost:8080/"
        },
        "id": "oqmJe8ViAdok",
        "outputId": "3a97187c-bee6-475c-f0aa-c87d8d55b0fa"
      },
      "source": [
        "import torch\r\n",
        "import torch.nn as nn\r\n",
        "import torch.nn.functional as F\r\n",
        "\r\n",
        "class GAE(nn.Module):\r\n",
        "    \"\"\"GAE model\"\"\"\r\n",
        "    def __init__(self, n_feat, dropout , n_hidden_1 = 128 , n_out = 32):\r\n",
        "        super(GAE, self).__init__()\r\n",
        "\r\n",
        "        self.fc3 = nn.Linear(n_feat, 128)\r\n",
        "        self.fc4 = nn.Linear(128, 64)\r\n",
        "        self.fc5 = nn.Linear(64, n_out)\r\n",
        "        self.dropout = nn.Dropout(dropout)\r\n",
        "        self.relu = nn.ReLU()\r\n",
        "        self.tanh = nn.Tanh()\r\n",
        "\r\n",
        "    def forward(self, x_in, adj):\r\n",
        "    \r\n",
        "        ##################\r\n",
        "        x =  self.fc3 (x_in)\r\n",
        "        x = torch.mm(adj, x)\r\n",
        "        x = self.tanh(x)\r\n",
        "        x = self.dropout(x)\r\n",
        "        #-----------.\r\n",
        "        x =  self.fc4(x)\r\n",
        "        x = torch.mm(adj, x)\r\n",
        "        x = self.tanh(x)\r\n",
        "        x = self.dropout(x)\r\n",
        "        #-----------.\r\n",
        "        z =  self.fc5 (x)\r\n",
        "        z = torch.mm(adj, z)\r\n",
        "        ##################\r\n",
        "\r\n",
        "        return z"
      ],
      "execution_count": null,
      "outputs": [
        {
          "output_type": "stream",
          "text": [
            "time: 31.4 ms (started: 2021-02-11 08:27:28 +00:00)\n"
          ],
          "name": "stdout"
        }
      ]
    },
    {
      "cell_type": "markdown",
      "metadata": {
        "id": "Wv1o7hQ3Aqxn"
      },
      "source": [
        "#   adj & features"
      ]
    },
    {
      "cell_type": "code",
      "metadata": {
        "id": "BPxWEuMSp6mt",
        "colab": {
          "base_uri": "https://localhost:8080/"
        },
        "outputId": "f07700de-813f-494d-a5d9-46284e379ad6"
      },
      "source": [
        "import numpy as np\r\n",
        "import networkx as nx\r\n",
        "import time\r\n",
        "import torch\r\n",
        "import torch.nn.functional as F\r\n",
        "import torch.optim as optim\r\n",
        "from sklearn.metrics import accuracy_score\r\n",
        "import pandas as pd\r\n",
        "from sklearn.metrics import mean_absolute_error\r\n",
        "from tqdm.notebook import tqdm"
      ],
      "execution_count": null,
      "outputs": [
        {
          "output_type": "stream",
          "text": [
            "time: 664 ms (started: 2021-02-11 08:27:28 +00:00)\n"
          ],
          "name": "stdout"
        }
      ]
    },
    {
      "cell_type": "code",
      "metadata": {
        "colab": {
          "base_uri": "https://localhost:8080/"
        },
        "id": "e2QYnbpjsgpb",
        "outputId": "8d511560-c8eb-4f5d-ccab-f602df5ca21c"
      },
      "source": [
        "# Initialize device\r\n",
        "device = torch.device(\r\n",
        "    \"cuda\") if torch.cuda.is_available() else torch.device(\"cpu\")\r\n",
        "\r\n",
        "# Hyperparameters\r\n",
        "epochs = 2000\r\n",
        "learning_rate = 0.001\r\n",
        "dropout_rate = 0.2\r\n",
        "n_feat = 300"
      ],
      "execution_count": null,
      "outputs": [
        {
          "output_type": "stream",
          "text": [
            "time: 77.9 ms (started: 2021-02-11 08:27:29 +00:00)\n"
          ],
          "name": "stdout"
        }
      ]
    },
    {
      "cell_type": "code",
      "metadata": {
        "colab": {
          "base_uri": "https://localhost:8080/"
        },
        "id": "mB9-OBpcqV94",
        "outputId": "dd774c0b-78ca-4c5e-cf77-f8c445d1c384"
      },
      "source": [
        "# load the graph\r\n",
        "G = nx.read_weighted_edgelist('collaboration_network_weighted.edgelist',\r\n",
        "                     delimiter=' ', nodetype=int)\r\n",
        "adj = nx.adjacency_matrix(G)  # Obtains the adjacency matrix\r\n",
        "adj_norm = normalize_adjacency(adj)  # Normalizes the adjacency matrix\r\n",
        "adj_norm.shape"
      ],
      "execution_count": null,
      "outputs": [
        {
          "output_type": "stream",
          "text": [
            "time: 25.8 s (started: 2021-02-11 08:27:29 +00:00)\n"
          ],
          "name": "stdout"
        }
      ]
    },
    {
      "cell_type": "code",
      "metadata": {
        "colab": {
          "base_uri": "https://localhost:8080/"
        },
        "id": "mwaxXfVxrWjQ",
        "outputId": "d4244e07-7b0b-4048-a52b-bb0e1d3815c6"
      },
      "source": [
        "n = G.number_of_nodes()\r\n",
        "features = np.random.randn(n, n_feat)\r\n",
        "\r\n",
        "features = torch.FloatTensor(features).to(device)\r\n",
        "adj_norm = sparse_to_torch_sparse(adj_norm).to(device)"
      ],
      "execution_count": null,
      "outputs": [
        {
          "output_type": "stream",
          "text": [
            "time: 2.96 s (started: 2021-02-11 08:28:12 +00:00)\n"
          ],
          "name": "stdout"
        }
      ]
    },
    {
      "cell_type": "markdown",
      "metadata": {
        "id": "SL_pJW_pC-PQ"
      },
      "source": [
        "# loop"
      ]
    },
    {
      "cell_type": "code",
      "metadata": {
        "id": "nk8RvgGHriDf"
      },
      "source": [
        "model = GAE(features.shape[1], dropout_rate).to(device)\r\n",
        "optimizer = optim.Adam(model.parameters(), lr=learning_rate)\r\n",
        "# Train model\r\n",
        "t_total = time.time()\r\n",
        "for epoch in tqdm(range(epochs)):\r\n",
        "    t = time.time()\r\n",
        "    model.train()\r\n",
        "    optimizer.zero_grad()\r\n",
        "    z = model(features, adj_norm)\r\n",
        "    loss = loss_function(z, adj_norm, device)\r\n",
        "    loss.backward()\r\n",
        "    optimizer.step()\r\n",
        "    if epoch % 200 == 0:\r\n",
        "       print('Epoch: {:04d}'.format(epoch),\r\n",
        "              'loss_train: {:.4f}'.format(loss.item()),\r\n",
        "              'time: {:.4f}s'.format(time.time() - t))\r\n",
        "    if epoch % 1000 == 0 and epoch != 0:\r\n",
        "      df_z = pd.DataFrame(z.detach().cpu().numpy(), index = list(G.nodes))\r\n",
        "      df_z.index.name = 'authorID'\r\n",
        "      df_z.columns = [str(col) + '_GAE' for col in df_z.columns]\r\n",
        "      df_z.to_csv('Z_GAE_32_tanh_Ep'+str(epoch)+'_'+str(round(loss.item(),4))+'.csv')\r\n",
        "      print('###Z_GAE_32_tanh_Ep'+str(epoch)+'_'+str(round(loss.item(),4))+'.csv###')\r\n",
        "\r\n",
        "df_z = pd.DataFrame(z.detach().cpu().numpy(), index = list(G.nodes))\r\n",
        "df_z.index.name = 'authorID'\r\n",
        "df_z.columns = [str(col) + '_GAE' for col in df_z.columns]\r\n",
        "df_z.to_csv('Z_GAE_32_tanh_Ep'+str(epochs)+'_'+str(round(loss.item(),4))+'.csv')\r\n",
        "print('###Z_GAE_32_tanh_Ep'+str(epochs)+'_'+str(round(loss.item(),4))+'.csv###')\r\n",
        "\r\n",
        "print(\"Optimization Finished!\")\r\n",
        "print(\"Total time elapsed: {:.4f}s\".format(time.time() - t_total))\r\n",
        "print()"
      ],
      "execution_count": null,
      "outputs": []
    },
    {
      "cell_type": "code",
      "metadata": {
        "colab": {
          "base_uri": "https://localhost:8080/"
        },
        "id": "llEwQSfVcaAl",
        "outputId": "8d3a261a-3f48-4a4e-c421-599e11274735"
      },
      "source": [
        "#save final file \r\n",
        "\r\n",
        "z_detach = z.detach().cpu().numpy()\r\n",
        "df_z = pd.DataFrame(z_detach, index = list(G.nodes))\r\n",
        "df_z.index.name = 'authorID'\r\n",
        "df_z.columns = [str(col) + '_GAE' for col in df_z.columns]\r\n",
        "df_z.to_csv('Z_GAE_32_tanh_Plusepoch_.csv')"
      ],
      "execution_count": null,
      "outputs": [
        {
          "output_type": "stream",
          "text": [
            "time: 310 ms (started: 2021-02-10 02:50:35 +00:00)\n"
          ],
          "name": "stdout"
        }
      ]
    }
  ]
}