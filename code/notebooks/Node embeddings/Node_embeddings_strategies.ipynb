{
  "nbformat": 4,
  "nbformat_minor": 0,
  "metadata": {
    "colab": {
      "name": "Node embeddings strategies",
      "provenance": [],
      "collapsed_sections": [
        "RHRkU60uiG0S",
        "DtT_LzkaZfR5",
        "0k02DlpY1kEn",
        "ponFjvt44xNn",
        "PD_la2EbniuF"
      ],
      "machine_shape": "hm"
    },
    "kernelspec": {
      "name": "python3",
      "display_name": "Python 3"
    }
  },
  "cells": [
    {
      "cell_type": "code",
      "metadata": {
        "colab": {
          "base_uri": "https://localhost:8080/"
        },
        "id": "4Mh1TB1Qh0Yz",
        "outputId": "2793a2b9-8782-45e5-ebdb-996146ca6b84"
      },
      "source": [
        "!pip install gdown\r\n",
        "!pip install ipython-autotime"
      ],
      "execution_count": null,
      "outputs": [
        {
          "output_type": "stream",
          "text": [
            "Requirement already satisfied: gdown in /usr/local/lib/python3.7/dist-packages (3.6.4)\n",
            "Requirement already satisfied: six in /usr/local/lib/python3.7/dist-packages (from gdown) (1.15.0)\n",
            "Requirement already satisfied: requests in /usr/local/lib/python3.7/dist-packages (from gdown) (2.23.0)\n",
            "Requirement already satisfied: tqdm in /usr/local/lib/python3.7/dist-packages (from gdown) (4.41.1)\n",
            "Requirement already satisfied: idna<3,>=2.5 in /usr/local/lib/python3.7/dist-packages (from requests->gdown) (2.10)\n",
            "Requirement already satisfied: urllib3!=1.25.0,!=1.25.1,<1.26,>=1.21.1 in /usr/local/lib/python3.7/dist-packages (from requests->gdown) (1.24.3)\n",
            "Requirement already satisfied: chardet<4,>=3.0.2 in /usr/local/lib/python3.7/dist-packages (from requests->gdown) (3.0.4)\n",
            "Requirement already satisfied: certifi>=2017.4.17 in /usr/local/lib/python3.7/dist-packages (from requests->gdown) (2020.12.5)\n",
            "Requirement already satisfied: ipython-autotime in /usr/local/lib/python3.7/dist-packages (0.3.1)\n",
            "Requirement already satisfied: ipython in /usr/local/lib/python3.7/dist-packages (from ipython-autotime) (5.5.0)\n",
            "Requirement already satisfied: pygments in /usr/local/lib/python3.7/dist-packages (from ipython->ipython-autotime) (2.6.1)\n",
            "Requirement already satisfied: setuptools>=18.5 in /usr/local/lib/python3.7/dist-packages (from ipython->ipython-autotime) (54.0.0)\n",
            "Requirement already satisfied: decorator in /usr/local/lib/python3.7/dist-packages (from ipython->ipython-autotime) (4.4.2)\n",
            "Requirement already satisfied: traitlets>=4.2 in /usr/local/lib/python3.7/dist-packages (from ipython->ipython-autotime) (5.0.5)\n",
            "Requirement already satisfied: prompt-toolkit<2.0.0,>=1.0.4 in /usr/local/lib/python3.7/dist-packages (from ipython->ipython-autotime) (1.0.18)\n",
            "Requirement already satisfied: pickleshare in /usr/local/lib/python3.7/dist-packages (from ipython->ipython-autotime) (0.7.5)\n",
            "Requirement already satisfied: simplegeneric>0.8 in /usr/local/lib/python3.7/dist-packages (from ipython->ipython-autotime) (0.8.1)\n",
            "Requirement already satisfied: pexpect; sys_platform != \"win32\" in /usr/local/lib/python3.7/dist-packages (from ipython->ipython-autotime) (4.8.0)\n",
            "Requirement already satisfied: ipython-genutils in /usr/local/lib/python3.7/dist-packages (from traitlets>=4.2->ipython->ipython-autotime) (0.2.0)\n",
            "Requirement already satisfied: six>=1.9.0 in /usr/local/lib/python3.7/dist-packages (from prompt-toolkit<2.0.0,>=1.0.4->ipython->ipython-autotime) (1.15.0)\n",
            "Requirement already satisfied: wcwidth in /usr/local/lib/python3.7/dist-packages (from prompt-toolkit<2.0.0,>=1.0.4->ipython->ipython-autotime) (0.2.5)\n",
            "Requirement already satisfied: ptyprocess>=0.5 in /usr/local/lib/python3.7/dist-packages (from pexpect; sys_platform != \"win32\"->ipython->ipython-autotime) (0.7.0)\n"
          ],
          "name": "stdout"
        }
      ]
    },
    {
      "cell_type": "code",
      "metadata": {
        "colab": {
          "base_uri": "https://localhost:8080/"
        },
        "id": "mFNQX2koiBDM",
        "outputId": "a1b776de-5751-44ae-d11e-99e8ad4fd967"
      },
      "source": [
        "%load_ext autotime"
      ],
      "execution_count": null,
      "outputs": [
        {
          "output_type": "stream",
          "text": [
            "time: 164 µs (started: 2021-03-03 13:12:03 +00:00)\n"
          ],
          "name": "stdout"
        }
      ]
    },
    {
      "cell_type": "code",
      "metadata": {
        "colab": {
          "base_uri": "https://localhost:8080/"
        },
        "id": "dQclK53DiHLW",
        "outputId": "793946cb-fae6-4030-bffc-be27556e3bfe"
      },
      "source": [
        "!gdown \"https://drive.google.com/uc?id=1IATZNB9SCDWkPhU1okCKwf_NMFSC_LSn\""
      ],
      "execution_count": null,
      "outputs": [
        {
          "output_type": "stream",
          "text": [
            "Downloading...\n",
            "From: https://drive.google.com/uc?id=1IATZNB9SCDWkPhU1okCKwf_NMFSC_LSn\n",
            "To: /content/collaboration_network_weighted.edgelist\n",
            "113MB [00:00, 199MB/s]\n",
            "time: 2.43 s (started: 2021-03-03 13:12:03 +00:00)\n"
          ],
          "name": "stdout"
        }
      ]
    },
    {
      "cell_type": "code",
      "metadata": {
        "id": "TL57PFGOjo_0",
        "colab": {
          "base_uri": "https://localhost:8080/"
        },
        "outputId": "72fcd7af-71c6-403e-c7f7-c73eb4a19cf2"
      },
      "source": [
        "#%%cython\r\n",
        "import numpy as np\r\n",
        "import networkx as nx\r\n",
        "from random import randint\r\n",
        "import random\r\n",
        "import pandas as pd"
      ],
      "execution_count": null,
      "outputs": [
        {
          "output_type": "stream",
          "text": [
            "time: 776 ms (started: 2021-03-03 13:12:05 +00:00)\n"
          ],
          "name": "stdout"
        }
      ]
    },
    {
      "cell_type": "markdown",
      "metadata": {
        "id": "RHRkU60uiG0S"
      },
      "source": [
        "# Deep walk By hand"
      ]
    },
    {
      "cell_type": "code",
      "metadata": {
        "id": "QPG85FUTi3uy"
      },
      "source": [
        "#%%cython\r\n",
        "# Simulates a random walk of length \"walk_length\" starting from node \"node\"\r\n",
        "def random_walk(G, node, walk_length):\r\n",
        "    v = node \r\n",
        "    walk = [v]\r\n",
        "    for _ in range(walk_length) :\r\n",
        "        neighbors = list(G.neighbors(walk[-1]))\r\n",
        "        v = random.choice(list(G.neighbors(node)))\r\n",
        "        walk.append(v)\r\n",
        "    \r\n",
        "    walk = [str(node) for node in walk]\r\n",
        "    return walk\r\n",
        "\r\n",
        "# Runs \"num_walks\" random walks from each node\r\n",
        "def generate_walks(G, num_walks, walk_length):\r\n",
        "    walks = []\r\n",
        "\r\n",
        "    for _ in range (num_walks):\r\n",
        "        All_nodes_p = np.random.permutation(list(G.nodes()))\r\n",
        "        for n in All_nodes_p:\r\n",
        "            walks.append(random_walk(G,n,walk_length))\r\n",
        "    \r\n",
        "    return walks"
      ],
      "execution_count": null,
      "outputs": []
    },
    {
      "cell_type": "code",
      "metadata": {
        "colab": {
          "base_uri": "https://localhost:8080/"
        },
        "id": "mCzgRRiWfGxN",
        "outputId": "59b2b93e-0ce7-4ac1-edd9-8bff0b29d408"
      },
      "source": [
        "# Simulates walks and uses the Skipgram model to learn node representations\r\n",
        "def deepwalk(G, num_walks, walk_length, n_dim):\r\n",
        "    print(\"Generating walks\")\r\n",
        "    walks = generate_walks(G, num_walks, walk_length)\r\n",
        "\r\n",
        "    print(\"Training word2vec\")\r\n",
        "    model = Word2Vec(size=n_dim, window=8, min_count=0, sg=1, workers=8)#hs=1\r\n",
        "    model.build_vocab(walks)\r\n",
        "    model.train(walks, total_examples=model.corpus_count, epochs=5)\r\n",
        "\r\n",
        "    return model"
      ],
      "execution_count": null,
      "outputs": [
        {
          "output_type": "stream",
          "text": [
            "time: 6.1 ms (started: 2021-02-25 14:14:37 +00:00)\n"
          ],
          "name": "stdout"
        }
      ]
    },
    {
      "cell_type": "code",
      "metadata": {
        "colab": {
          "base_uri": "https://localhost:8080/"
        },
        "id": "zJa1qXtJj7H4",
        "outputId": "bebdf0fa-9f67-4307-9a7f-302dc223886e"
      },
      "source": [
        "# Loads the web graph\r\n",
        "G = nx.read_weighted_edgelist('collaboration_network_weighted.edgelist', delimiter=' ', nodetype=int , create_using=nx.Graph())\r\n",
        "print(\"Number of nodes:\", G.number_of_nodes())\r\n",
        "print(\"Number of edges:\", G.number_of_edges())"
      ],
      "execution_count": null,
      "outputs": [
        {
          "output_type": "stream",
          "text": [
            "Number of nodes: 231239\n",
            "Number of edges: 2991383\n",
            "time: 18.1 s (started: 2021-02-26 08:17:33 +00:00)\n"
          ],
          "name": "stdout"
        }
      ]
    },
    {
      "cell_type": "code",
      "metadata": {
        "colab": {
          "base_uri": "https://localhost:8080/"
        },
        "id": "LR5IKwqiiU-H",
        "outputId": "a559c785-c3f5-47b6-db37-b1974136aa5f"
      },
      "source": [
        "# Hyperparameters\r\n",
        "n_dim = 256\r\n",
        "n_walks = 100\r\n",
        "walk_length = 30\r\n",
        "n = G.number_of_nodes() "
      ],
      "execution_count": null,
      "outputs": [
        {
          "output_type": "stream",
          "text": [
            "time: 10.9 ms (started: 2021-02-25 14:15:11 +00:00)\n"
          ],
          "name": "stdout"
        }
      ]
    },
    {
      "cell_type": "code",
      "metadata": {
        "colab": {
          "base_uri": "https://localhost:8080/"
        },
        "id": "7XInk0ZxjRdk",
        "outputId": "f325cc8e-54b2-45cd-85ec-e6443ece5b26"
      },
      "source": [
        "from tqdm import tqdm\r\n",
        "from gensim.models import Word2Vec\r\n",
        "# Extracts a set of random walks from the web graph and feeds them to the Skipgram model\r\n",
        "model = deepwalk(G, n_walks, walk_length, n_dim)"
      ],
      "execution_count": null,
      "outputs": [
        {
          "output_type": "stream",
          "text": [
            "Generating walks\n",
            "Training word2vec\n",
            "time: 14min 32s (started: 2021-02-25 14:15:13 +00:00)\n"
          ],
          "name": "stdout"
        }
      ]
    },
    {
      "cell_type": "code",
      "metadata": {
        "colab": {
          "base_uri": "https://localhost:8080/"
        },
        "id": "N-vRgJfy8X5X",
        "outputId": "fbe41076-3f21-40df-d179-1ea4b9902a39"
      },
      "source": [
        "nodes = model.wv.index2entity[:n]\r\n",
        "vecs = np.empty(shape=(n, n_dim))\r\n",
        "print('Genrating vec')\r\n",
        "for i in tqdm(range(len(vecs))):\r\n",
        "  vecs[i,:] = model.wv[nodes[i]]"
      ],
      "execution_count": null,
      "outputs": [
        {
          "output_type": "stream",
          "text": [
            " 14%|█▍        | 33215/231239 [00:00<00:00, 332143.19it/s]"
          ],
          "name": "stderr"
        },
        {
          "output_type": "stream",
          "text": [
            "Genrating vec\n"
          ],
          "name": "stdout"
        },
        {
          "output_type": "stream",
          "text": [
            "100%|██████████| 231239/231239 [00:00<00:00, 337939.25it/s]"
          ],
          "name": "stderr"
        },
        {
          "output_type": "stream",
          "text": [
            "time: 700 ms (started: 2021-02-25 14:29:46 +00:00)\n"
          ],
          "name": "stdout"
        },
        {
          "output_type": "stream",
          "text": [
            "\n"
          ],
          "name": "stderr"
        }
      ]
    },
    {
      "cell_type": "code",
      "metadata": {
        "colab": {
          "base_uri": "https://localhost:8080/"
        },
        "id": "x1adXEnc8CST",
        "outputId": "5fef9627-1b13-437f-9980-ff3caf132f5c"
      },
      "source": [
        "df_z = pd.DataFrame(vecs, index = list(G.nodes))\r\n",
        "df_z.index.name = 'authorID'\r\n",
        "df_z.to_csv('DeepWalk_128.csv')"
      ],
      "execution_count": null,
      "outputs": [
        {
          "output_type": "stream",
          "text": [
            "time: 79.2 ms (started: 2021-02-25 14:30:30 +00:00)\n"
          ],
          "name": "stdout"
        }
      ]
    },
    {
      "cell_type": "markdown",
      "metadata": {
        "id": "0AOBR8512mqa"
      },
      "source": [
        "# Git code\r\n",
        "\r\n",
        "**Need to colne repo from here** ::\r\n",
        "https://github.com/shenweichen/GraphEmbedding/tree/7e26f8a0b648cfe0ad3a6f13fd1aced8c1218503"
      ]
    },
    {
      "cell_type": "code",
      "metadata": {
        "id": "7tMCxIkM3Qx8",
        "colab": {
          "base_uri": "https://localhost:8080/"
        },
        "outputId": "713900e1-ef0e-4d6b-caf1-ae8a3cf88226"
      },
      "source": [
        "G = nx.parse_edgelist(open('collaboration_network_weighted.edgelist', 'r'), nodetype=int)"
      ],
      "execution_count": null,
      "outputs": [
        {
          "output_type": "stream",
          "text": [
            "time: 1min 2s (started: 2021-03-03 13:12:16 +00:00)\n"
          ],
          "name": "stdout"
        }
      ]
    },
    {
      "cell_type": "code",
      "metadata": {
        "colab": {
          "base_uri": "https://localhost:8080/"
        },
        "id": "utpRrgYj20J-",
        "outputId": "592a5226-4cce-4175-a9d1-92a7342356cb"
      },
      "source": [
        "# a changer le path to the repo\r\n",
        "%cd /content/drive/MyDrive/Polytechnique/P2/Altegrad/Project on h-index regression/GraphEmbedding-master \r\n"
      ],
      "execution_count": null,
      "outputs": [
        {
          "output_type": "stream",
          "text": [
            "/content/drive/.shortcut-targets-by-id/1kS1iQtluaRpEaZCHOindzTWlK9csEstr/Polytechnique/P2/Altegrad/Project on h-index regression/GraphEmbedding-master\n",
            "time: 10.5 ms (started: 2021-03-03 13:13:18 +00:00)\n"
          ],
          "name": "stdout"
        }
      ]
    },
    {
      "cell_type": "code",
      "metadata": {
        "colab": {
          "base_uri": "https://localhost:8080/"
        },
        "id": "N15d_YB_3xbM",
        "outputId": "3c0afa00-732f-4094-d190-037df9674c79"
      },
      "source": [
        "!python setup.py install"
      ],
      "execution_count": null,
      "outputs": [
        {
          "output_type": "stream",
          "text": [
            "running install\n",
            "running bdist_egg\n",
            "running egg_info\n",
            "writing ge.egg-info/PKG-INFO\n",
            "writing dependency_links to ge.egg-info/dependency_links.txt\n",
            "writing requirements to ge.egg-info/requires.txt\n",
            "writing top-level names to ge.egg-info/top_level.txt\n",
            "reading manifest file 'ge.egg-info/SOURCES.txt'\n",
            "writing manifest file 'ge.egg-info/SOURCES.txt'\n",
            "installing library code to build/bdist.linux-x86_64/egg\n",
            "running install_lib\n",
            "running build_py\n",
            "creating build/bdist.linux-x86_64/egg\n",
            "creating build/bdist.linux-x86_64/egg/ge\n",
            "copying build/lib/ge/walker.py -> build/bdist.linux-x86_64/egg/ge\n",
            "copying build/lib/ge/classify.py -> build/bdist.linux-x86_64/egg/ge\n",
            "copying build/lib/ge/__init__.py -> build/bdist.linux-x86_64/egg/ge\n",
            "copying build/lib/ge/utils.py -> build/bdist.linux-x86_64/egg/ge\n",
            "copying build/lib/ge/alias.py -> build/bdist.linux-x86_64/egg/ge\n",
            "creating build/bdist.linux-x86_64/egg/ge/models\n",
            "copying build/lib/ge/models/__init__.py -> build/bdist.linux-x86_64/egg/ge/models\n",
            "copying build/lib/ge/models/deepwalk.py -> build/bdist.linux-x86_64/egg/ge/models\n",
            "copying build/lib/ge/models/struc2vec.py -> build/bdist.linux-x86_64/egg/ge/models\n",
            "copying build/lib/ge/models/node2vec.py -> build/bdist.linux-x86_64/egg/ge/models\n",
            "copying build/lib/ge/models/sdne.py -> build/bdist.linux-x86_64/egg/ge/models\n",
            "copying build/lib/ge/models/line.py -> build/bdist.linux-x86_64/egg/ge/models\n",
            "byte-compiling build/bdist.linux-x86_64/egg/ge/walker.py to walker.cpython-37.pyc\n",
            "byte-compiling build/bdist.linux-x86_64/egg/ge/classify.py to classify.cpython-37.pyc\n",
            "byte-compiling build/bdist.linux-x86_64/egg/ge/__init__.py to __init__.cpython-37.pyc\n",
            "byte-compiling build/bdist.linux-x86_64/egg/ge/utils.py to utils.cpython-37.pyc\n",
            "byte-compiling build/bdist.linux-x86_64/egg/ge/alias.py to alias.cpython-37.pyc\n",
            "byte-compiling build/bdist.linux-x86_64/egg/ge/models/__init__.py to __init__.cpython-37.pyc\n",
            "byte-compiling build/bdist.linux-x86_64/egg/ge/models/deepwalk.py to deepwalk.cpython-37.pyc\n",
            "byte-compiling build/bdist.linux-x86_64/egg/ge/models/struc2vec.py to struc2vec.cpython-37.pyc\n",
            "byte-compiling build/bdist.linux-x86_64/egg/ge/models/node2vec.py to node2vec.cpython-37.pyc\n",
            "byte-compiling build/bdist.linux-x86_64/egg/ge/models/sdne.py to sdne.cpython-37.pyc\n",
            "byte-compiling build/bdist.linux-x86_64/egg/ge/models/line.py to line.cpython-37.pyc\n",
            "creating build/bdist.linux-x86_64/egg/EGG-INFO\n",
            "copying ge.egg-info/PKG-INFO -> build/bdist.linux-x86_64/egg/EGG-INFO\n",
            "copying ge.egg-info/SOURCES.txt -> build/bdist.linux-x86_64/egg/EGG-INFO\n",
            "copying ge.egg-info/dependency_links.txt -> build/bdist.linux-x86_64/egg/EGG-INFO\n",
            "copying ge.egg-info/requires.txt -> build/bdist.linux-x86_64/egg/EGG-INFO\n",
            "copying ge.egg-info/top_level.txt -> build/bdist.linux-x86_64/egg/EGG-INFO\n",
            "zip_safe flag not set; analyzing archive contents...\n",
            "creating 'dist/ge-0.0.0-py3.7.egg' and adding 'build/bdist.linux-x86_64/egg' to it\n",
            "removing 'build/bdist.linux-x86_64/egg' (and everything under it)\n",
            "Processing ge-0.0.0-py3.7.egg\n",
            "Removing /usr/local/lib/python3.7/dist-packages/ge-0.0.0-py3.7.egg\n",
            "Copying ge-0.0.0-py3.7.egg to /usr/local/lib/python3.7/dist-packages\n",
            "ge 0.0.0 is already the active version in easy-install.pth\n",
            "\n",
            "Installed /usr/local/lib/python3.7/dist-packages/ge-0.0.0-py3.7.egg\n",
            "Processing dependencies for ge==0.0.0\n",
            "Searching for matplotlib==3.2.2\n",
            "Best match: matplotlib 3.2.2\n",
            "Adding matplotlib 3.2.2 to easy-install.pth file\n",
            "\n",
            "Using /usr/local/lib/python3.7/dist-packages\n",
            "Searching for pandas==1.1.5\n",
            "Best match: pandas 1.1.5\n",
            "Adding pandas 1.1.5 to easy-install.pth file\n",
            "\n",
            "Using /usr/local/lib/python3.7/dist-packages\n",
            "Searching for scikit-learn==0.22.2.post1\n",
            "Best match: scikit-learn 0.22.2.post1\n",
            "Adding scikit-learn 0.22.2.post1 to easy-install.pth file\n",
            "\n",
            "Using /usr/local/lib/python3.7/dist-packages\n",
            "Searching for numpy==1.19.5\n",
            "Best match: numpy 1.19.5\n",
            "Adding numpy 1.19.5 to easy-install.pth file\n",
            "Installing f2py script to /usr/local/bin\n",
            "Installing f2py3 script to /usr/local/bin\n",
            "Installing f2py3.7 script to /usr/local/bin\n",
            "\n",
            "Using /usr/local/lib/python3.7/dist-packages\n",
            "Searching for tqdm==4.41.1\n",
            "Best match: tqdm 4.41.1\n",
            "Adding tqdm 4.41.1 to easy-install.pth file\n",
            "Installing tqdm script to /usr/local/bin\n",
            "\n",
            "Using /usr/local/lib/python3.7/dist-packages\n",
            "Searching for fastdtw==0.3.2\n",
            "Best match: fastdtw 0.3.2\n",
            "Processing fastdtw-0.3.2-py3.7-linux-x86_64.egg\n",
            "fastdtw 0.3.2 is already the active version in easy-install.pth\n",
            "\n",
            "Using /usr/local/lib/python3.7/dist-packages/fastdtw-0.3.2-py3.7-linux-x86_64.egg\n",
            "Searching for joblib==0.13.0\n",
            "Best match: joblib 0.13.0\n",
            "Processing joblib-0.13.0-py3.7.egg\n",
            "joblib 0.13.0 is already the active version in easy-install.pth\n",
            "\n",
            "Using /usr/local/lib/python3.7/dist-packages/joblib-0.13.0-py3.7.egg\n",
            "Searching for networkx==2.1\n",
            "Best match: networkx 2.1\n",
            "Processing networkx-2.1-py3.7.egg\n",
            "networkx 2.1 is already the active version in easy-install.pth\n",
            "\n",
            "Using /usr/local/lib/python3.7/dist-packages/networkx-2.1-py3.7.egg\n",
            "Searching for gensim==3.6.0\n",
            "Best match: gensim 3.6.0\n",
            "Adding gensim 3.6.0 to easy-install.pth file\n",
            "\n",
            "Using /usr/local/lib/python3.7/dist-packages\n",
            "Searching for python-dateutil==2.8.1\n",
            "Best match: python-dateutil 2.8.1\n",
            "Adding python-dateutil 2.8.1 to easy-install.pth file\n",
            "\n",
            "Using /usr/local/lib/python3.7/dist-packages\n",
            "Searching for kiwisolver==1.3.1\n",
            "Best match: kiwisolver 1.3.1\n",
            "Adding kiwisolver 1.3.1 to easy-install.pth file\n",
            "\n",
            "Using /usr/local/lib/python3.7/dist-packages\n",
            "Searching for pyparsing==2.4.7\n",
            "Best match: pyparsing 2.4.7\n",
            "Adding pyparsing 2.4.7 to easy-install.pth file\n",
            "\n",
            "Using /usr/local/lib/python3.7/dist-packages\n",
            "Searching for cycler==0.10.0\n",
            "Best match: cycler 0.10.0\n",
            "Adding cycler 0.10.0 to easy-install.pth file\n",
            "\n",
            "Using /usr/local/lib/python3.7/dist-packages\n",
            "Searching for pytz==2018.9\n",
            "Best match: pytz 2018.9\n",
            "Adding pytz 2018.9 to easy-install.pth file\n",
            "\n",
            "Using /usr/local/lib/python3.7/dist-packages\n",
            "Searching for scipy==1.4.1\n",
            "Best match: scipy 1.4.1\n",
            "Adding scipy 1.4.1 to easy-install.pth file\n",
            "\n",
            "Using /usr/local/lib/python3.7/dist-packages\n",
            "Searching for decorator==4.4.2\n",
            "Best match: decorator 4.4.2\n",
            "Adding decorator 4.4.2 to easy-install.pth file\n",
            "\n",
            "Using /usr/local/lib/python3.7/dist-packages\n",
            "Searching for smart-open==4.2.0\n",
            "Best match: smart-open 4.2.0\n",
            "Adding smart-open 4.2.0 to easy-install.pth file\n",
            "\n",
            "Using /usr/local/lib/python3.7/dist-packages\n",
            "Searching for six==1.15.0\n",
            "Best match: six 1.15.0\n",
            "Adding six 1.15.0 to easy-install.pth file\n",
            "\n",
            "Using /usr/local/lib/python3.7/dist-packages\n",
            "Finished processing dependencies for ge==0.0.0\n",
            "time: 2.88 s (started: 2021-03-03 13:13:18 +00:00)\n"
          ],
          "name": "stdout"
        }
      ]
    },
    {
      "cell_type": "code",
      "metadata": {
        "id": "zo1ynXB43NMP",
        "colab": {
          "base_uri": "https://localhost:8080/"
        },
        "outputId": "2c7d0d6d-d1ec-47c8-cfb3-17ca15fb86f3"
      },
      "source": [
        "#Hyper pram\r\n",
        "n_dim = 256\r\n",
        "n_walks = 100\r\n",
        "walk_length = 30"
      ],
      "execution_count": null,
      "outputs": [
        {
          "output_type": "stream",
          "text": [
            "time: 2.03 ms (started: 2021-02-27 13:06:47 +00:00)\n"
          ],
          "name": "stdout"
        }
      ]
    },
    {
      "cell_type": "markdown",
      "metadata": {
        "id": "AWvtcG1w3Rog"
      },
      "source": [
        "## Deep walk"
      ]
    },
    {
      "cell_type": "code",
      "metadata": {
        "colab": {
          "base_uri": "https://localhost:8080/"
        },
        "id": "lYCVKrr48rGD",
        "outputId": "f09f8c9f-3667-4063-e9e6-1c6404d1153e"
      },
      "source": [
        "# Maps old labels to new labels\r\n",
        "new_labels = dict( (i , str(i) ) for i in G.nodes() )\r\n",
        "# Relabel nodes\r\n",
        "G_str = nx.relabel_nodes(G,new_labels,False)  "
      ],
      "execution_count": null,
      "outputs": [
        {
          "output_type": "stream",
          "text": [
            "time: 37.6 s (started: 2021-02-26 08:18:46 +00:00)\n"
          ],
          "name": "stdout"
        }
      ]
    },
    {
      "cell_type": "code",
      "metadata": {
        "colab": {
          "base_uri": "https://localhost:8080/"
        },
        "id": "V8tqkeMH3WS8",
        "outputId": "34f6c6eb-3d64-47ac-fa8f-50eec725af59"
      },
      "source": [
        "from ge import DeepWalk\r\n",
        "model = DeepWalk(G_str, walk_length=walk_length, num_walks=n_walks, workers=1)#init model\r\n",
        "model.train(embed_size=n_dim)# train model\r\n",
        "embeddings = model.get_embeddings()# get embedding vectors"
      ],
      "execution_count": null,
      "outputs": [
        {
          "output_type": "stream",
          "text": [
            "[Parallel(n_jobs=1)]: Using backend SequentialBackend with 1 concurrent workers.\n",
            "[Parallel(n_jobs=1)]: Done   1 out of   1 | elapsed:  2.9min finished\n"
          ],
          "name": "stderr"
        },
        {
          "output_type": "stream",
          "text": [
            "Learning embedding vectors...\n"
          ],
          "name": "stdout"
        }
      ]
    },
    {
      "cell_type": "code",
      "metadata": {
        "colab": {
          "base_uri": "https://localhost:8080/",
          "height": 301
        },
        "id": "o7VpzDFFBseY",
        "outputId": "f178e872-f744-4a14-de29-c7309ad07084"
      },
      "source": [
        "df.head()"
      ],
      "execution_count": null,
      "outputs": [
        {
          "output_type": "execute_result",
          "data": {
            "text/html": [
              "<div>\n",
              "<style scoped>\n",
              "    .dataframe tbody tr th:only-of-type {\n",
              "        vertical-align: middle;\n",
              "    }\n",
              "\n",
              "    .dataframe tbody tr th {\n",
              "        vertical-align: top;\n",
              "    }\n",
              "\n",
              "    .dataframe thead th {\n",
              "        text-align: right;\n",
              "    }\n",
              "</style>\n",
              "<table border=\"1\" class=\"dataframe\">\n",
              "  <thead>\n",
              "    <tr style=\"text-align: right;\">\n",
              "      <th></th>\n",
              "      <th>0</th>\n",
              "      <th>1</th>\n",
              "      <th>2</th>\n",
              "      <th>3</th>\n",
              "      <th>4</th>\n",
              "      <th>5</th>\n",
              "      <th>6</th>\n",
              "      <th>7</th>\n",
              "      <th>8</th>\n",
              "      <th>9</th>\n",
              "      <th>10</th>\n",
              "      <th>11</th>\n",
              "      <th>12</th>\n",
              "      <th>13</th>\n",
              "      <th>14</th>\n",
              "      <th>15</th>\n",
              "      <th>16</th>\n",
              "      <th>17</th>\n",
              "      <th>18</th>\n",
              "      <th>19</th>\n",
              "      <th>20</th>\n",
              "      <th>21</th>\n",
              "      <th>22</th>\n",
              "      <th>23</th>\n",
              "      <th>24</th>\n",
              "      <th>25</th>\n",
              "      <th>26</th>\n",
              "      <th>27</th>\n",
              "      <th>28</th>\n",
              "      <th>29</th>\n",
              "      <th>30</th>\n",
              "      <th>31</th>\n",
              "      <th>32</th>\n",
              "      <th>33</th>\n",
              "      <th>34</th>\n",
              "      <th>35</th>\n",
              "      <th>36</th>\n",
              "      <th>37</th>\n",
              "      <th>38</th>\n",
              "      <th>39</th>\n",
              "      <th>...</th>\n",
              "      <th>88</th>\n",
              "      <th>89</th>\n",
              "      <th>90</th>\n",
              "      <th>91</th>\n",
              "      <th>92</th>\n",
              "      <th>93</th>\n",
              "      <th>94</th>\n",
              "      <th>95</th>\n",
              "      <th>96</th>\n",
              "      <th>97</th>\n",
              "      <th>98</th>\n",
              "      <th>99</th>\n",
              "      <th>100</th>\n",
              "      <th>101</th>\n",
              "      <th>102</th>\n",
              "      <th>103</th>\n",
              "      <th>104</th>\n",
              "      <th>105</th>\n",
              "      <th>106</th>\n",
              "      <th>107</th>\n",
              "      <th>108</th>\n",
              "      <th>109</th>\n",
              "      <th>110</th>\n",
              "      <th>111</th>\n",
              "      <th>112</th>\n",
              "      <th>113</th>\n",
              "      <th>114</th>\n",
              "      <th>115</th>\n",
              "      <th>116</th>\n",
              "      <th>117</th>\n",
              "      <th>118</th>\n",
              "      <th>119</th>\n",
              "      <th>120</th>\n",
              "      <th>121</th>\n",
              "      <th>122</th>\n",
              "      <th>123</th>\n",
              "      <th>124</th>\n",
              "      <th>125</th>\n",
              "      <th>126</th>\n",
              "      <th>127</th>\n",
              "    </tr>\n",
              "    <tr>\n",
              "      <th>authorID</th>\n",
              "      <th></th>\n",
              "      <th></th>\n",
              "      <th></th>\n",
              "      <th></th>\n",
              "      <th></th>\n",
              "      <th></th>\n",
              "      <th></th>\n",
              "      <th></th>\n",
              "      <th></th>\n",
              "      <th></th>\n",
              "      <th></th>\n",
              "      <th></th>\n",
              "      <th></th>\n",
              "      <th></th>\n",
              "      <th></th>\n",
              "      <th></th>\n",
              "      <th></th>\n",
              "      <th></th>\n",
              "      <th></th>\n",
              "      <th></th>\n",
              "      <th></th>\n",
              "      <th></th>\n",
              "      <th></th>\n",
              "      <th></th>\n",
              "      <th></th>\n",
              "      <th></th>\n",
              "      <th></th>\n",
              "      <th></th>\n",
              "      <th></th>\n",
              "      <th></th>\n",
              "      <th></th>\n",
              "      <th></th>\n",
              "      <th></th>\n",
              "      <th></th>\n",
              "      <th></th>\n",
              "      <th></th>\n",
              "      <th></th>\n",
              "      <th></th>\n",
              "      <th></th>\n",
              "      <th></th>\n",
              "      <th></th>\n",
              "      <th></th>\n",
              "      <th></th>\n",
              "      <th></th>\n",
              "      <th></th>\n",
              "      <th></th>\n",
              "      <th></th>\n",
              "      <th></th>\n",
              "      <th></th>\n",
              "      <th></th>\n",
              "      <th></th>\n",
              "      <th></th>\n",
              "      <th></th>\n",
              "      <th></th>\n",
              "      <th></th>\n",
              "      <th></th>\n",
              "      <th></th>\n",
              "      <th></th>\n",
              "      <th></th>\n",
              "      <th></th>\n",
              "      <th></th>\n",
              "      <th></th>\n",
              "      <th></th>\n",
              "      <th></th>\n",
              "      <th></th>\n",
              "      <th></th>\n",
              "      <th></th>\n",
              "      <th></th>\n",
              "      <th></th>\n",
              "      <th></th>\n",
              "      <th></th>\n",
              "      <th></th>\n",
              "      <th></th>\n",
              "      <th></th>\n",
              "      <th></th>\n",
              "      <th></th>\n",
              "      <th></th>\n",
              "      <th></th>\n",
              "      <th></th>\n",
              "      <th></th>\n",
              "      <th></th>\n",
              "    </tr>\n",
              "  </thead>\n",
              "  <tbody>\n",
              "    <tr>\n",
              "      <th>2811232256</th>\n",
              "      <td>-0.700594</td>\n",
              "      <td>0.536247</td>\n",
              "      <td>-0.702120</td>\n",
              "      <td>-0.154143</td>\n",
              "      <td>1.189856</td>\n",
              "      <td>0.088109</td>\n",
              "      <td>0.109493</td>\n",
              "      <td>0.467330</td>\n",
              "      <td>1.091008</td>\n",
              "      <td>0.125945</td>\n",
              "      <td>-0.067022</td>\n",
              "      <td>0.806139</td>\n",
              "      <td>0.027166</td>\n",
              "      <td>0.742652</td>\n",
              "      <td>-0.297541</td>\n",
              "      <td>0.099469</td>\n",
              "      <td>0.349131</td>\n",
              "      <td>-0.476117</td>\n",
              "      <td>0.508167</td>\n",
              "      <td>0.010630</td>\n",
              "      <td>-0.336774</td>\n",
              "      <td>0.485781</td>\n",
              "      <td>-0.449258</td>\n",
              "      <td>0.313447</td>\n",
              "      <td>-0.220388</td>\n",
              "      <td>-0.235123</td>\n",
              "      <td>0.350160</td>\n",
              "      <td>0.210591</td>\n",
              "      <td>-0.851338</td>\n",
              "      <td>-0.909582</td>\n",
              "      <td>0.377469</td>\n",
              "      <td>-0.397180</td>\n",
              "      <td>-0.112305</td>\n",
              "      <td>-0.730675</td>\n",
              "      <td>0.709452</td>\n",
              "      <td>-0.166814</td>\n",
              "      <td>-0.264570</td>\n",
              "      <td>0.267404</td>\n",
              "      <td>-0.890300</td>\n",
              "      <td>0.209053</td>\n",
              "      <td>...</td>\n",
              "      <td>-0.829969</td>\n",
              "      <td>0.167119</td>\n",
              "      <td>-0.559202</td>\n",
              "      <td>-0.522154</td>\n",
              "      <td>-0.313245</td>\n",
              "      <td>-0.675389</td>\n",
              "      <td>0.666860</td>\n",
              "      <td>0.908852</td>\n",
              "      <td>-0.275173</td>\n",
              "      <td>-0.062528</td>\n",
              "      <td>-0.300244</td>\n",
              "      <td>-0.232704</td>\n",
              "      <td>0.297268</td>\n",
              "      <td>0.061690</td>\n",
              "      <td>-0.253681</td>\n",
              "      <td>0.010111</td>\n",
              "      <td>0.592190</td>\n",
              "      <td>-1.456985</td>\n",
              "      <td>0.149339</td>\n",
              "      <td>0.349093</td>\n",
              "      <td>-0.234244</td>\n",
              "      <td>0.395349</td>\n",
              "      <td>-0.081155</td>\n",
              "      <td>0.425030</td>\n",
              "      <td>0.293423</td>\n",
              "      <td>-0.202995</td>\n",
              "      <td>-0.285919</td>\n",
              "      <td>0.643705</td>\n",
              "      <td>0.071169</td>\n",
              "      <td>1.369186</td>\n",
              "      <td>-0.831508</td>\n",
              "      <td>-0.323459</td>\n",
              "      <td>-0.521527</td>\n",
              "      <td>0.691571</td>\n",
              "      <td>-0.737787</td>\n",
              "      <td>0.299174</td>\n",
              "      <td>-0.310564</td>\n",
              "      <td>0.181778</td>\n",
              "      <td>0.344984</td>\n",
              "      <td>-0.321026</td>\n",
              "    </tr>\n",
              "    <tr>\n",
              "      <th>2231369732</th>\n",
              "      <td>0.146430</td>\n",
              "      <td>0.039708</td>\n",
              "      <td>0.145519</td>\n",
              "      <td>-0.110275</td>\n",
              "      <td>0.126038</td>\n",
              "      <td>0.422608</td>\n",
              "      <td>0.294441</td>\n",
              "      <td>-0.204920</td>\n",
              "      <td>0.919955</td>\n",
              "      <td>0.517140</td>\n",
              "      <td>-0.036698</td>\n",
              "      <td>0.166846</td>\n",
              "      <td>0.155180</td>\n",
              "      <td>-0.289016</td>\n",
              "      <td>0.030667</td>\n",
              "      <td>-0.542937</td>\n",
              "      <td>0.498932</td>\n",
              "      <td>0.226399</td>\n",
              "      <td>-0.101905</td>\n",
              "      <td>0.073733</td>\n",
              "      <td>-0.074103</td>\n",
              "      <td>-0.732774</td>\n",
              "      <td>0.500674</td>\n",
              "      <td>0.006040</td>\n",
              "      <td>-0.301969</td>\n",
              "      <td>-0.062110</td>\n",
              "      <td>-0.109131</td>\n",
              "      <td>0.189118</td>\n",
              "      <td>-0.298562</td>\n",
              "      <td>0.060541</td>\n",
              "      <td>0.772046</td>\n",
              "      <td>-0.047499</td>\n",
              "      <td>0.030082</td>\n",
              "      <td>-0.377116</td>\n",
              "      <td>-0.283199</td>\n",
              "      <td>-0.352946</td>\n",
              "      <td>0.650723</td>\n",
              "      <td>0.351094</td>\n",
              "      <td>-0.739227</td>\n",
              "      <td>-0.903983</td>\n",
              "      <td>...</td>\n",
              "      <td>0.167765</td>\n",
              "      <td>0.449066</td>\n",
              "      <td>-0.685457</td>\n",
              "      <td>0.317292</td>\n",
              "      <td>-0.322672</td>\n",
              "      <td>0.265250</td>\n",
              "      <td>0.059109</td>\n",
              "      <td>0.429963</td>\n",
              "      <td>-0.327539</td>\n",
              "      <td>0.131076</td>\n",
              "      <td>-0.630329</td>\n",
              "      <td>0.310579</td>\n",
              "      <td>0.259273</td>\n",
              "      <td>-0.042894</td>\n",
              "      <td>-0.117991</td>\n",
              "      <td>-0.181318</td>\n",
              "      <td>-0.775035</td>\n",
              "      <td>-0.102093</td>\n",
              "      <td>0.098333</td>\n",
              "      <td>-0.675847</td>\n",
              "      <td>1.079068</td>\n",
              "      <td>0.002419</td>\n",
              "      <td>0.380430</td>\n",
              "      <td>-0.192684</td>\n",
              "      <td>-0.005607</td>\n",
              "      <td>0.106166</td>\n",
              "      <td>-0.592483</td>\n",
              "      <td>0.755167</td>\n",
              "      <td>-0.220544</td>\n",
              "      <td>0.361344</td>\n",
              "      <td>0.441071</td>\n",
              "      <td>0.009435</td>\n",
              "      <td>-0.345728</td>\n",
              "      <td>0.268108</td>\n",
              "      <td>0.232140</td>\n",
              "      <td>0.032919</td>\n",
              "      <td>0.655839</td>\n",
              "      <td>-0.086898</td>\n",
              "      <td>0.096106</td>\n",
              "      <td>-0.005643</td>\n",
              "    </tr>\n",
              "    <tr>\n",
              "      <th>2138570756</th>\n",
              "      <td>0.578427</td>\n",
              "      <td>0.995748</td>\n",
              "      <td>-0.056903</td>\n",
              "      <td>-0.418689</td>\n",
              "      <td>0.862017</td>\n",
              "      <td>0.463203</td>\n",
              "      <td>0.738235</td>\n",
              "      <td>-1.151097</td>\n",
              "      <td>0.468837</td>\n",
              "      <td>0.559307</td>\n",
              "      <td>-0.192701</td>\n",
              "      <td>-0.154343</td>\n",
              "      <td>0.262031</td>\n",
              "      <td>0.781251</td>\n",
              "      <td>0.492480</td>\n",
              "      <td>-0.119424</td>\n",
              "      <td>0.336151</td>\n",
              "      <td>-0.488268</td>\n",
              "      <td>1.445146</td>\n",
              "      <td>0.349162</td>\n",
              "      <td>0.331278</td>\n",
              "      <td>-0.769405</td>\n",
              "      <td>0.250452</td>\n",
              "      <td>1.162369</td>\n",
              "      <td>-0.099078</td>\n",
              "      <td>0.172803</td>\n",
              "      <td>-0.056218</td>\n",
              "      <td>-0.338600</td>\n",
              "      <td>-0.380206</td>\n",
              "      <td>-0.928179</td>\n",
              "      <td>0.655403</td>\n",
              "      <td>-0.125771</td>\n",
              "      <td>0.945316</td>\n",
              "      <td>-0.851464</td>\n",
              "      <td>0.163893</td>\n",
              "      <td>0.567867</td>\n",
              "      <td>0.636821</td>\n",
              "      <td>-0.153915</td>\n",
              "      <td>0.364191</td>\n",
              "      <td>-0.180532</td>\n",
              "      <td>...</td>\n",
              "      <td>0.994085</td>\n",
              "      <td>0.614035</td>\n",
              "      <td>1.248970</td>\n",
              "      <td>0.927409</td>\n",
              "      <td>-1.778887</td>\n",
              "      <td>0.709334</td>\n",
              "      <td>-1.197690</td>\n",
              "      <td>0.383125</td>\n",
              "      <td>1.043256</td>\n",
              "      <td>-0.029431</td>\n",
              "      <td>-0.598992</td>\n",
              "      <td>0.781046</td>\n",
              "      <td>-1.539336</td>\n",
              "      <td>0.734831</td>\n",
              "      <td>-0.777647</td>\n",
              "      <td>0.556622</td>\n",
              "      <td>-0.241399</td>\n",
              "      <td>-0.942597</td>\n",
              "      <td>0.481439</td>\n",
              "      <td>-0.579484</td>\n",
              "      <td>-0.326054</td>\n",
              "      <td>-0.223943</td>\n",
              "      <td>1.634803</td>\n",
              "      <td>0.766759</td>\n",
              "      <td>-0.803868</td>\n",
              "      <td>0.632717</td>\n",
              "      <td>-0.528895</td>\n",
              "      <td>0.271721</td>\n",
              "      <td>-0.090071</td>\n",
              "      <td>-0.091285</td>\n",
              "      <td>1.348981</td>\n",
              "      <td>0.706690</td>\n",
              "      <td>-0.636818</td>\n",
              "      <td>-0.431727</td>\n",
              "      <td>-0.524515</td>\n",
              "      <td>0.502437</td>\n",
              "      <td>-1.772266</td>\n",
              "      <td>1.459054</td>\n",
              "      <td>0.259837</td>\n",
              "      <td>-0.425322</td>\n",
              "    </tr>\n",
              "    <tr>\n",
              "      <th>41943048</th>\n",
              "      <td>0.292996</td>\n",
              "      <td>-0.319963</td>\n",
              "      <td>-0.822594</td>\n",
              "      <td>0.348158</td>\n",
              "      <td>0.296819</td>\n",
              "      <td>0.278393</td>\n",
              "      <td>-0.208899</td>\n",
              "      <td>0.111571</td>\n",
              "      <td>-0.121168</td>\n",
              "      <td>0.157193</td>\n",
              "      <td>-0.616087</td>\n",
              "      <td>-0.528806</td>\n",
              "      <td>-1.183039</td>\n",
              "      <td>0.724731</td>\n",
              "      <td>0.944700</td>\n",
              "      <td>-0.566430</td>\n",
              "      <td>-1.135047</td>\n",
              "      <td>-2.013440</td>\n",
              "      <td>1.506503</td>\n",
              "      <td>0.175919</td>\n",
              "      <td>-0.202859</td>\n",
              "      <td>-0.042361</td>\n",
              "      <td>-0.327237</td>\n",
              "      <td>0.577442</td>\n",
              "      <td>1.086206</td>\n",
              "      <td>-0.225088</td>\n",
              "      <td>-0.444610</td>\n",
              "      <td>-0.405221</td>\n",
              "      <td>0.301496</td>\n",
              "      <td>0.753871</td>\n",
              "      <td>0.380406</td>\n",
              "      <td>0.134494</td>\n",
              "      <td>0.735522</td>\n",
              "      <td>-1.115940</td>\n",
              "      <td>0.502755</td>\n",
              "      <td>-0.234585</td>\n",
              "      <td>-1.905087</td>\n",
              "      <td>0.854919</td>\n",
              "      <td>-0.415732</td>\n",
              "      <td>0.416615</td>\n",
              "      <td>...</td>\n",
              "      <td>-0.813836</td>\n",
              "      <td>1.274979</td>\n",
              "      <td>0.402333</td>\n",
              "      <td>-0.264997</td>\n",
              "      <td>-1.096639</td>\n",
              "      <td>-0.702043</td>\n",
              "      <td>-0.423471</td>\n",
              "      <td>-0.613678</td>\n",
              "      <td>0.048840</td>\n",
              "      <td>0.423995</td>\n",
              "      <td>-0.271779</td>\n",
              "      <td>-0.543791</td>\n",
              "      <td>0.243238</td>\n",
              "      <td>-1.448739</td>\n",
              "      <td>0.060276</td>\n",
              "      <td>0.462705</td>\n",
              "      <td>-0.309543</td>\n",
              "      <td>-2.232011</td>\n",
              "      <td>-0.596301</td>\n",
              "      <td>0.017452</td>\n",
              "      <td>-0.463879</td>\n",
              "      <td>0.308276</td>\n",
              "      <td>0.356301</td>\n",
              "      <td>0.140470</td>\n",
              "      <td>-0.126050</td>\n",
              "      <td>2.036283</td>\n",
              "      <td>-0.809613</td>\n",
              "      <td>-0.364030</td>\n",
              "      <td>1.529073</td>\n",
              "      <td>-0.266029</td>\n",
              "      <td>0.845644</td>\n",
              "      <td>0.820670</td>\n",
              "      <td>0.548721</td>\n",
              "      <td>-0.107398</td>\n",
              "      <td>-0.837809</td>\n",
              "      <td>1.627898</td>\n",
              "      <td>-0.254597</td>\n",
              "      <td>-1.155637</td>\n",
              "      <td>-0.591364</td>\n",
              "      <td>0.106400</td>\n",
              "    </tr>\n",
              "    <tr>\n",
              "      <th>2014838794</th>\n",
              "      <td>0.326513</td>\n",
              "      <td>0.198054</td>\n",
              "      <td>0.025147</td>\n",
              "      <td>-0.296216</td>\n",
              "      <td>-0.235460</td>\n",
              "      <td>-0.448570</td>\n",
              "      <td>0.087317</td>\n",
              "      <td>0.138287</td>\n",
              "      <td>0.028561</td>\n",
              "      <td>0.178283</td>\n",
              "      <td>0.315265</td>\n",
              "      <td>-0.389226</td>\n",
              "      <td>0.284661</td>\n",
              "      <td>-0.108501</td>\n",
              "      <td>0.071854</td>\n",
              "      <td>-0.024936</td>\n",
              "      <td>-0.419399</td>\n",
              "      <td>0.059653</td>\n",
              "      <td>0.132076</td>\n",
              "      <td>0.364576</td>\n",
              "      <td>-0.011489</td>\n",
              "      <td>0.371706</td>\n",
              "      <td>0.123921</td>\n",
              "      <td>0.755081</td>\n",
              "      <td>-0.202565</td>\n",
              "      <td>0.372897</td>\n",
              "      <td>-0.312050</td>\n",
              "      <td>-0.258604</td>\n",
              "      <td>-0.117871</td>\n",
              "      <td>0.189429</td>\n",
              "      <td>-0.000510</td>\n",
              "      <td>0.449615</td>\n",
              "      <td>0.332844</td>\n",
              "      <td>-0.556808</td>\n",
              "      <td>-0.393914</td>\n",
              "      <td>0.261120</td>\n",
              "      <td>0.047434</td>\n",
              "      <td>-0.336479</td>\n",
              "      <td>-0.455439</td>\n",
              "      <td>0.318008</td>\n",
              "      <td>...</td>\n",
              "      <td>0.111478</td>\n",
              "      <td>-0.022750</td>\n",
              "      <td>-0.338550</td>\n",
              "      <td>-0.005776</td>\n",
              "      <td>-0.521950</td>\n",
              "      <td>0.558982</td>\n",
              "      <td>-0.385205</td>\n",
              "      <td>-0.388300</td>\n",
              "      <td>0.175309</td>\n",
              "      <td>-0.220432</td>\n",
              "      <td>0.002835</td>\n",
              "      <td>0.017041</td>\n",
              "      <td>-0.129841</td>\n",
              "      <td>-0.197787</td>\n",
              "      <td>0.060393</td>\n",
              "      <td>0.566102</td>\n",
              "      <td>-0.186861</td>\n",
              "      <td>-0.273838</td>\n",
              "      <td>-0.346707</td>\n",
              "      <td>0.226813</td>\n",
              "      <td>-0.140548</td>\n",
              "      <td>-0.140052</td>\n",
              "      <td>-0.089140</td>\n",
              "      <td>-0.007833</td>\n",
              "      <td>-0.226309</td>\n",
              "      <td>-0.005409</td>\n",
              "      <td>-0.226619</td>\n",
              "      <td>0.542895</td>\n",
              "      <td>-0.255972</td>\n",
              "      <td>-0.132935</td>\n",
              "      <td>-0.235336</td>\n",
              "      <td>-0.377979</td>\n",
              "      <td>-0.296388</td>\n",
              "      <td>0.345297</td>\n",
              "      <td>-0.322621</td>\n",
              "      <td>0.110046</td>\n",
              "      <td>-0.176215</td>\n",
              "      <td>-0.322533</td>\n",
              "      <td>0.174791</td>\n",
              "      <td>0.029051</td>\n",
              "    </tr>\n",
              "  </tbody>\n",
              "</table>\n",
              "<p>5 rows × 128 columns</p>\n",
              "</div>"
            ],
            "text/plain": [
              "                 0         1         2    ...       125       126       127\n",
              "authorID                                  ...                              \n",
              "2811232256 -0.700594  0.536247 -0.702120  ...  0.181778  0.344984 -0.321026\n",
              "2231369732  0.146430  0.039708  0.145519  ... -0.086898  0.096106 -0.005643\n",
              "2138570756  0.578427  0.995748 -0.056903  ...  1.459054  0.259837 -0.425322\n",
              "41943048    0.292996 -0.319963 -0.822594  ... -1.155637 -0.591364  0.106400\n",
              "2014838794  0.326513  0.198054  0.025147  ... -0.322533  0.174791  0.029051\n",
              "\n",
              "[5 rows x 128 columns]"
            ]
          },
          "metadata": {
            "tags": []
          },
          "execution_count": 22
        },
        {
          "output_type": "stream",
          "text": [
            "time: 115 ms (started: 2021-02-25 21:12:20 +00:00)\n"
          ],
          "name": "stdout"
        }
      ]
    },
    {
      "cell_type": "code",
      "metadata": {
        "colab": {
          "base_uri": "https://localhost:8080/"
        },
        "id": "H1awLCiA3Xuv",
        "outputId": "83280481-1892-4a1d-fc99-e03ad5a4da00"
      },
      "source": [
        "df = pd.DataFrame.from_dict(embeddings, orient='index')#pd.DataFrame(embeddings)#, index = list(G.nodes))\r\n",
        "df.index.name = 'authorID'\r\n",
        "df.to_csv('DeepWalk2_128.csv')"
      ],
      "execution_count": null,
      "outputs": [
        {
          "output_type": "stream",
          "text": [
            "time: 1min 1s (started: 2021-02-25 21:13:18 +00:00)\n"
          ],
          "name": "stdout"
        }
      ]
    },
    {
      "cell_type": "markdown",
      "metadata": {
        "id": "0k02DlpY1kEn"
      },
      "source": [
        "## LINE\r\n"
      ]
    },
    {
      "cell_type": "code",
      "metadata": {
        "id": "6Cr9GWgT1jVu",
        "colab": {
          "base_uri": "https://localhost:8080/"
        },
        "outputId": "b337ec53-2bd7-4f63-9caf-1b90b0988f76"
      },
      "source": [
        "from ge import LINE\r\n",
        "\r\n",
        "model = LINE(G,embedding_size=n_dim,order='second') #init model,order can be ['first','second','all']\r\n",
        "model.train(batch_size=512,epochs=20,verbose=2)# train model\r\n",
        "embeddings = model.get_embeddings()# get embedding vectors"
      ],
      "execution_count": null,
      "outputs": [
        {
          "output_type": "stream",
          "text": [
            "/usr/local/lib/python3.7/dist-packages/tensorflow/python/keras/engine/training.py:1844: UserWarning: `Model.fit_generator` is deprecated and will be removed in a future version. Please use `Model.fit`, which supports generators.\n",
            "  warnings.warn('`Model.fit_generator` is deprecated and '\n"
          ],
          "name": "stderr"
        },
        {
          "output_type": "stream",
          "text": [
            "Epoch 1/20\n",
            "34949/34949 - 5429s - loss: 0.3201\n",
            "Epoch 2/20\n",
            "34949/34949 - 5382s - loss: 0.2059\n",
            "Epoch 3/20\n",
            "34949/34949 - 5369s - loss: 0.1836\n",
            "Epoch 4/20\n",
            "34949/34949 - 5400s - loss: 0.1674\n",
            "Epoch 5/20\n",
            "34949/34949 - 5359s - loss: 0.1537\n",
            "Epoch 6/20\n",
            "34949/34949 - 5299s - loss: 0.1420\n",
            "Epoch 7/20\n"
          ],
          "name": "stdout"
        }
      ]
    },
    {
      "cell_type": "code",
      "metadata": {
        "id": "stGxGImO8AHQ"
      },
      "source": [
        "embeddings = model.get_embeddings()"
      ],
      "execution_count": null,
      "outputs": []
    },
    {
      "cell_type": "code",
      "metadata": {
        "id": "xt-1LR-t8C_u"
      },
      "source": [
        "embeddings"
      ],
      "execution_count": null,
      "outputs": []
    },
    {
      "cell_type": "code",
      "metadata": {
        "colab": {
          "base_uri": "https://localhost:8080/"
        },
        "id": "wiqa2z7M89Pr",
        "outputId": "9ee54af4-f4aa-4f38-d4a3-5ca979385417"
      },
      "source": [
        "% ls"
      ],
      "execution_count": null,
      "outputs": [
        {
          "output_type": "stream",
          "text": [
            "\u001b[0m\u001b[01;34mbuild\u001b[0m/                  \u001b[01;34mdist\u001b[0m/         LICENSE       setup.py\n",
            "\u001b[01;34mdata\u001b[0m/                   \u001b[01;34mexamples\u001b[0m/     LINE_128.csv  \u001b[01;34mtemp_struc2vec\u001b[0m/\n",
            "DeepWalk2_128.csv       \u001b[01;34mge\u001b[0m/           \u001b[01;34mpics\u001b[0m/\n",
            "DeepWalk2_64_20_10.csv  \u001b[01;34mge.egg-info\u001b[0m/  README.md\n"
          ],
          "name": "stdout"
        }
      ]
    },
    {
      "cell_type": "code",
      "metadata": {
        "id": "Om09u4nB4w25"
      },
      "source": [
        "df = pd.DataFrame.from_dict(embeddings, orient='index')\r\n",
        "df.index.name = 'authorID'\r\n",
        "df.to_csv('LINE_128.csv')"
      ],
      "execution_count": null,
      "outputs": []
    },
    {
      "cell_type": "markdown",
      "metadata": {
        "id": "ponFjvt44xNn"
      },
      "source": [
        "## Node2Vec "
      ]
    },
    {
      "cell_type": "code",
      "metadata": {
        "colab": {
          "base_uri": "https://localhost:8080/"
        },
        "id": "D2l5OLt-nX7D",
        "outputId": "c4148d58-f9e5-4502-b659-7d75846d72fc"
      },
      "source": [
        "from ge import Node2Vec\r\n",
        "model = Node2Vec(G, walk_length = walk_length, num_walks = n_walks,p = 0.25, q = 4, workers = 1)#init model\r\n",
        "model.train(window_size = 5, iter = 3)# train model\r\n",
        "embeddings = model.get_embeddings()# get embedding vectors"
      ],
      "execution_count": null,
      "outputs": [
        {
          "output_type": "stream",
          "text": [
            "Preprocess transition probs...\n"
          ],
          "name": "stdout"
        }
      ]
    },
    {
      "cell_type": "code",
      "metadata": {
        "id": "CT2zTZfgngOj"
      },
      "source": [
        "df = pd.DataFrame(embeddings, index = list(G.nodes))\r\n",
        "df.index.name = 'authorID'\r\n",
        "df.to_csv('Node2Vec_128.csv')"
      ],
      "execution_count": null,
      "outputs": []
    }
  ]
}